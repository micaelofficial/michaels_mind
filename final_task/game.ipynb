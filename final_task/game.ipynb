{
 "cells": [
  {
   "cell_type": "markdown",
   "metadata": {},
   "source": [
    "# The Guessing Game"
   ]
  },
  {
   "cell_type": "markdown",
   "metadata": {},
   "source": [
    "## Welcome. This is my first project.\n",
    "### Here's a little game: the computer picks the number, then it tries to guess it."
   ]
  },
  {
   "cell_type": "code",
   "execution_count": 80,
   "metadata": {},
   "outputs": [
    {
     "name": "stdout",
     "output_type": "stream",
     "text": [
      "Welcome to Michael's first project. We're gonna guess the number our computer picks.\n",
      "Get ready!\n"
     ]
    }
   ],
   "source": [
    "from random import randint\n",
    "print(\"Welcome to Michael's first project. We're gonna guess the number our computer picks.\")\n",
    "print('Get ready!')\n",
    "cycle_num = int(input('Please, input the number of cycles:'))"
   ]
  },
  {
   "cell_type": "markdown",
   "metadata": {},
   "source": [
    "#### First you can set the number of game *cycles*. It's important. If we have only a few cycles we can't find out\n",
    "#### the **mean value** correctly.\n"
   ]
  },
  {
   "cell_type": "code",
   "execution_count": 81,
   "metadata": {},
   "outputs": [],
   "source": [
    "total_num = 0\n",
    "cycle = 0"
   ]
  },
  {
   "cell_type": "markdown",
   "metadata": {},
   "source": [
    "#### **total_num** is a total number of attempts the computer makes to guess numbers\n",
    "#### **cycle** is one cycle of game. Cycle ends when the computer finds out the correct number\n",
    "\n",
    "#### I decided to divide the *range* of possible options by four.\n",
    "#### The system tries the number 50 first. Then depends on the result it tries 25 or 75.\n",
    "#### Then it just goes up or down until it finds the correct one.\n"
   ]
  },
  {
   "cell_type": "code",
   "execution_count": 82,
   "metadata": {},
   "outputs": [],
   "source": [
    "while cycle < cycle_num:\n",
    "    cycle += 1\n",
    "    a = randint(1, 101)\n",
    "    b = 50\n",
    "    attempt = 0\n",
    "    if b < a:\n",
    "        attempt += 1\n",
    "        b = 75\n",
    "        while b != a:\n",
    "            if b > a:\n",
    "                attempt += 1\n",
    "                b -= 1\n",
    "            else:\n",
    "                attempt += 1\n",
    "                b += 1\n",
    "    elif b > a:\n",
    "        attempt += 1\n",
    "        b = 25\n",
    "        while b != a:\n",
    "            if b > a:\n",
    "                attempt += 1\n",
    "                b -= 1\n",
    "            else:\n",
    "                attempt += 1\n",
    "                b += 1\n",
    "    else:\n",
    "        attempt += 1\n",
    "\n",
    "    total_num += attempt\n",
    "mean_num = round(total_num/cycle_num)"
   ]
  },
  {
   "cell_type": "markdown",
   "metadata": {},
   "source": [
    "#### To find out the **mean value** we need to divide the total number of attempts by the number of cycles.\n",
    "#### And, of course, round it up\n"
   ]
  },
  {
   "cell_type": "code",
   "execution_count": 83,
   "metadata": {},
   "outputs": [
    {
     "name": "stdout",
     "output_type": "stream",
     "text": [
      "We did it!! It took approximately 13 attempts per cycle\n",
      "Thanks for playing!\n"
     ]
    }
   ],
   "source": [
    "print(f'We did it!! It took approximately {int(mean_num)} attempts per cycle')\n",
    "print('Thanks for playing!')"
   ]
  },
  {
   "cell_type": "markdown",
   "metadata": {},
   "source": [
    "#### PS I understand that the way I've chosen to solve this problem isn't perfect, but anyway the condition is satisfied.\n",
    "#### I would like to read your feedback and any kind of constructive critisism.\n",
    "#### Thanks a lot!\n",
    "#### Sincerely,\n",
    "#### Michael"
   ]
  }
 ],
 "metadata": {
  "kernelspec": {
   "display_name": "Python 3.10.5 64-bit",
   "language": "python",
   "name": "python3"
  },
  "language_info": {
   "codemirror_mode": {
    "name": "ipython",
    "version": 3
   },
   "file_extension": ".py",
   "mimetype": "text/x-python",
   "name": "python",
   "nbconvert_exporter": "python",
   "pygments_lexer": "ipython3",
   "version": "3.10.5"
  },
  "orig_nbformat": 4,
  "vscode": {
   "interpreter": {
    "hash": "e9d51b002e47cd8f8b04d9faed033f591ac84a07f04044c78e9bcf9186acbbf0"
   }
  }
 },
 "nbformat": 4,
 "nbformat_minor": 2
}
