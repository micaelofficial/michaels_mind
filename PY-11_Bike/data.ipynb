{
 "cells": [
  {
   "cell_type": "code",
   "execution_count": 63,
   "metadata": {},
   "outputs": [
    {
     "data": {
      "text/plain": [
       "afternoon    143012\n",
       "morning       76373\n",
       "evening       46373\n",
       "else          19157\n",
       "night         15085\n",
       "Name: time of day, dtype: int64"
      ]
     },
     "metadata": {},
     "output_type": "display_data"
    },
    {
     "data": {
      "text/plain": [
       "9.480411004308916"
      ]
     },
     "metadata": {},
     "output_type": "display_data"
    }
   ],
   "source": [
    "import pandas as pd\n",
    "import datetime\n",
    "\n",
    "bikee = pd.read_csv('data/bike.csv', sep = ',')\n",
    "bike = bikee.copy()\n",
    "bike = bike.drop(['start station id', 'end station id'], axis=1)\n",
    "bike['age'] = 2018 - bike['birth year']\n",
    "retired = bike['age'] > 60\n",
    "bike['starttime'] = pd.to_datetime(bike['starttime'])\n",
    "bike['stoptime'] = pd.to_datetime(bike['stoptime'])\n",
    "bike['trip duration'] = bike['stoptime'] - bike['starttime']\n",
    "weekday = bike['starttime'].dt.dayofweek\n",
    "bike['weekend'] = weekday.apply(lambda x: 1 if x == 5 or x == 6 else 0)\n",
    "def get_time_of_day(time):\n",
    "    if 0 <= time <=6:\n",
    "        return 'night'\n",
    "    elif 6 < time < 12:\n",
    "        return 'morning'\n",
    "    elif 12 < time <= 18:\n",
    "        return 'afternoon'\n",
    "    elif 18 < time <= 23:\n",
    "        return 'evening'\n",
    "    else:\n",
    "        return 'else'\n",
    "bike['time of day'] = bike['starttime'].dt.hour.apply(get_time_of_day)\n",
    "display(bike['time of day'].value_counts())\n",
    "display(143012/15085)"
   ]
  }
 ],
 "metadata": {
  "kernelspec": {
   "display_name": "Python 3.10.5 64-bit",
   "language": "python",
   "name": "python3"
  },
  "language_info": {
   "codemirror_mode": {
    "name": "ipython",
    "version": 3
   },
   "file_extension": ".py",
   "mimetype": "text/x-python",
   "name": "python",
   "nbconvert_exporter": "python",
   "pygments_lexer": "ipython3",
   "version": "3.10.5"
  },
  "orig_nbformat": 4,
  "vscode": {
   "interpreter": {
    "hash": "e9d51b002e47cd8f8b04d9faed033f591ac84a07f04044c78e9bcf9186acbbf0"
   }
  }
 },
 "nbformat": 4,
 "nbformat_minor": 2
}
