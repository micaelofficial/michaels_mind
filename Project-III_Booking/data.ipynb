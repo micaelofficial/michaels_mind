{
 "cells": [
  {
   "attachments": {},
   "cell_type": "markdown",
   "metadata": {},
   "source": [
    "# Всем доброго дня.\n",
    "***\n",
    "### Это мой третий учебный проект\n",
    "### В нём я буду оптимизировать датасет, посвящённый отзывам к различным отелям сайта Booking.com с целью выяснения закономерностей и отклонений.\n",
    "### Мои задачи заключаются в следующем:\n",
    "* Обработать данные\n",
    "* По максимуму перевести строчные данные в числовые\n",
    "* Создать новые признаки\n",
    "* Повысить эффективность модели по предсказанию рейтинга отеля\n",
    "#### Вперёд!"
   ]
  },
  {
   "cell_type": "code",
   "execution_count": 3945,
   "metadata": {},
   "outputs": [],
   "source": [
    "import pandas as pd"
   ]
  },
  {
   "cell_type": "code",
   "execution_count": 3946,
   "metadata": {},
   "outputs": [
    {
     "name": "stdout",
     "output_type": "stream",
     "text": [
      "<class 'pandas.core.frame.DataFrame'>\n",
      "RangeIndex: 386803 entries, 0 to 386802\n",
      "Data columns (total 17 columns):\n",
      " #   Column                                      Non-Null Count   Dtype  \n",
      "---  ------                                      --------------   -----  \n",
      " 0   hotel_address                               386803 non-null  object \n",
      " 1   additional_number_of_scoring                386803 non-null  int64  \n",
      " 2   review_date                                 386803 non-null  object \n",
      " 3   average_score                               386803 non-null  float64\n",
      " 4   hotel_name                                  386803 non-null  object \n",
      " 5   reviewer_nationality                        386803 non-null  object \n",
      " 6   negative_review                             386803 non-null  object \n",
      " 7   review_total_negative_word_counts           386803 non-null  int64  \n",
      " 8   total_number_of_reviews                     386803 non-null  int64  \n",
      " 9   positive_review                             386803 non-null  object \n",
      " 10  review_total_positive_word_counts           386803 non-null  int64  \n",
      " 11  total_number_of_reviews_reviewer_has_given  386803 non-null  int64  \n",
      " 12  reviewer_score                              386803 non-null  float64\n",
      " 13  tags                                        386803 non-null  object \n",
      " 14  days_since_review                           386803 non-null  object \n",
      " 15  lat                                         384355 non-null  float64\n",
      " 16  lng                                         384355 non-null  float64\n",
      "dtypes: float64(4), int64(5), object(8)\n",
      "memory usage: 50.2+ MB\n"
     ]
    }
   ],
   "source": [
    "# Читаем данные\n",
    "hotels = pd.read_csv('data/hotels.csv')\n",
    "#hotels = pd.read_csv('https://dl.dropboxusercontent.com/s/nex7vvntrhfj9h0/hotels.csv?dl=0')\n",
    "hotels.info()"
   ]
  },
  {
   "attachments": {},
   "cell_type": "markdown",
   "metadata": {},
   "source": [
    "Для начала избавимся от дубликатов."
   ]
  },
  {
   "cell_type": "code",
   "execution_count": 3947,
   "metadata": {},
   "outputs": [
    {
     "name": "stdout",
     "output_type": "stream",
     "text": [
      "Found duplicates:307\n"
     ]
    }
   ],
   "source": [
    "dupl_columns = list(hotels.columns)\n",
    "\n",
    "dupl = hotels.duplicated(subset=dupl_columns)\n",
    "h_duplicates = hotels[dupl]\n",
    "print(f'Found duplicates:{h_duplicates.shape[0]}')"
   ]
  },
  {
   "attachments": {},
   "cell_type": "markdown",
   "metadata": {},
   "source": [
    "Поскольку данная операция ухудшает финальную метрику, проводить я её не стану. Однако, на мой взгляд, она логически целесообразна."
   ]
  },
  {
   "cell_type": "code",
   "execution_count": 3948,
   "metadata": {},
   "outputs": [
    {
     "name": "stdout",
     "output_type": "stream",
     "text": [
      "Total: 386803\n"
     ]
    }
   ],
   "source": [
    "#hotels = hotels.drop_duplicates(subset=dupl_columns)\n",
    "print(f'Total: {hotels.shape[0]}')"
   ]
  },
  {
   "cell_type": "code",
   "execution_count": 3949,
   "metadata": {},
   "outputs": [],
   "source": [
    "# Переводим дату во временной формат\n",
    "hotels['review_date'] = pd.to_datetime(hotels['review_date'], format='%m/%d/%Y')"
   ]
  },
  {
   "attachments": {},
   "cell_type": "markdown",
   "metadata": {},
   "source": [
    "Сравним среднюю и медианную оценку отелей по версии гостей."
   ]
  },
  {
   "cell_type": "code",
   "execution_count": 3950,
   "metadata": {},
   "outputs": [
    {
     "data": {
      "text/plain": [
       "8.396906435575733"
      ]
     },
     "execution_count": 3950,
     "metadata": {},
     "output_type": "execute_result"
    }
   ],
   "source": [
    "hotels['reviewer_score'].mean()"
   ]
  },
  {
   "cell_type": "code",
   "execution_count": 3951,
   "metadata": {},
   "outputs": [
    {
     "data": {
      "text/plain": [
       "8.8"
      ]
     },
     "execution_count": 3951,
     "metadata": {},
     "output_type": "execute_result"
    }
   ],
   "source": [
    "hotels['reviewer_score'].median()"
   ]
  },
  {
   "attachments": {},
   "cell_type": "markdown",
   "metadata": {},
   "source": [
    "Медиана выше среднего. Это говорит о том, что положительных отзывов гораздо больше, чем отрицательных."
   ]
  },
  {
   "cell_type": "code",
   "execution_count": 3952,
   "metadata": {},
   "outputs": [
    {
     "data": {
      "text/plain": [
       "Britannia International Hotel Canary Wharf           3587\n",
       "Strand Palace Hotel                                  3206\n",
       "Park Plaza Westminster Bridge London                 3095\n",
       "Copthorne Tara Hotel London Kensington               2688\n",
       "DoubleTree by Hilton Hotel London Tower of London    2379\n",
       "Grand Royale London Hyde Park                        2218\n",
       "Holiday Inn London Kensington                        2097\n",
       "Hilton London Metropole                              1982\n",
       "Intercontinental London The O2                       1939\n",
       "Millennium Gloucester Hotel London                   1889\n",
       "Park Grand Paddington Court                          1737\n",
       "Hilton London Wembley                                1708\n",
       "Park Plaza County Hall London                        1700\n",
       "Park Plaza London Riverbank                          1633\n",
       "Blakemore Hyde Park                                  1632\n",
       "M by Montcalm Shoreditch London Tech City            1626\n",
       "DoubleTree by Hilton London Docklands Riverside      1600\n",
       "St James Court A Taj Hotel London                    1582\n",
       "Park Grand London Kensington                         1532\n",
       "Hotel Da Vinci                                       1412\n",
       "Name: hotel_name, dtype: int64"
      ]
     },
     "execution_count": 3952,
     "metadata": {},
     "output_type": "execute_result"
    }
   ],
   "source": [
    "# Узнаём общее число отелей\n",
    "hotels['hotel_name'].value_counts().head(20)"
   ]
  },
  {
   "attachments": {},
   "cell_type": "markdown",
   "metadata": {},
   "source": [
    "Теперь я займусь именами отелей, а именно постараюсь найти самые часто встречающие слова в них и выяснить их влияние на оценку отеля."
   ]
  },
  {
   "cell_type": "code",
   "execution_count": 3953,
   "metadata": {},
   "outputs": [],
   "source": [
    "hotels['hotel_name_n'] = hotels['hotel_name'].str.split()"
   ]
  },
  {
   "cell_type": "code",
   "execution_count": 3954,
   "metadata": {},
   "outputs": [],
   "source": [
    "name = hotels.explode('hotel_name_n')"
   ]
  },
  {
   "cell_type": "code",
   "execution_count": 3955,
   "metadata": {},
   "outputs": [
    {
     "data": {
      "text/plain": [
       "193248.0"
      ]
     },
     "execution_count": 3955,
     "metadata": {},
     "output_type": "execute_result"
    }
   ],
   "source": [
    "386496/2"
   ]
  },
  {
   "attachments": {},
   "cell_type": "markdown",
   "metadata": {},
   "source": [
    "Для данного датафрейма, 193248 является идеальным числом. На мой взгляд, если какое-то слово встречается в половине отзывов, а его наличие создаёт существенное изменение в оценке отеля, то создание такого признака будет максимально эффективным методом улучшения качества модели."
   ]
  },
  {
   "cell_type": "code",
   "execution_count": 3956,
   "metadata": {},
   "outputs": [
    {
     "data": {
      "text/plain": [
       "Hotel         175743\n",
       "London        103139\n",
       "The            43439\n",
       "Park           32959\n",
       "Amsterdam      29970\n",
       "Hilton         26710\n",
       "by             18330\n",
       "Plaza          17367\n",
       "Paris          16322\n",
       "Inn            13831\n",
       "Grand          13793\n",
       "Kensington     13762\n",
       "City           13336\n",
       "Barcelona      13305\n",
       "Holiday        11925\n",
       "DoubleTree     11407\n",
       "Best           11325\n",
       "Western        11325\n",
       "tel            11143\n",
       "H              10519\n",
       "Name: hotel_name_n, dtype: int64"
      ]
     },
     "execution_count": 3956,
     "metadata": {},
     "output_type": "execute_result"
    }
   ],
   "source": [
    "name['hotel_name_n'].value_counts().head(20)"
   ]
  },
  {
   "attachments": {},
   "cell_type": "markdown",
   "metadata": {},
   "source": [
    "Проведём опыты с раличными словами, встречающимися с во многих названиях отелей и сравним сренюю оценку отзыва при их наличии и отсутствии."
   ]
  },
  {
   "cell_type": "code",
   "execution_count": 3957,
   "metadata": {},
   "outputs": [
    {
     "data": {
      "text/plain": [
       "8.35"
      ]
     },
     "metadata": {},
     "output_type": "display_data"
    },
    {
     "data": {
      "text/plain": [
       "8.44"
      ]
     },
     "metadata": {},
     "output_type": "display_data"
    }
   ],
   "source": [
    "search = ['Hotel']\n",
    "hotels['Hotel'] = hotels['hotel_name'].apply(lambda x: 1 if any(i in x for i in search) else 0)\n",
    "check_p = hotels[hotels['Hotel']==1]\n",
    "check_n = hotels[hotels['Hotel']==0]\n",
    "display(round(check_p['reviewer_score'].mean(), 2), round(check_n['reviewer_score'].mean(), 2))"
   ]
  },
  {
   "cell_type": "code",
   "execution_count": 3958,
   "metadata": {},
   "outputs": [
    {
     "data": {
      "text/plain": [
       "8.39"
      ]
     },
     "metadata": {},
     "output_type": "display_data"
    },
    {
     "data": {
      "text/plain": [
       "8.4"
      ]
     },
     "metadata": {},
     "output_type": "display_data"
    }
   ],
   "source": [
    "search = ['London']\n",
    "hotels['London'] = hotels['hotel_name'].apply(lambda x: 1 if any(i in x for i in search) else 0)\n",
    "check_p = hotels[hotels['London']==1]\n",
    "check_n = hotels[hotels['London']==0]\n",
    "display(round(check_p['reviewer_score'].mean(), 2), round(check_n['reviewer_score'].mean(), 2))"
   ]
  },
  {
   "cell_type": "code",
   "execution_count": 3959,
   "metadata": {},
   "outputs": [
    {
     "data": {
      "text/plain": [
       "8.63"
      ]
     },
     "metadata": {},
     "output_type": "display_data"
    },
    {
     "data": {
      "text/plain": [
       "8.37"
      ]
     },
     "metadata": {},
     "output_type": "display_data"
    }
   ],
   "source": [
    "search = ['The']\n",
    "hotels['The'] = hotels['hotel_name'].apply(lambda x: 1 if any(i in x for i in search) else 0)\n",
    "check_p = hotels[hotels['The']==1]\n",
    "check_n = hotels[hotels['The']==0]\n",
    "display(round(check_p['reviewer_score'].mean(), 2), round(check_n['reviewer_score'].mean(), 2))"
   ]
  },
  {
   "cell_type": "code",
   "execution_count": 3960,
   "metadata": {},
   "outputs": [
    {
     "data": {
      "text/plain": [
       "8.16"
      ]
     },
     "metadata": {},
     "output_type": "display_data"
    },
    {
     "data": {
      "text/plain": [
       "8.42"
      ]
     },
     "metadata": {},
     "output_type": "display_data"
    }
   ],
   "source": [
    "search = ['Park']\n",
    "hotels['Park'] = hotels['hotel_name'].apply(lambda x: 1 if any(i in x for i in search) else 0)\n",
    "check_p = hotels[hotels['Park']==1]\n",
    "check_n = hotels[hotels['Park']==0]\n",
    "display(round(check_p['reviewer_score'].mean(), 2), round(check_n['reviewer_score'].mean(), 2))"
   ]
  },
  {
   "cell_type": "code",
   "execution_count": 3961,
   "metadata": {},
   "outputs": [
    {
     "data": {
      "text/plain": [
       "8.39"
      ]
     },
     "metadata": {},
     "output_type": "display_data"
    },
    {
     "data": {
      "text/plain": [
       "8.4"
      ]
     },
     "metadata": {},
     "output_type": "display_data"
    }
   ],
   "source": [
    "search = ['Amsterdam']\n",
    "hotels['Amsterdam'] = hotels['hotel_name'].apply(lambda x: 1 if any(i in x for i in search) else 0)\n",
    "check_p = hotels[hotels['Amsterdam']==1]\n",
    "check_n = hotels[hotels['Amsterdam']==0]\n",
    "display(round(check_p['reviewer_score'].mean(), 2), round(check_n['reviewer_score'].mean(), 2))"
   ]
  },
  {
   "attachments": {},
   "cell_type": "markdown",
   "metadata": {},
   "source": [
    "Избавляемся от признаков, которые практически никак не влияют на оценку гостя, а также от базового признака. "
   ]
  },
  {
   "cell_type": "code",
   "execution_count": 3962,
   "metadata": {},
   "outputs": [],
   "source": [
    "hotels = hotels.drop('hotel_name', axis=1)\n",
    "hotels = hotels.drop('Hotel', axis=1)\n",
    "hotels = hotels.drop('London', axis=1)\n",
    "hotels = hotels.drop('Amsterdam', axis=1)\n",
    "hotels = hotels.drop('The', axis=1)\n",
    "hotels = hotels.drop('Park', axis=1)"
   ]
  },
  {
   "cell_type": "code",
   "execution_count": 3963,
   "metadata": {},
   "outputs": [
    {
     "data": {
      "text/plain": [
       "Timestamp('2015-08-04 00:00:00')"
      ]
     },
     "execution_count": 3963,
     "metadata": {},
     "output_type": "execute_result"
    }
   ],
   "source": [
    "# Узнаём дату первого отзыва\n",
    "hotels['review_date'].min()"
   ]
  },
  {
   "cell_type": "code",
   "execution_count": 3964,
   "metadata": {},
   "outputs": [
    {
     "data": {
      "text/plain": [
       "Timestamp('2017-08-03 00:00:00')"
      ]
     },
     "execution_count": 3964,
     "metadata": {},
     "output_type": "execute_result"
    }
   ],
   "source": [
    "# Узнаём дату последнего отзыва\n",
    "hotels['review_date'].max()"
   ]
  },
  {
   "attachments": {},
   "cell_type": "markdown",
   "metadata": {},
   "source": [
    "Проведём те же самые манипуляции с положительными и отрицательными отзывами."
   ]
  },
  {
   "cell_type": "code",
   "execution_count": 3965,
   "metadata": {},
   "outputs": [],
   "source": [
    "hotels['good_rev_n'] = hotels['positive_review'].str.split()"
   ]
  },
  {
   "cell_type": "code",
   "execution_count": 3966,
   "metadata": {},
   "outputs": [],
   "source": [
    "good = hotels.explode('good_rev_n')"
   ]
  },
  {
   "cell_type": "code",
   "execution_count": 3967,
   "metadata": {},
   "outputs": [
    {
     "data": {
      "text/plain": [
       "and         312878\n",
       "the         262144\n",
       "was         175816\n",
       "to          140350\n",
       "The         122986\n",
       "a           117295\n",
       "staff       115420\n",
       "very        113325\n",
       "location    103825\n",
       "room         92838\n",
       "in           84037\n",
       "hotel        83898\n",
       "of           79636\n",
       "is           76526\n",
       "were         68170\n",
       "for          67590\n",
       "good         63767\n",
       "helpful      54771\n",
       "friendly     54247\n",
       "with         49180\n",
       "Name: good_rev_n, dtype: int64"
      ]
     },
     "execution_count": 3967,
     "metadata": {},
     "output_type": "execute_result"
    }
   ],
   "source": [
    "good['good_rev_n'].value_counts().head(20)"
   ]
  },
  {
   "cell_type": "code",
   "execution_count": 3968,
   "metadata": {},
   "outputs": [
    {
     "data": {
      "text/plain": [
       "8.74"
      ]
     },
     "metadata": {},
     "output_type": "display_data"
    },
    {
     "data": {
      "text/plain": [
       "8.2"
      ]
     },
     "metadata": {},
     "output_type": "display_data"
    }
   ],
   "source": [
    "search = ['the']\n",
    "hotels['p_the'] = hotels['positive_review'].apply(lambda x: 1 if any(i in x for i in search) else 0)\n",
    "check_p = hotels[hotels['p_the']==1]\n",
    "check_n = hotels[hotels['p_the']==0]\n",
    "display(round(check_p['reviewer_score'].mean(), 2), round(check_n['reviewer_score'].mean(), 2))"
   ]
  },
  {
   "cell_type": "code",
   "execution_count": 3969,
   "metadata": {},
   "outputs": [
    {
     "data": {
      "text/plain": [
       "8.67"
      ]
     },
     "metadata": {},
     "output_type": "display_data"
    },
    {
     "data": {
      "text/plain": [
       "8.29"
      ]
     },
     "metadata": {},
     "output_type": "display_data"
    }
   ],
   "source": [
    "search = ['was']\n",
    "hotels['p_was'] = hotels['positive_review'].apply(lambda x: 1 if any(i in x for i in search) else 0)\n",
    "check_p = hotels[hotels['p_was']==1]\n",
    "check_n = hotels[hotels['p_was']==0]\n",
    "display(round(check_p['reviewer_score'].mean(), 2), round(check_n['reviewer_score'].mean(), 2))"
   ]
  },
  {
   "cell_type": "code",
   "execution_count": 3970,
   "metadata": {},
   "outputs": [
    {
     "data": {
      "text/plain": [
       "8.76"
      ]
     },
     "metadata": {},
     "output_type": "display_data"
    },
    {
     "data": {
      "text/plain": [
       "8.25"
      ]
     },
     "metadata": {},
     "output_type": "display_data"
    }
   ],
   "source": [
    "search = ['to']\n",
    "hotels['p_to'] = hotels['positive_review'].apply(lambda x: 1 if any(i in x for i in search) else 0)\n",
    "check_p = hotels[hotels['p_to']==1]\n",
    "check_n = hotels[hotels['p_to']==0]\n",
    "display(round(check_p['reviewer_score'].mean(), 2), round(check_n['reviewer_score'].mean(), 2))"
   ]
  },
  {
   "cell_type": "code",
   "execution_count": 3971,
   "metadata": {},
   "outputs": [
    {
     "data": {
      "text/plain": [
       "8.64"
      ]
     },
     "metadata": {},
     "output_type": "display_data"
    },
    {
     "data": {
      "text/plain": [
       "8.32"
      ]
     },
     "metadata": {},
     "output_type": "display_data"
    }
   ],
   "source": [
    "search = ['The']\n",
    "hotels['p_The'] = hotels['positive_review'].apply(lambda x: 1 if any(i in x for i in search) else 0)\n",
    "check_p = hotels[hotels['p_The']==1]\n",
    "check_n = hotels[hotels['p_The']==0]\n",
    "display(round(check_p['reviewer_score'].mean(), 2), round(check_n['reviewer_score'].mean(), 2))"
   ]
  },
  {
   "cell_type": "code",
   "execution_count": 3972,
   "metadata": {},
   "outputs": [
    {
     "data": {
      "text/plain": [
       "8.97"
      ]
     },
     "metadata": {},
     "output_type": "display_data"
    },
    {
     "data": {
      "text/plain": [
       "8.16"
      ]
     },
     "metadata": {},
     "output_type": "display_data"
    }
   ],
   "source": [
    "search = ['staff']\n",
    "hotels['p_staff'] = hotels['positive_review'].apply(lambda x: 1 if any(i in x for i in search) else 0)\n",
    "check_p = hotels[hotels['p_staff']==1]\n",
    "check_n = hotels[hotels['p_staff']==0]\n",
    "display(round(check_p['reviewer_score'].mean(), 2), round(check_n['reviewer_score'].mean(), 2))"
   ]
  },
  {
   "cell_type": "code",
   "execution_count": 3973,
   "metadata": {},
   "outputs": [
    {
     "data": {
      "text/plain": [
       "8.94"
      ]
     },
     "metadata": {},
     "output_type": "display_data"
    },
    {
     "data": {
      "text/plain": [
       "8.19"
      ]
     },
     "metadata": {},
     "output_type": "display_data"
    }
   ],
   "source": [
    "search = ['very']\n",
    "hotels['p_very'] = hotels['positive_review'].apply(lambda x: 1 if any(i in x for i in search) else 0)\n",
    "check_p = hotels[hotels['p_very']==1]\n",
    "check_n = hotels[hotels['p_very']==0]\n",
    "display(round(check_p['reviewer_score'].mean(), 2), round(check_n['reviewer_score'].mean(), 2))"
   ]
  },
  {
   "cell_type": "code",
   "execution_count": 3974,
   "metadata": {},
   "outputs": [
    {
     "data": {
      "text/plain": [
       "8.6"
      ]
     },
     "metadata": {},
     "output_type": "display_data"
    },
    {
     "data": {
      "text/plain": [
       "8.32"
      ]
     },
     "metadata": {},
     "output_type": "display_data"
    }
   ],
   "source": [
    "search = ['location']\n",
    "hotels['p_location'] = hotels['positive_review'].apply(lambda x: 1 if any(i in x for i in search) else 0)\n",
    "check_p = hotels[hotels['p_location']==1]\n",
    "check_n = hotels[hotels['p_location']==0]\n",
    "display(round(check_p['reviewer_score'].mean(), 2), round(check_n['reviewer_score'].mean(), 2))"
   ]
  },
  {
   "cell_type": "code",
   "execution_count": 3975,
   "metadata": {},
   "outputs": [
    {
     "data": {
      "text/plain": [
       "8.81"
      ]
     },
     "metadata": {},
     "output_type": "display_data"
    },
    {
     "data": {
      "text/plain": [
       "8.24"
      ]
     },
     "metadata": {},
     "output_type": "display_data"
    }
   ],
   "source": [
    "search = ['room']\n",
    "hotels['p_room'] = hotels['positive_review'].apply(lambda x: 1 if any(i in x for i in search) else 0)\n",
    "check_p = hotels[hotels['p_room']==1]\n",
    "check_n = hotels[hotels['p_room']==0]\n",
    "display(round(check_p['reviewer_score'].mean(), 2), round(check_n['reviewer_score'].mean(), 2))"
   ]
  },
  {
   "cell_type": "code",
   "execution_count": 3976,
   "metadata": {},
   "outputs": [
    {
     "data": {
      "text/plain": [
       "8.92"
      ]
     },
     "metadata": {},
     "output_type": "display_data"
    },
    {
     "data": {
      "text/plain": [
       "8.28"
      ]
     },
     "metadata": {},
     "output_type": "display_data"
    }
   ],
   "source": [
    "search = ['hotel']\n",
    "hotels['p_hotel'] = hotels['positive_review'].apply(lambda x: 1 if any(i in x for i in search) else 0)\n",
    "check_p = hotels[hotels['p_hotel']==1]\n",
    "check_n = hotels[hotels['p_hotel']==0]\n",
    "display(round(check_p['reviewer_score'].mean(), 2), round(check_n['reviewer_score'].mean(), 2))"
   ]
  },
  {
   "cell_type": "code",
   "execution_count": 3977,
   "metadata": {},
   "outputs": [],
   "source": [
    "hotels = hotels.drop('positive_review', axis=1)"
   ]
  },
  {
   "cell_type": "code",
   "execution_count": 3978,
   "metadata": {},
   "outputs": [],
   "source": [
    "hotels['bad_rev_n'] = hotels['negative_review'].str.split()"
   ]
  },
  {
   "cell_type": "code",
   "execution_count": 3979,
   "metadata": {},
   "outputs": [],
   "source": [
    "bad = hotels.explode('bad_rev_n')"
   ]
  },
  {
   "cell_type": "code",
   "execution_count": 3980,
   "metadata": {},
   "outputs": [
    {
     "data": {
      "text/plain": [
       "the         317396\n",
       "was         175361\n",
       "to          170446\n",
       "a           164602\n",
       "and         161221\n",
       "in          123345\n",
       "room        116375\n",
       "No          115654\n",
       "Negative     95918\n",
       "of           90107\n",
       "for          85585\n",
       "not          84570\n",
       "I            84025\n",
       "The          79954\n",
       "it           66649\n",
       "is           61318\n",
       "we           55182\n",
       "t            53945\n",
       "but          52824\n",
       "very         51800\n",
       "Name: bad_rev_n, dtype: int64"
      ]
     },
     "execution_count": 3980,
     "metadata": {},
     "output_type": "execute_result"
    }
   ],
   "source": [
    "bad['bad_rev_n'].value_counts().head(20)"
   ]
  },
  {
   "cell_type": "code",
   "execution_count": 3981,
   "metadata": {},
   "outputs": [
    {
     "data": {
      "text/plain": [
       "7.77"
      ]
     },
     "metadata": {},
     "output_type": "display_data"
    },
    {
     "data": {
      "text/plain": [
       "8.77"
      ]
     },
     "metadata": {},
     "output_type": "display_data"
    }
   ],
   "source": [
    "search = ['the']\n",
    "hotels['n_the'] = hotels['negative_review'].apply(lambda x: 1 if any(i in x for i in search) else 0)\n",
    "check_p = hotels[hotels['n_the']==1]\n",
    "check_n = hotels[hotels['n_the']==0]\n",
    "display(round(check_p['reviewer_score'].mean(), 2), round(check_n['reviewer_score'].mean(), 2))"
   ]
  },
  {
   "cell_type": "code",
   "execution_count": 3982,
   "metadata": {},
   "outputs": [
    {
     "data": {
      "text/plain": [
       "7.76"
      ]
     },
     "metadata": {},
     "output_type": "display_data"
    },
    {
     "data": {
      "text/plain": [
       "8.64"
      ]
     },
     "metadata": {},
     "output_type": "display_data"
    }
   ],
   "source": [
    "search = ['was']\n",
    "hotels['n_was'] = hotels['negative_review'].apply(lambda x: 1 if any(i in x for i in search) else 0)\n",
    "check_p = hotels[hotels['n_was']==1]\n",
    "check_n = hotels[hotels['n_was']==0]\n",
    "display(round(check_p['reviewer_score'].mean(), 2), round(check_n['reviewer_score'].mean(), 2))"
   ]
  },
  {
   "cell_type": "code",
   "execution_count": 3983,
   "metadata": {},
   "outputs": [
    {
     "data": {
      "text/plain": [
       "7.72"
      ]
     },
     "metadata": {},
     "output_type": "display_data"
    },
    {
     "data": {
      "text/plain": [
       "8.69"
      ]
     },
     "metadata": {},
     "output_type": "display_data"
    }
   ],
   "source": [
    "search = ['to']\n",
    "hotels['n_to'] = hotels['negative_review'].apply(lambda x: 1 if any(i in x for i in search) else 0)\n",
    "check_p = hotels[hotels['n_to']==1]\n",
    "check_n = hotels[hotels['n_to']==0]\n",
    "display(round(check_p['reviewer_score'].mean(), 2), round(check_n['reviewer_score'].mean(), 2))"
   ]
  },
  {
   "cell_type": "code",
   "execution_count": 3984,
   "metadata": {},
   "outputs": [
    {
     "data": {
      "text/plain": [
       "8.33"
      ]
     },
     "metadata": {},
     "output_type": "display_data"
    },
    {
     "data": {
      "text/plain": [
       "8.98"
      ]
     },
     "metadata": {},
     "output_type": "display_data"
    }
   ],
   "source": [
    "search = ['a']\n",
    "hotels['n_a'] = hotels['negative_review'].apply(lambda x: 1 if any(i in x for i in search) else 0)\n",
    "check_p = hotels[hotels['n_a']==1]\n",
    "check_n = hotels[hotels['n_a']==0]\n",
    "display(round(check_p['reviewer_score'].mean(), 2), round(check_n['reviewer_score'].mean(), 2))"
   ]
  },
  {
   "cell_type": "code",
   "execution_count": 3985,
   "metadata": {},
   "outputs": [
    {
     "data": {
      "text/plain": [
       "7.46"
      ]
     },
     "metadata": {},
     "output_type": "display_data"
    },
    {
     "data": {
      "text/plain": [
       "8.73"
      ]
     },
     "metadata": {},
     "output_type": "display_data"
    }
   ],
   "source": [
    "search = ['and']\n",
    "hotels['n_and'] = hotels['negative_review'].apply(lambda x: 1 if any(i in x for i in search) else 0)\n",
    "check_p = hotels[hotels['n_and']==1]\n",
    "check_n = hotels[hotels['n_and']==0]\n",
    "display(round(check_p['reviewer_score'].mean(), 2), round(check_n['reviewer_score'].mean(), 2))"
   ]
  },
  {
   "cell_type": "code",
   "execution_count": 3986,
   "metadata": {},
   "outputs": [
    {
     "data": {
      "text/plain": [
       "8.02"
      ]
     },
     "metadata": {},
     "output_type": "display_data"
    },
    {
     "data": {
      "text/plain": [
       "8.79"
      ]
     },
     "metadata": {},
     "output_type": "display_data"
    }
   ],
   "source": [
    "search = ['in']\n",
    "hotels['n_in'] = hotels['negative_review'].apply(lambda x: 1 if any(i in x for i in search) else 0)\n",
    "check_p = hotels[hotels['n_in']==1]\n",
    "check_n = hotels[hotels['n_in']==0]\n",
    "display(round(check_p['reviewer_score'].mean(), 2), round(check_n['reviewer_score'].mean(), 2))"
   ]
  },
  {
   "cell_type": "code",
   "execution_count": 3987,
   "metadata": {},
   "outputs": [
    {
     "data": {
      "text/plain": [
       "7.48"
      ]
     },
     "metadata": {},
     "output_type": "display_data"
    },
    {
     "data": {
      "text/plain": [
       "8.74"
      ]
     },
     "metadata": {},
     "output_type": "display_data"
    }
   ],
   "source": [
    "search = ['room']\n",
    "hotels['n_room'] = hotels['negative_review'].apply(lambda x: 1 if any(i in x for i in search) else 0)\n",
    "check_p = hotels[hotels['n_room']==1]\n",
    "check_n = hotels[hotels['n_room']==0]\n",
    "display(round(check_p['reviewer_score'].mean(), 2), round(check_n['reviewer_score'].mean(), 2))"
   ]
  },
  {
   "cell_type": "code",
   "execution_count": 3988,
   "metadata": {},
   "outputs": [
    {
     "data": {
      "text/plain": [
       "9.03"
      ]
     },
     "metadata": {},
     "output_type": "display_data"
    },
    {
     "data": {
      "text/plain": [
       "8.01"
      ]
     },
     "metadata": {},
     "output_type": "display_data"
    }
   ],
   "source": [
    "search = ['No']\n",
    "hotels['n_No'] = hotels['negative_review'].apply(lambda x: 1 if any(i in x for i in search) else 0)\n",
    "check_p = hotels[hotels['n_No']==1]\n",
    "check_n = hotels[hotels['n_No']==0]\n",
    "display(round(check_p['reviewer_score'].mean(), 2), round(check_n['reviewer_score'].mean(), 2))"
   ]
  },
  {
   "cell_type": "code",
   "execution_count": 3989,
   "metadata": {},
   "outputs": [
    {
     "data": {
      "text/plain": [
       "9.34"
      ]
     },
     "metadata": {},
     "output_type": "display_data"
    },
    {
     "data": {
      "text/plain": [
       "8.09"
      ]
     },
     "metadata": {},
     "output_type": "display_data"
    }
   ],
   "source": [
    "search = ['Negative']\n",
    "hotels['n_Negative'] = hotels['negative_review'].apply(lambda x: 1 if any(i in x for i in search) else 0)\n",
    "check_p = hotels[hotels['n_Negative']==1]\n",
    "check_n = hotels[hotels['n_Negative']==0]\n",
    "display(round(check_p['reviewer_score'].mean(), 2), round(check_n['reviewer_score'].mean(), 2))"
   ]
  },
  {
   "cell_type": "code",
   "execution_count": 3990,
   "metadata": {},
   "outputs": [],
   "source": [
    "hotels = hotels.drop('negative_review', axis=1)"
   ]
  },
  {
   "attachments": {},
   "cell_type": "markdown",
   "metadata": {},
   "source": [
    "Теперь проведём те же самые манипуляции с тегами."
   ]
  },
  {
   "cell_type": "code",
   "execution_count": 3991,
   "metadata": {},
   "outputs": [],
   "source": [
    "def rev_func(num_tags):\n",
    "    num_tags = num_tags[2:-2]\n",
    "    res = num_tags.strip().split(' \\', \\' ')\n",
    "    return res\n",
    "\n",
    "hotels['tags_n'] = hotels['tags'].apply(rev_func)"
   ]
  },
  {
   "cell_type": "code",
   "execution_count": 3992,
   "metadata": {},
   "outputs": [
    {
     "data": {
      "text/plain": [
       "'Total number of tags: 2368'"
      ]
     },
     "metadata": {},
     "output_type": "display_data"
    }
   ],
   "source": [
    "tags = hotels.explode('tags_n')\n",
    "display(f'Total number of tags: {len(tags[\"tags_n\"].unique())}')"
   ]
  },
  {
   "cell_type": "code",
   "execution_count": 3993,
   "metadata": {},
   "outputs": [
    {
     "data": {
      "text/plain": [
       "Leisure trip                      313593\n",
       "Submitted from a mobile device    230778\n",
       "Couple                            189212\n",
       "Stayed 1 night                    145373\n",
       "Stayed 2 nights                   100263\n",
       "Solo traveler                      81235\n",
       "Stayed 3 nights                    72000\n",
       "Business trip                      61989\n",
       "Group                              49088\n",
       "Family with young children         45836\n",
       "Name: tags_n, dtype: int64"
      ]
     },
     "execution_count": 3993,
     "metadata": {},
     "output_type": "execute_result"
    }
   ],
   "source": [
    "tags['tags_n'].value_counts().head(10)"
   ]
  },
  {
   "cell_type": "code",
   "execution_count": 3994,
   "metadata": {},
   "outputs": [
    {
     "data": {
      "text/plain": [
       "8.49"
      ]
     },
     "metadata": {},
     "output_type": "display_data"
    },
    {
     "data": {
      "text/plain": [
       "8.0"
      ]
     },
     "metadata": {},
     "output_type": "display_data"
    }
   ],
   "source": [
    "search = ['Leisure trip']\n",
    "hotels['leisure_trip'] = hotels['tags_n'].apply(lambda x: 1 if any(i in x for i in search) else 0)\n",
    "check_p = hotels[hotels['leisure_trip']==1]\n",
    "check_n = hotels[hotels['leisure_trip']==0]\n",
    "display(round(check_p['reviewer_score'].mean(), 2), round(check_n['reviewer_score'].mean(), 2))"
   ]
  },
  {
   "cell_type": "code",
   "execution_count": 3995,
   "metadata": {},
   "outputs": [
    {
     "data": {
      "text/plain": [
       "8.42"
      ]
     },
     "metadata": {},
     "output_type": "display_data"
    },
    {
     "data": {
      "text/plain": [
       "8.37"
      ]
     },
     "metadata": {},
     "output_type": "display_data"
    }
   ],
   "source": [
    "search = ['Submitted from a mobile device']\n",
    "hotels['mobile'] = hotels['tags_n'].apply(lambda x: 1 if any(i in x for i in search) else 0)\n",
    "check_p = hotels[hotels['mobile']==1]\n",
    "check_n = hotels[hotels['mobile']==0]\n",
    "display(round(check_p['reviewer_score'].mean(), 2), round(check_n['reviewer_score'].mean(), 2))"
   ]
  },
  {
   "cell_type": "code",
   "execution_count": 3996,
   "metadata": {},
   "outputs": [
    {
     "data": {
      "text/plain": [
       "8.51"
      ]
     },
     "metadata": {},
     "output_type": "display_data"
    },
    {
     "data": {
      "text/plain": [
       "8.28"
      ]
     },
     "metadata": {},
     "output_type": "display_data"
    }
   ],
   "source": [
    "search = ['Couple']\n",
    "hotels['couple'] = hotels['tags_n'].apply(lambda x: 1 if any(i in x for i in search) else 0)\n",
    "check_p = hotels[hotels['couple']==1]\n",
    "check_n = hotels[hotels['couple']==0]\n",
    "display(round(check_p['reviewer_score'].mean(), 2), round(check_n['reviewer_score'].mean(), 2))"
   ]
  },
  {
   "cell_type": "code",
   "execution_count": 3997,
   "metadata": {},
   "outputs": [
    {
     "data": {
      "text/plain": [
       "8.41"
      ]
     },
     "metadata": {},
     "output_type": "display_data"
    },
    {
     "data": {
      "text/plain": [
       "8.39"
      ]
     },
     "metadata": {},
     "output_type": "display_data"
    }
   ],
   "source": [
    "search = ['Stayed 1 night']\n",
    "hotels['one_night'] = hotels['tags_n'].apply(lambda x: 1 if any(i in x for i in search) else 0)\n",
    "check_p = hotels[hotels['one_night']==1]\n",
    "check_n = hotels[hotels['one_night']==0]\n",
    "display(round(check_p['reviewer_score'].mean(), 2), round(check_n['reviewer_score'].mean(), 2))"
   ]
  },
  {
   "cell_type": "code",
   "execution_count": 3998,
   "metadata": {},
   "outputs": [
    {
     "data": {
      "text/plain": [
       "8.39"
      ]
     },
     "metadata": {},
     "output_type": "display_data"
    },
    {
     "data": {
      "text/plain": [
       "8.4"
      ]
     },
     "metadata": {},
     "output_type": "display_data"
    }
   ],
   "source": [
    "search = ['Stayed 2 nights']\n",
    "hotels['two_nights'] = hotels['tags_n'].apply(lambda x: 1 if any(i in x for i in search) else 0)\n",
    "check_p = hotels[hotels['two_nights']==1]\n",
    "check_n = hotels[hotels['two_nights']==0]\n",
    "display(round(check_p['reviewer_score'].mean(), 2), round(check_n['reviewer_score'].mean(), 2))"
   ]
  },
  {
   "cell_type": "code",
   "execution_count": 3999,
   "metadata": {},
   "outputs": [
    {
     "data": {
      "text/plain": [
       "8.43"
      ]
     },
     "metadata": {},
     "output_type": "display_data"
    },
    {
     "data": {
      "text/plain": [
       "8.39"
      ]
     },
     "metadata": {},
     "output_type": "display_data"
    }
   ],
   "source": [
    "search = ['Stayed 3 nights']\n",
    "hotels['three_nights'] = hotels['tags_n'].apply(lambda x: 1 if any(i in x for i in search) else 0)\n",
    "check_p = hotels[hotels['three_nights']==1]\n",
    "check_n = hotels[hotels['three_nights']==0]\n",
    "display(round(check_p['reviewer_score'].mean(), 2), round(check_n['reviewer_score'].mean(), 2))"
   ]
  },
  {
   "cell_type": "code",
   "execution_count": 4000,
   "metadata": {},
   "outputs": [
    {
     "data": {
      "text/plain": [
       "7.97"
      ]
     },
     "metadata": {},
     "output_type": "display_data"
    },
    {
     "data": {
      "text/plain": [
       "8.48"
      ]
     },
     "metadata": {},
     "output_type": "display_data"
    }
   ],
   "source": [
    "search = ['Business trip']\n",
    "hotels['business_trip'] = hotels['tags_n'].apply(lambda x: 1 if any(i in x for i in search) else 0)\n",
    "check_p = hotels[hotels['business_trip']==1]\n",
    "check_n = hotels[hotels['business_trip']==0]\n",
    "display(round(check_p['reviewer_score'].mean(), 2), round(check_n['reviewer_score'].mean(), 2))"
   ]
  },
  {
   "cell_type": "code",
   "execution_count": 4001,
   "metadata": {},
   "outputs": [],
   "source": [
    "hotels = hotels.drop('tags', axis=1)\n",
    "hotels = hotels.drop('mobile', axis=1)\n",
    "hotels = hotels.drop('one_night', axis=1)\n",
    "hotels = hotels.drop('two_nights', axis=1)\n",
    "hotels = hotels.drop('three_nights', axis=1)"
   ]
  },
  {
   "attachments": {},
   "cell_type": "markdown",
   "metadata": {},
   "source": [
    "Далее я решил провести закономерность между национальностью гостя отеля, оставившего отзыв с его оценкой."
   ]
  },
  {
   "cell_type": "code",
   "execution_count": 4002,
   "metadata": {},
   "outputs": [],
   "source": [
    "# Приведём названия стран к стандартному коду для построения карты средней оценки отзыва\n",
    "\n",
    "import numpy as np\n",
    "import pycountry\n",
    "\n",
    "def do_fuzzy_search(country):\n",
    "    try:\n",
    "        result = pycountry.countries.search_fuzzy(country)\n",
    "    except Exception:\n",
    "        return np.nan\n",
    "    else:\n",
    "        return result[0].alpha_3\n",
    "\n",
    "iso_map = {country: do_fuzzy_search(country) for country in hotels[\"reviewer_nationality\"].unique()}\n",
    "hotels[\"country_code\"] = hotels['reviewer_nationality'].map(iso_map)"
   ]
  },
  {
   "cell_type": "code",
   "execution_count": 4003,
   "metadata": {},
   "outputs": [
    {
     "data": {
      "text/plain": [
       " Abkhazia Georgia                     116\n",
       " Macau                                 77\n",
       " Palestinian Territory                 41\n",
       " Cura ao                               29\n",
       " Ivory Coast                           15\n",
       " Turks Caicos Islands                  12\n",
       " Antigua Barbuda                       12\n",
       " U S Virgin Islands                    11\n",
       " Swaziland                              7\n",
       " Laos                                   6\n",
       " St Maarten                             6\n",
       " Democratic Republic of the Congo       6\n",
       " Falkland Islands Malvinas              5\n",
       " Crimea                                 4\n",
       " East Timor                             4\n",
       " Central Africa Republic                3\n",
       " St Pierre and Miquelon                 2\n",
       " Cocos K I                              2\n",
       " Saint Vincent Grenadines               1\n",
       " Bonaire St Eustatius and Saba          1\n",
       " Svalbard Jan Mayen                     1\n",
       " Saint Barts                            1\n",
       "Name: reviewer_nationality, dtype: int64"
      ]
     },
     "execution_count": 4003,
     "metadata": {},
     "output_type": "execute_result"
    }
   ],
   "source": [
    "# Заметим, что некоторые названия стран написаны не в соответствии со стандартом ISO.\n",
    "miss = hotels[hotels['country_code'].isnull()]\n",
    "miss['reviewer_nationality'].value_counts()"
   ]
  },
  {
   "cell_type": "code",
   "execution_count": 4004,
   "metadata": {},
   "outputs": [],
   "source": [
    "# Переименуем такие названия\n",
    "hotels['reviewer_nationality'] = hotels['reviewer_nationality'].str.replace(r'Abkhazia Georgia', 'Georgia', regex= True)\n",
    "hotels['reviewer_nationality'] = hotels['reviewer_nationality'].str.replace(r'Macau', 'Macao', regex= True)\n",
    "hotels['reviewer_nationality'] = hotels['reviewer_nationality'].str.replace(r'Cura ao', 'Curaçao', regex= True)\n",
    "hotels['reviewer_nationality'] = hotels['reviewer_nationality'].str.replace(r'Palestinian Territory', 'Palestine, State of', regex= True)\n",
    "hotels['reviewer_nationality'] = hotels['reviewer_nationality'].str.replace(r'Ivory Coast', \"Côte d'Ivoire\", regex= True)\n",
    "hotels['reviewer_nationality'] = hotels['reviewer_nationality'].str.replace(r'Turks Caicos Islands', 'Turks and Caicos Islands', regex= True)\n",
    "hotels['reviewer_nationality'] = hotels['reviewer_nationality'].str.replace(r'Antigua Barbuda', 'Antigua and Barbuda', regex= True)\n",
    "hotels['reviewer_nationality'] = hotels['reviewer_nationality'].str.replace(r'Laos', \"Lao People's Democratic Republic\", regex= True)\n",
    "hotels['reviewer_nationality'] = hotels['reviewer_nationality'].str.replace(r'Democratic Republic of the Congo', 'Congo, the Democratic Republic of the', regex= True)\n",
    "hotels['reviewer_nationality'] = hotels['reviewer_nationality'].str.replace(r'Central Africa Republic', \"Central African Republic\", regex= True)\n",
    "hotels['reviewer_nationality'] = hotels['reviewer_nationality'].str.replace(r'U S Virgin Islands', 'Virgin Islands, U.S.', regex= True)\n",
    "hotels['reviewer_nationality'] = hotels['reviewer_nationality'].str.replace(r'Swaziland', 'SZ', regex= True)\n",
    "hotels['reviewer_nationality'] = hotels['reviewer_nationality'].str.replace(r'St Maarten', 'Sint Maarten (Dutch part)', regex= True)\n",
    "hotels['reviewer_nationality'] = hotels['reviewer_nationality'].str.replace(r'Falkland Islands Malvinas', 'Falkland Islands (Malvinas)', regex= True)\n",
    "hotels['reviewer_nationality'] = hotels['reviewer_nationality'].str.replace(r'East Timor', 'Timor-Leste', regex= True)\n",
    "hotels['reviewer_nationality'] = hotels['reviewer_nationality'].str.replace(r'St Pierre and Miquelon', 'Saint Pierre and Miquelon', regex= True)\n",
    "hotels['reviewer_nationality'] = hotels['reviewer_nationality'].str.replace(r'Cocos K I', 'Cocos (Keeling) Islands', regex= True)\n",
    "hotels['reviewer_nationality'] = hotels['reviewer_nationality'].str.replace(r'Bonaire St Eustatius and Saba', 'Bonaire, Sint Eustatius and Saba', regex= True)\n",
    "hotels['reviewer_nationality'] = hotels['reviewer_nationality'].str.replace(r'Svalbard Jan Mayen', 'Svalbard and Jan Mayen', regex= True)\n",
    "hotels['reviewer_nationality'] = hotels['reviewer_nationality'].str.replace(r'Saint Barts', 'Saint Barthélemy', regex= True)\n",
    "hotels['reviewer_nationality'] = hotels['reviewer_nationality'].str.replace(r'Saint Vincent Grenadines', 'Saint Vincent and the Grenadines', regex= True)\n",
    "hotels['reviewer_nationality'] = hotels['reviewer_nationality'].str.replace(r'Crimea', 'Ukraine', regex= True)"
   ]
  },
  {
   "cell_type": "code",
   "execution_count": 4005,
   "metadata": {},
   "outputs": [],
   "source": [
    "# Проделаем преобразование ещё раз\n",
    "iso_map = {country: do_fuzzy_search(country) for country in hotels[\"reviewer_nationality\"].unique()}\n",
    "hotels[\"country_code\"] = hotels['reviewer_nationality'].map(iso_map)"
   ]
  },
  {
   "cell_type": "code",
   "execution_count": 4006,
   "metadata": {},
   "outputs": [
    {
     "data": {
      "application/vnd.plotly.v1+json": {
       "config": {
        "plotlyServerURL": "https://plot.ly"
       },
       "data": [
        {
         "coloraxis": "coloraxis",
         "geo": "geo",
         "hovertemplate": "country_code=%{location}<br>reviewer_score=%{z}<extra></extra>",
         "locationmode": "ISO-3",
         "locations": [
          "ABW",
          "AFG",
          "AGO",
          "AIA",
          "ALB",
          "AND",
          "ARE",
          "ARG",
          "ARM",
          "ASM",
          "ATA",
          "ATG",
          "AUS",
          "AUT",
          "AZE",
          "BDI",
          "BEL",
          "BEN",
          "BES",
          "BGD",
          "BGR",
          "BHR",
          "BHS",
          "BIH",
          "BLM",
          "BLR",
          "BLZ",
          "BMU",
          "BOL",
          "BRA",
          "BRB",
          "BRN",
          "BTN",
          "BWA",
          "CAF",
          "CAN",
          "CCK",
          "CHE",
          "CHL",
          "CHN",
          "CIV",
          "CMR",
          "COD",
          "COG",
          "COK",
          "COL",
          "COM",
          "CRI",
          "CYM",
          "CYP",
          "CZE",
          "DEU",
          "DJI",
          "DMA",
          "DNK",
          "DOM",
          "DZA",
          "ECU",
          "EGY",
          "ERI",
          "ESP",
          "EST",
          "ETH",
          "FIN",
          "FJI",
          "FLK",
          "FRA",
          "FRO",
          "GAB",
          "GBR",
          "GEO",
          "GGY",
          "GHA",
          "GIB",
          "GIN",
          "GMB",
          "GNQ",
          "GRC",
          "GRD",
          "GTM",
          "GUF",
          "GUM",
          "GUY",
          "HKG",
          "HND",
          "HRV",
          "HTI",
          "HUN",
          "IDN",
          "IMN",
          "IND",
          "IRL",
          "IRN",
          "IRQ",
          "ISL",
          "ISR",
          "ITA",
          "JAM",
          "JEY",
          "JOR",
          "JPN",
          "KAZ",
          "KEN",
          "KGZ",
          "KHM",
          "KIR",
          "KNA",
          "KOR",
          "KWT",
          "LAO",
          "LBN",
          "LBR",
          "LBY",
          "LCA",
          "LIE",
          "LKA",
          "LSO",
          "LTU",
          "LUX",
          "LVA",
          "MAC",
          "MAF",
          "MAR",
          "MCO",
          "MDA",
          "MDG",
          "MDV",
          "MEX",
          "MKD",
          "MLI",
          "MLT",
          "MMR",
          "MNE",
          "MNG",
          "MNP",
          "MOZ",
          "MRT",
          "MSR",
          "MUS",
          "MWI",
          "MYS",
          "NAM",
          "NCL",
          "NGA",
          "NIC",
          "NLD",
          "NOR",
          "NPL",
          "NZL",
          "OMN",
          "PAK",
          "PAN",
          "PER",
          "PHL",
          "PLW",
          "PNG",
          "POL",
          "PRI",
          "PRT",
          "PRY",
          "PSE",
          "PYF",
          "QAT",
          "REU",
          "ROU",
          "RUS",
          "RWA",
          "SAU",
          "SDN",
          "SEN",
          "SGP",
          "SJM",
          "SLE",
          "SLV",
          "SMR",
          "SOM",
          "SPM",
          "SRB",
          "SSD",
          "SUR",
          "SVK",
          "SVN",
          "SWE",
          "SWZ",
          "SXM",
          "SYC",
          "SYR",
          "TCA",
          "TGO",
          "THA",
          "TJK",
          "TKM",
          "TLS",
          "TTO",
          "TUN",
          "TUR",
          "TUV",
          "TWN",
          "TZA",
          "UGA",
          "UKR",
          "UMI",
          "URY",
          "USA",
          "UZB",
          "VCT",
          "VEN",
          "VGB",
          "VIR",
          "VNM",
          "VUT",
          "WLF",
          "WSM",
          "YEM",
          "ZAF",
          "ZMB",
          "ZWE"
         ],
         "name": "",
         "type": "choropleth",
         "z": [
          24,
          6,
          43,
          1,
          222,
          52,
          7617,
          367,
          100,
          1,
          3,
          12,
          16239,
          1817,
          219,
          2,
          4529,
          3,
          1,
          119,
          996,
          1180,
          25,
          188,
          1,
          140,
          7,
          83,
          14,
          1389,
          47,
          78,
          5,
          37,
          3,
          5984,
          2,
          6498,
          254,
          2564,
          15,
          5,
          6,
          2,
          1,
          207,
          1,
          90,
          30,
          977,
          1719,
          5956,
          2,
          8,
          1288,
          37,
          72,
          44,
          1786,
          2,
          3529,
          547,
          26,
          1346,
          10,
          5,
          5552,
          12,
          6,
          184428,
          333,
          405,
          114,
          274,
          1,
          4,
          2,
          2536,
          1,
          37,
          3,
          10,
          3,
          2262,
          17,
          1013,
          5,
          1666,
          1164,
          300,
          2559,
          11126,
          830,
          225,
          710,
          4918,
          4562,
          25,
          655,
          563,
          948,
          213,
          203,
          14,
          28,
          2,
          7,
          802,
          3702,
          6,
          1707,
          3,
          61,
          6,
          16,
          216,
          2,
          555,
          1017,
          530,
          77,
          2,
          177,
          188,
          86,
          7,
          36,
          448,
          214,
          5,
          1251,
          15,
          141,
          30,
          1,
          26,
          5,
          2,
          163,
          9,
          1431,
          55,
          7,
          735,
          14,
          6637,
          1778,
          7,
          2445,
          1019,
          665,
          89,
          82,
          815,
          1,
          10,
          2106,
          139,
          1379,
          17,
          41,
          2,
          2047,
          4,
          3425,
          2953,
          11,
          6722,
          41,
          18,
          2311,
          1,
          5,
          21,
          3,
          2,
          2,
          896,
          1,
          7,
          682,
          574,
          2562,
          7,
          6,
          16,
          23,
          12,
          7,
          1405,
          9,
          4,
          4,
          107,
          58,
          4105,
          1,
          676,
          43,
          39,
          834,
          51,
          57,
          26541,
          14,
          1,
          53,
          12,
          11,
          142,
          6,
          2,
          4,
          13,
          2888,
          28,
          37
         ]
        }
       ],
       "layout": {
        "coloraxis": {
         "cmax": 10000,
         "cmin": 1,
         "colorbar": {
          "title": {
           "text": "reviewer_score"
          }
         },
         "colorscale": [
          [
           0,
           "rgb(255,255,255)"
          ],
          [
           1,
           "rgb(0,0,255)"
          ]
         ]
        },
        "geo": {
         "center": {},
         "domain": {
          "x": [
           0,
           1
          ],
          "y": [
           0,
           1
          ]
         }
        },
        "height": 700,
        "legend": {
         "tracegroupgap": 0
        },
        "template": {
         "data": {
          "bar": [
           {
            "error_x": {
             "color": "#2a3f5f"
            },
            "error_y": {
             "color": "#2a3f5f"
            },
            "marker": {
             "line": {
              "color": "#E5ECF6",
              "width": 0.5
             },
             "pattern": {
              "fillmode": "overlay",
              "size": 10,
              "solidity": 0.2
             }
            },
            "type": "bar"
           }
          ],
          "barpolar": [
           {
            "marker": {
             "line": {
              "color": "#E5ECF6",
              "width": 0.5
             },
             "pattern": {
              "fillmode": "overlay",
              "size": 10,
              "solidity": 0.2
             }
            },
            "type": "barpolar"
           }
          ],
          "carpet": [
           {
            "aaxis": {
             "endlinecolor": "#2a3f5f",
             "gridcolor": "white",
             "linecolor": "white",
             "minorgridcolor": "white",
             "startlinecolor": "#2a3f5f"
            },
            "baxis": {
             "endlinecolor": "#2a3f5f",
             "gridcolor": "white",
             "linecolor": "white",
             "minorgridcolor": "white",
             "startlinecolor": "#2a3f5f"
            },
            "type": "carpet"
           }
          ],
          "choropleth": [
           {
            "colorbar": {
             "outlinewidth": 0,
             "ticks": ""
            },
            "type": "choropleth"
           }
          ],
          "contour": [
           {
            "colorbar": {
             "outlinewidth": 0,
             "ticks": ""
            },
            "colorscale": [
             [
              0,
              "#0d0887"
             ],
             [
              0.1111111111111111,
              "#46039f"
             ],
             [
              0.2222222222222222,
              "#7201a8"
             ],
             [
              0.3333333333333333,
              "#9c179e"
             ],
             [
              0.4444444444444444,
              "#bd3786"
             ],
             [
              0.5555555555555556,
              "#d8576b"
             ],
             [
              0.6666666666666666,
              "#ed7953"
             ],
             [
              0.7777777777777778,
              "#fb9f3a"
             ],
             [
              0.8888888888888888,
              "#fdca26"
             ],
             [
              1,
              "#f0f921"
             ]
            ],
            "type": "contour"
           }
          ],
          "contourcarpet": [
           {
            "colorbar": {
             "outlinewidth": 0,
             "ticks": ""
            },
            "type": "contourcarpet"
           }
          ],
          "heatmap": [
           {
            "colorbar": {
             "outlinewidth": 0,
             "ticks": ""
            },
            "colorscale": [
             [
              0,
              "#0d0887"
             ],
             [
              0.1111111111111111,
              "#46039f"
             ],
             [
              0.2222222222222222,
              "#7201a8"
             ],
             [
              0.3333333333333333,
              "#9c179e"
             ],
             [
              0.4444444444444444,
              "#bd3786"
             ],
             [
              0.5555555555555556,
              "#d8576b"
             ],
             [
              0.6666666666666666,
              "#ed7953"
             ],
             [
              0.7777777777777778,
              "#fb9f3a"
             ],
             [
              0.8888888888888888,
              "#fdca26"
             ],
             [
              1,
              "#f0f921"
             ]
            ],
            "type": "heatmap"
           }
          ],
          "heatmapgl": [
           {
            "colorbar": {
             "outlinewidth": 0,
             "ticks": ""
            },
            "colorscale": [
             [
              0,
              "#0d0887"
             ],
             [
              0.1111111111111111,
              "#46039f"
             ],
             [
              0.2222222222222222,
              "#7201a8"
             ],
             [
              0.3333333333333333,
              "#9c179e"
             ],
             [
              0.4444444444444444,
              "#bd3786"
             ],
             [
              0.5555555555555556,
              "#d8576b"
             ],
             [
              0.6666666666666666,
              "#ed7953"
             ],
             [
              0.7777777777777778,
              "#fb9f3a"
             ],
             [
              0.8888888888888888,
              "#fdca26"
             ],
             [
              1,
              "#f0f921"
             ]
            ],
            "type": "heatmapgl"
           }
          ],
          "histogram": [
           {
            "marker": {
             "pattern": {
              "fillmode": "overlay",
              "size": 10,
              "solidity": 0.2
             }
            },
            "type": "histogram"
           }
          ],
          "histogram2d": [
           {
            "colorbar": {
             "outlinewidth": 0,
             "ticks": ""
            },
            "colorscale": [
             [
              0,
              "#0d0887"
             ],
             [
              0.1111111111111111,
              "#46039f"
             ],
             [
              0.2222222222222222,
              "#7201a8"
             ],
             [
              0.3333333333333333,
              "#9c179e"
             ],
             [
              0.4444444444444444,
              "#bd3786"
             ],
             [
              0.5555555555555556,
              "#d8576b"
             ],
             [
              0.6666666666666666,
              "#ed7953"
             ],
             [
              0.7777777777777778,
              "#fb9f3a"
             ],
             [
              0.8888888888888888,
              "#fdca26"
             ],
             [
              1,
              "#f0f921"
             ]
            ],
            "type": "histogram2d"
           }
          ],
          "histogram2dcontour": [
           {
            "colorbar": {
             "outlinewidth": 0,
             "ticks": ""
            },
            "colorscale": [
             [
              0,
              "#0d0887"
             ],
             [
              0.1111111111111111,
              "#46039f"
             ],
             [
              0.2222222222222222,
              "#7201a8"
             ],
             [
              0.3333333333333333,
              "#9c179e"
             ],
             [
              0.4444444444444444,
              "#bd3786"
             ],
             [
              0.5555555555555556,
              "#d8576b"
             ],
             [
              0.6666666666666666,
              "#ed7953"
             ],
             [
              0.7777777777777778,
              "#fb9f3a"
             ],
             [
              0.8888888888888888,
              "#fdca26"
             ],
             [
              1,
              "#f0f921"
             ]
            ],
            "type": "histogram2dcontour"
           }
          ],
          "mesh3d": [
           {
            "colorbar": {
             "outlinewidth": 0,
             "ticks": ""
            },
            "type": "mesh3d"
           }
          ],
          "parcoords": [
           {
            "line": {
             "colorbar": {
              "outlinewidth": 0,
              "ticks": ""
             }
            },
            "type": "parcoords"
           }
          ],
          "pie": [
           {
            "automargin": true,
            "type": "pie"
           }
          ],
          "scatter": [
           {
            "fillpattern": {
             "fillmode": "overlay",
             "size": 10,
             "solidity": 0.2
            },
            "type": "scatter"
           }
          ],
          "scatter3d": [
           {
            "line": {
             "colorbar": {
              "outlinewidth": 0,
              "ticks": ""
             }
            },
            "marker": {
             "colorbar": {
              "outlinewidth": 0,
              "ticks": ""
             }
            },
            "type": "scatter3d"
           }
          ],
          "scattercarpet": [
           {
            "marker": {
             "colorbar": {
              "outlinewidth": 0,
              "ticks": ""
             }
            },
            "type": "scattercarpet"
           }
          ],
          "scattergeo": [
           {
            "marker": {
             "colorbar": {
              "outlinewidth": 0,
              "ticks": ""
             }
            },
            "type": "scattergeo"
           }
          ],
          "scattergl": [
           {
            "marker": {
             "colorbar": {
              "outlinewidth": 0,
              "ticks": ""
             }
            },
            "type": "scattergl"
           }
          ],
          "scattermapbox": [
           {
            "marker": {
             "colorbar": {
              "outlinewidth": 0,
              "ticks": ""
             }
            },
            "type": "scattermapbox"
           }
          ],
          "scatterpolar": [
           {
            "marker": {
             "colorbar": {
              "outlinewidth": 0,
              "ticks": ""
             }
            },
            "type": "scatterpolar"
           }
          ],
          "scatterpolargl": [
           {
            "marker": {
             "colorbar": {
              "outlinewidth": 0,
              "ticks": ""
             }
            },
            "type": "scatterpolargl"
           }
          ],
          "scatterternary": [
           {
            "marker": {
             "colorbar": {
              "outlinewidth": 0,
              "ticks": ""
             }
            },
            "type": "scatterternary"
           }
          ],
          "surface": [
           {
            "colorbar": {
             "outlinewidth": 0,
             "ticks": ""
            },
            "colorscale": [
             [
              0,
              "#0d0887"
             ],
             [
              0.1111111111111111,
              "#46039f"
             ],
             [
              0.2222222222222222,
              "#7201a8"
             ],
             [
              0.3333333333333333,
              "#9c179e"
             ],
             [
              0.4444444444444444,
              "#bd3786"
             ],
             [
              0.5555555555555556,
              "#d8576b"
             ],
             [
              0.6666666666666666,
              "#ed7953"
             ],
             [
              0.7777777777777778,
              "#fb9f3a"
             ],
             [
              0.8888888888888888,
              "#fdca26"
             ],
             [
              1,
              "#f0f921"
             ]
            ],
            "type": "surface"
           }
          ],
          "table": [
           {
            "cells": {
             "fill": {
              "color": "#EBF0F8"
             },
             "line": {
              "color": "white"
             }
            },
            "header": {
             "fill": {
              "color": "#C8D4E3"
             },
             "line": {
              "color": "white"
             }
            },
            "type": "table"
           }
          ]
         },
         "layout": {
          "annotationdefaults": {
           "arrowcolor": "#2a3f5f",
           "arrowhead": 0,
           "arrowwidth": 1
          },
          "autotypenumbers": "strict",
          "coloraxis": {
           "colorbar": {
            "outlinewidth": 0,
            "ticks": ""
           }
          },
          "colorscale": {
           "diverging": [
            [
             0,
             "#8e0152"
            ],
            [
             0.1,
             "#c51b7d"
            ],
            [
             0.2,
             "#de77ae"
            ],
            [
             0.3,
             "#f1b6da"
            ],
            [
             0.4,
             "#fde0ef"
            ],
            [
             0.5,
             "#f7f7f7"
            ],
            [
             0.6,
             "#e6f5d0"
            ],
            [
             0.7,
             "#b8e186"
            ],
            [
             0.8,
             "#7fbc41"
            ],
            [
             0.9,
             "#4d9221"
            ],
            [
             1,
             "#276419"
            ]
           ],
           "sequential": [
            [
             0,
             "#0d0887"
            ],
            [
             0.1111111111111111,
             "#46039f"
            ],
            [
             0.2222222222222222,
             "#7201a8"
            ],
            [
             0.3333333333333333,
             "#9c179e"
            ],
            [
             0.4444444444444444,
             "#bd3786"
            ],
            [
             0.5555555555555556,
             "#d8576b"
            ],
            [
             0.6666666666666666,
             "#ed7953"
            ],
            [
             0.7777777777777778,
             "#fb9f3a"
            ],
            [
             0.8888888888888888,
             "#fdca26"
            ],
            [
             1,
             "#f0f921"
            ]
           ],
           "sequentialminus": [
            [
             0,
             "#0d0887"
            ],
            [
             0.1111111111111111,
             "#46039f"
            ],
            [
             0.2222222222222222,
             "#7201a8"
            ],
            [
             0.3333333333333333,
             "#9c179e"
            ],
            [
             0.4444444444444444,
             "#bd3786"
            ],
            [
             0.5555555555555556,
             "#d8576b"
            ],
            [
             0.6666666666666666,
             "#ed7953"
            ],
            [
             0.7777777777777778,
             "#fb9f3a"
            ],
            [
             0.8888888888888888,
             "#fdca26"
            ],
            [
             1,
             "#f0f921"
            ]
           ]
          },
          "colorway": [
           "#636efa",
           "#EF553B",
           "#00cc96",
           "#ab63fa",
           "#FFA15A",
           "#19d3f3",
           "#FF6692",
           "#B6E880",
           "#FF97FF",
           "#FECB52"
          ],
          "font": {
           "color": "#2a3f5f"
          },
          "geo": {
           "bgcolor": "white",
           "lakecolor": "white",
           "landcolor": "#E5ECF6",
           "showlakes": true,
           "showland": true,
           "subunitcolor": "white"
          },
          "hoverlabel": {
           "align": "left"
          },
          "hovermode": "closest",
          "mapbox": {
           "style": "light"
          },
          "paper_bgcolor": "white",
          "plot_bgcolor": "#E5ECF6",
          "polar": {
           "angularaxis": {
            "gridcolor": "white",
            "linecolor": "white",
            "ticks": ""
           },
           "bgcolor": "#E5ECF6",
           "radialaxis": {
            "gridcolor": "white",
            "linecolor": "white",
            "ticks": ""
           }
          },
          "scene": {
           "xaxis": {
            "backgroundcolor": "#E5ECF6",
            "gridcolor": "white",
            "gridwidth": 2,
            "linecolor": "white",
            "showbackground": true,
            "ticks": "",
            "zerolinecolor": "white"
           },
           "yaxis": {
            "backgroundcolor": "#E5ECF6",
            "gridcolor": "white",
            "gridwidth": 2,
            "linecolor": "white",
            "showbackground": true,
            "ticks": "",
            "zerolinecolor": "white"
           },
           "zaxis": {
            "backgroundcolor": "#E5ECF6",
            "gridcolor": "white",
            "gridwidth": 2,
            "linecolor": "white",
            "showbackground": true,
            "ticks": "",
            "zerolinecolor": "white"
           }
          },
          "shapedefaults": {
           "line": {
            "color": "#2a3f5f"
           }
          },
          "ternary": {
           "aaxis": {
            "gridcolor": "white",
            "linecolor": "white",
            "ticks": ""
           },
           "baxis": {
            "gridcolor": "white",
            "linecolor": "white",
            "ticks": ""
           },
           "bgcolor": "#E5ECF6",
           "caxis": {
            "gridcolor": "white",
            "linecolor": "white",
            "ticks": ""
           }
          },
          "title": {
           "x": 0.05
          },
          "xaxis": {
           "automargin": true,
           "gridcolor": "white",
           "linecolor": "white",
           "ticks": "",
           "title": {
            "standoff": 15
           },
           "zerolinecolor": "white",
           "zerolinewidth": 2
          },
          "yaxis": {
           "automargin": true,
           "gridcolor": "white",
           "linecolor": "white",
           "ticks": "",
           "title": {
            "standoff": 15
           },
           "zerolinecolor": "white",
           "zerolinewidth": 2
          }
         }
        },
        "title": {
         "text": "Number of Reviews in Different Countries"
        },
        "width": 1100
       }
      }
     },
     "metadata": {},
     "output_type": "display_data"
    }
   ],
   "source": [
    "# Строим карту количества отзывов в разных странах\n",
    "import plotly\n",
    "import plotly.express as px\n",
    "choropleth_data = hotels.groupby('country_code')['reviewer_score'].count()\n",
    "fig = px.choropleth(\n",
    "    data_frame=choropleth_data,\n",
    "    locations=choropleth_data.index,\n",
    "    locationmode = 'ISO-3',\n",
    "    color='reviewer_score',\n",
    "    range_color=[1, 10000], \n",
    "    title='Number of Reviews in Different Countries', \n",
    "    width=1100, \n",
    "    height=700, \n",
    "    color_continuous_scale=[[0, 'rgb(255,255,255)'], [1, 'rgb(0,0,255)']]\n",
    ")\n",
    "\n",
    "fig.show()"
   ]
  },
  {
   "attachments": {},
   "cell_type": "markdown",
   "metadata": {},
   "source": [
    "Здесь, на мой взгляд существенную роль играют население страны и его благосостояние."
   ]
  },
  {
   "cell_type": "code",
   "execution_count": 4007,
   "metadata": {},
   "outputs": [
    {
     "data": {
      "application/vnd.plotly.v1+json": {
       "config": {
        "plotlyServerURL": "https://plot.ly"
       },
       "data": [
        {
         "coloraxis": "coloraxis",
         "geo": "geo",
         "hovertemplate": "country_code=%{location}<br>reviewer_score=%{z}<extra></extra>",
         "locationmode": "ISO-3",
         "locations": [
          "ABW",
          "AFG",
          "AGO",
          "AIA",
          "ALB",
          "AND",
          "ARE",
          "ARG",
          "ARM",
          "ASM",
          "ATA",
          "ATG",
          "AUS",
          "AUT",
          "AZE",
          "BDI",
          "BEL",
          "BEN",
          "BES",
          "BGD",
          "BGR",
          "BHR",
          "BHS",
          "BIH",
          "BLM",
          "BLR",
          "BLZ",
          "BMU",
          "BOL",
          "BRA",
          "BRB",
          "BRN",
          "BTN",
          "BWA",
          "CAF",
          "CAN",
          "CCK",
          "CHE",
          "CHL",
          "CHN",
          "CIV",
          "CMR",
          "COD",
          "COG",
          "COK",
          "COL",
          "COM",
          "CRI",
          "CYM",
          "CYP",
          "CZE",
          "DEU",
          "DJI",
          "DMA",
          "DNK",
          "DOM",
          "DZA",
          "ECU",
          "EGY",
          "ERI",
          "ESP",
          "EST",
          "ETH",
          "FIN",
          "FJI",
          "FLK",
          "FRA",
          "FRO",
          "GAB",
          "GBR",
          "GEO",
          "GGY",
          "GHA",
          "GIB",
          "GIN",
          "GMB",
          "GNQ",
          "GRC",
          "GRD",
          "GTM",
          "GUF",
          "GUM",
          "GUY",
          "HKG",
          "HND",
          "HRV",
          "HTI",
          "HUN",
          "IDN",
          "IMN",
          "IND",
          "IRL",
          "IRN",
          "IRQ",
          "ISL",
          "ISR",
          "ITA",
          "JAM",
          "JEY",
          "JOR",
          "JPN",
          "KAZ",
          "KEN",
          "KGZ",
          "KHM",
          "KIR",
          "KNA",
          "KOR",
          "KWT",
          "LAO",
          "LBN",
          "LBR",
          "LBY",
          "LCA",
          "LIE",
          "LKA",
          "LSO",
          "LTU",
          "LUX",
          "LVA",
          "MAC",
          "MAF",
          "MAR",
          "MCO",
          "MDA",
          "MDG",
          "MDV",
          "MEX",
          "MKD",
          "MLI",
          "MLT",
          "MMR",
          "MNE",
          "MNG",
          "MNP",
          "MOZ",
          "MRT",
          "MSR",
          "MUS",
          "MWI",
          "MYS",
          "NAM",
          "NCL",
          "NGA",
          "NIC",
          "NLD",
          "NOR",
          "NPL",
          "NZL",
          "OMN",
          "PAK",
          "PAN",
          "PER",
          "PHL",
          "PLW",
          "PNG",
          "POL",
          "PRI",
          "PRT",
          "PRY",
          "PSE",
          "PYF",
          "QAT",
          "REU",
          "ROU",
          "RUS",
          "RWA",
          "SAU",
          "SDN",
          "SEN",
          "SGP",
          "SJM",
          "SLE",
          "SLV",
          "SMR",
          "SOM",
          "SPM",
          "SRB",
          "SSD",
          "SUR",
          "SVK",
          "SVN",
          "SWE",
          "SWZ",
          "SXM",
          "SYC",
          "SYR",
          "TCA",
          "TGO",
          "THA",
          "TJK",
          "TKM",
          "TLS",
          "TTO",
          "TUN",
          "TUR",
          "TUV",
          "TWN",
          "TZA",
          "UGA",
          "UKR",
          "UMI",
          "URY",
          "USA",
          "UZB",
          "VCT",
          "VEN",
          "VGB",
          "VIR",
          "VNM",
          "VUT",
          "WLF",
          "WSM",
          "YEM",
          "ZAF",
          "ZMB",
          "ZWE"
         ],
         "name": "",
         "type": "choropleth",
         "z": [
          8.4125,
          7.216666666666668,
          8.227906976744187,
          7.5,
          8.207207207207206,
          8.013461538461538,
          7.891545227779966,
          8.396185286103542,
          7.97,
          4.6,
          8.766666666666667,
          8.383333333333335,
          8.590701397869326,
          8.309190974133186,
          7.825570776255708,
          9.2,
          8.164098034886289,
          8.9,
          8.8,
          7.578991596638655,
          8.413755020080322,
          7.987881355932204,
          8.484,
          8.430851063829786,
          10,
          8.110000000000001,
          8.285714285714286,
          8.708433734939758,
          8.764285714285714,
          8.434701223902087,
          8.559574468085106,
          8.361538461538462,
          8.68,
          8.354054054054055,
          9.299999999999999,
          8.58399064171123,
          8.95,
          8.157386888273315,
          8.329527559055117,
          8.459009360374415,
          8.6,
          7.68,
          8.116666666666667,
          9.6,
          5,
          8.579227053140096,
          10,
          8.54888888888889,
          8.773333333333333,
          8.303684749232344,
          8.282082606166375,
          8.11846877098724,
          7.9,
          8.1375,
          8.081055900621118,
          8.25945945945946,
          7.902777777777778,
          8.506818181818183,
          8.070156774916013,
          8.35,
          8.162283933125531,
          8.391956124314442,
          8.115384615384615,
          8.284249628528976,
          7.9,
          8.68,
          8.146307636887608,
          8,
          7.366666666666667,
          8.487440627236644,
          8.1993993993994,
          8.338765432098764,
          8.146491228070175,
          8.241605839416058,
          7.5,
          9.275,
          10,
          8.175315457413248,
          7.9,
          8.364864864864865,
          8.466666666666667,
          8.85,
          8.9,
          8.074933687002652,
          8.617647058823529,
          8.3213228035538,
          8.18,
          8.522569027611045,
          8.241580756013747,
          8.322666666666667,
          7.88358733880422,
          8.46708610461981,
          7.74722891566265,
          7.968444444444445,
          8.481549295774647,
          8.70014233428223,
          8.094037702761947,
          8.14,
          8.361679389312977,
          7.8111900532859675,
          8.330168776371307,
          7.902816901408451,
          8.039408866995075,
          9.142857142857142,
          8.075,
          7.5,
          8.414285714285715,
          8.376059850374066,
          8.033846569421934,
          8.283333333333333,
          8.029584065612186,
          8.200000000000001,
          7.837704918032787,
          8.216666666666667,
          8.925,
          8.107407407407408,
          7.1,
          8.363243243243243,
          8.215142576204522,
          8.234150943396227,
          8.048051948051949,
          8.75,
          8.054237288135592,
          8.03936170212766,
          8.077906976744186,
          7.985714285714286,
          7.838888888888889,
          8.575446428571428,
          8.228971962616823,
          6.44,
          8.465867306155076,
          8.22,
          7.974468085106384,
          7.41,
          5.8,
          7.726923076923077,
          8.360000000000001,
          5.4,
          7.861963190184049,
          8.255555555555555,
          8.19748427672956,
          8.370909090909091,
          8.7,
          8.219183673469388,
          8.671428571428573,
          8.136296519511827,
          8.152080989876266,
          8.042857142857143,
          8.64482617586912,
          7.875956820412169,
          7.720902255639097,
          8.7,
          8.490243902439024,
          8.39803680981595,
          8.3,
          7.82,
          8.225783475783476,
          8.81223021582734,
          8.03002175489485,
          8.505882352941176,
          7.980487804878049,
          8.95,
          7.878065461651197,
          8.65,
          8.167970802919708,
          8.264442939383677,
          8.836363636363636,
          7.884870574233859,
          7.860975609756098,
          7.811111111111111,
          8.151536131544786,
          10,
          7.159999999999999,
          8.642857142857142,
          8.9,
          8.149999999999999,
          8.95,
          8.299553571428572,
          9.2,
          7.042857142857143,
          8.375219941348973,
          8.232752613240418,
          8.190437158469946,
          8.642857142857142,
          8.283333333333333,
          7.8125,
          7.378260869565217,
          7.75,
          8.442857142857143,
          8.215658362989323,
          9.588888888888889,
          7.525,
          8.75,
          8.638317757009345,
          8.03448275862069,
          7.995249695493301,
          7.1,
          8.377810650887573,
          7.85813953488372,
          8.320512820512821,
          8.365947242206234,
          8.343137254901961,
          8.447368421052632,
          8.782977280434045,
          7.778571428571429,
          10,
          8.658490566037736,
          8.475,
          8.218181818181819,
          8.073239436619719,
          8.766666666666667,
          7.3,
          8.55,
          7.869230769230769,
          8.367451523545707,
          8.107142857142858,
          7.783783783783784
         ]
        }
       ],
       "layout": {
        "coloraxis": {
         "cmax": 9,
         "cmin": 7,
         "colorbar": {
          "title": {
           "text": "reviewer_score"
          }
         },
         "colorscale": [
          [
           0,
           "rgb(255,0,0)"
          ],
          [
           1,
           "rgb(0,255,0)"
          ]
         ]
        },
        "geo": {
         "center": {},
         "domain": {
          "x": [
           0,
           1
          ],
          "y": [
           0,
           1
          ]
         }
        },
        "height": 700,
        "legend": {
         "tracegroupgap": 0
        },
        "template": {
         "data": {
          "bar": [
           {
            "error_x": {
             "color": "#2a3f5f"
            },
            "error_y": {
             "color": "#2a3f5f"
            },
            "marker": {
             "line": {
              "color": "#E5ECF6",
              "width": 0.5
             },
             "pattern": {
              "fillmode": "overlay",
              "size": 10,
              "solidity": 0.2
             }
            },
            "type": "bar"
           }
          ],
          "barpolar": [
           {
            "marker": {
             "line": {
              "color": "#E5ECF6",
              "width": 0.5
             },
             "pattern": {
              "fillmode": "overlay",
              "size": 10,
              "solidity": 0.2
             }
            },
            "type": "barpolar"
           }
          ],
          "carpet": [
           {
            "aaxis": {
             "endlinecolor": "#2a3f5f",
             "gridcolor": "white",
             "linecolor": "white",
             "minorgridcolor": "white",
             "startlinecolor": "#2a3f5f"
            },
            "baxis": {
             "endlinecolor": "#2a3f5f",
             "gridcolor": "white",
             "linecolor": "white",
             "minorgridcolor": "white",
             "startlinecolor": "#2a3f5f"
            },
            "type": "carpet"
           }
          ],
          "choropleth": [
           {
            "colorbar": {
             "outlinewidth": 0,
             "ticks": ""
            },
            "type": "choropleth"
           }
          ],
          "contour": [
           {
            "colorbar": {
             "outlinewidth": 0,
             "ticks": ""
            },
            "colorscale": [
             [
              0,
              "#0d0887"
             ],
             [
              0.1111111111111111,
              "#46039f"
             ],
             [
              0.2222222222222222,
              "#7201a8"
             ],
             [
              0.3333333333333333,
              "#9c179e"
             ],
             [
              0.4444444444444444,
              "#bd3786"
             ],
             [
              0.5555555555555556,
              "#d8576b"
             ],
             [
              0.6666666666666666,
              "#ed7953"
             ],
             [
              0.7777777777777778,
              "#fb9f3a"
             ],
             [
              0.8888888888888888,
              "#fdca26"
             ],
             [
              1,
              "#f0f921"
             ]
            ],
            "type": "contour"
           }
          ],
          "contourcarpet": [
           {
            "colorbar": {
             "outlinewidth": 0,
             "ticks": ""
            },
            "type": "contourcarpet"
           }
          ],
          "heatmap": [
           {
            "colorbar": {
             "outlinewidth": 0,
             "ticks": ""
            },
            "colorscale": [
             [
              0,
              "#0d0887"
             ],
             [
              0.1111111111111111,
              "#46039f"
             ],
             [
              0.2222222222222222,
              "#7201a8"
             ],
             [
              0.3333333333333333,
              "#9c179e"
             ],
             [
              0.4444444444444444,
              "#bd3786"
             ],
             [
              0.5555555555555556,
              "#d8576b"
             ],
             [
              0.6666666666666666,
              "#ed7953"
             ],
             [
              0.7777777777777778,
              "#fb9f3a"
             ],
             [
              0.8888888888888888,
              "#fdca26"
             ],
             [
              1,
              "#f0f921"
             ]
            ],
            "type": "heatmap"
           }
          ],
          "heatmapgl": [
           {
            "colorbar": {
             "outlinewidth": 0,
             "ticks": ""
            },
            "colorscale": [
             [
              0,
              "#0d0887"
             ],
             [
              0.1111111111111111,
              "#46039f"
             ],
             [
              0.2222222222222222,
              "#7201a8"
             ],
             [
              0.3333333333333333,
              "#9c179e"
             ],
             [
              0.4444444444444444,
              "#bd3786"
             ],
             [
              0.5555555555555556,
              "#d8576b"
             ],
             [
              0.6666666666666666,
              "#ed7953"
             ],
             [
              0.7777777777777778,
              "#fb9f3a"
             ],
             [
              0.8888888888888888,
              "#fdca26"
             ],
             [
              1,
              "#f0f921"
             ]
            ],
            "type": "heatmapgl"
           }
          ],
          "histogram": [
           {
            "marker": {
             "pattern": {
              "fillmode": "overlay",
              "size": 10,
              "solidity": 0.2
             }
            },
            "type": "histogram"
           }
          ],
          "histogram2d": [
           {
            "colorbar": {
             "outlinewidth": 0,
             "ticks": ""
            },
            "colorscale": [
             [
              0,
              "#0d0887"
             ],
             [
              0.1111111111111111,
              "#46039f"
             ],
             [
              0.2222222222222222,
              "#7201a8"
             ],
             [
              0.3333333333333333,
              "#9c179e"
             ],
             [
              0.4444444444444444,
              "#bd3786"
             ],
             [
              0.5555555555555556,
              "#d8576b"
             ],
             [
              0.6666666666666666,
              "#ed7953"
             ],
             [
              0.7777777777777778,
              "#fb9f3a"
             ],
             [
              0.8888888888888888,
              "#fdca26"
             ],
             [
              1,
              "#f0f921"
             ]
            ],
            "type": "histogram2d"
           }
          ],
          "histogram2dcontour": [
           {
            "colorbar": {
             "outlinewidth": 0,
             "ticks": ""
            },
            "colorscale": [
             [
              0,
              "#0d0887"
             ],
             [
              0.1111111111111111,
              "#46039f"
             ],
             [
              0.2222222222222222,
              "#7201a8"
             ],
             [
              0.3333333333333333,
              "#9c179e"
             ],
             [
              0.4444444444444444,
              "#bd3786"
             ],
             [
              0.5555555555555556,
              "#d8576b"
             ],
             [
              0.6666666666666666,
              "#ed7953"
             ],
             [
              0.7777777777777778,
              "#fb9f3a"
             ],
             [
              0.8888888888888888,
              "#fdca26"
             ],
             [
              1,
              "#f0f921"
             ]
            ],
            "type": "histogram2dcontour"
           }
          ],
          "mesh3d": [
           {
            "colorbar": {
             "outlinewidth": 0,
             "ticks": ""
            },
            "type": "mesh3d"
           }
          ],
          "parcoords": [
           {
            "line": {
             "colorbar": {
              "outlinewidth": 0,
              "ticks": ""
             }
            },
            "type": "parcoords"
           }
          ],
          "pie": [
           {
            "automargin": true,
            "type": "pie"
           }
          ],
          "scatter": [
           {
            "fillpattern": {
             "fillmode": "overlay",
             "size": 10,
             "solidity": 0.2
            },
            "type": "scatter"
           }
          ],
          "scatter3d": [
           {
            "line": {
             "colorbar": {
              "outlinewidth": 0,
              "ticks": ""
             }
            },
            "marker": {
             "colorbar": {
              "outlinewidth": 0,
              "ticks": ""
             }
            },
            "type": "scatter3d"
           }
          ],
          "scattercarpet": [
           {
            "marker": {
             "colorbar": {
              "outlinewidth": 0,
              "ticks": ""
             }
            },
            "type": "scattercarpet"
           }
          ],
          "scattergeo": [
           {
            "marker": {
             "colorbar": {
              "outlinewidth": 0,
              "ticks": ""
             }
            },
            "type": "scattergeo"
           }
          ],
          "scattergl": [
           {
            "marker": {
             "colorbar": {
              "outlinewidth": 0,
              "ticks": ""
             }
            },
            "type": "scattergl"
           }
          ],
          "scattermapbox": [
           {
            "marker": {
             "colorbar": {
              "outlinewidth": 0,
              "ticks": ""
             }
            },
            "type": "scattermapbox"
           }
          ],
          "scatterpolar": [
           {
            "marker": {
             "colorbar": {
              "outlinewidth": 0,
              "ticks": ""
             }
            },
            "type": "scatterpolar"
           }
          ],
          "scatterpolargl": [
           {
            "marker": {
             "colorbar": {
              "outlinewidth": 0,
              "ticks": ""
             }
            },
            "type": "scatterpolargl"
           }
          ],
          "scatterternary": [
           {
            "marker": {
             "colorbar": {
              "outlinewidth": 0,
              "ticks": ""
             }
            },
            "type": "scatterternary"
           }
          ],
          "surface": [
           {
            "colorbar": {
             "outlinewidth": 0,
             "ticks": ""
            },
            "colorscale": [
             [
              0,
              "#0d0887"
             ],
             [
              0.1111111111111111,
              "#46039f"
             ],
             [
              0.2222222222222222,
              "#7201a8"
             ],
             [
              0.3333333333333333,
              "#9c179e"
             ],
             [
              0.4444444444444444,
              "#bd3786"
             ],
             [
              0.5555555555555556,
              "#d8576b"
             ],
             [
              0.6666666666666666,
              "#ed7953"
             ],
             [
              0.7777777777777778,
              "#fb9f3a"
             ],
             [
              0.8888888888888888,
              "#fdca26"
             ],
             [
              1,
              "#f0f921"
             ]
            ],
            "type": "surface"
           }
          ],
          "table": [
           {
            "cells": {
             "fill": {
              "color": "#EBF0F8"
             },
             "line": {
              "color": "white"
             }
            },
            "header": {
             "fill": {
              "color": "#C8D4E3"
             },
             "line": {
              "color": "white"
             }
            },
            "type": "table"
           }
          ]
         },
         "layout": {
          "annotationdefaults": {
           "arrowcolor": "#2a3f5f",
           "arrowhead": 0,
           "arrowwidth": 1
          },
          "autotypenumbers": "strict",
          "coloraxis": {
           "colorbar": {
            "outlinewidth": 0,
            "ticks": ""
           }
          },
          "colorscale": {
           "diverging": [
            [
             0,
             "#8e0152"
            ],
            [
             0.1,
             "#c51b7d"
            ],
            [
             0.2,
             "#de77ae"
            ],
            [
             0.3,
             "#f1b6da"
            ],
            [
             0.4,
             "#fde0ef"
            ],
            [
             0.5,
             "#f7f7f7"
            ],
            [
             0.6,
             "#e6f5d0"
            ],
            [
             0.7,
             "#b8e186"
            ],
            [
             0.8,
             "#7fbc41"
            ],
            [
             0.9,
             "#4d9221"
            ],
            [
             1,
             "#276419"
            ]
           ],
           "sequential": [
            [
             0,
             "#0d0887"
            ],
            [
             0.1111111111111111,
             "#46039f"
            ],
            [
             0.2222222222222222,
             "#7201a8"
            ],
            [
             0.3333333333333333,
             "#9c179e"
            ],
            [
             0.4444444444444444,
             "#bd3786"
            ],
            [
             0.5555555555555556,
             "#d8576b"
            ],
            [
             0.6666666666666666,
             "#ed7953"
            ],
            [
             0.7777777777777778,
             "#fb9f3a"
            ],
            [
             0.8888888888888888,
             "#fdca26"
            ],
            [
             1,
             "#f0f921"
            ]
           ],
           "sequentialminus": [
            [
             0,
             "#0d0887"
            ],
            [
             0.1111111111111111,
             "#46039f"
            ],
            [
             0.2222222222222222,
             "#7201a8"
            ],
            [
             0.3333333333333333,
             "#9c179e"
            ],
            [
             0.4444444444444444,
             "#bd3786"
            ],
            [
             0.5555555555555556,
             "#d8576b"
            ],
            [
             0.6666666666666666,
             "#ed7953"
            ],
            [
             0.7777777777777778,
             "#fb9f3a"
            ],
            [
             0.8888888888888888,
             "#fdca26"
            ],
            [
             1,
             "#f0f921"
            ]
           ]
          },
          "colorway": [
           "#636efa",
           "#EF553B",
           "#00cc96",
           "#ab63fa",
           "#FFA15A",
           "#19d3f3",
           "#FF6692",
           "#B6E880",
           "#FF97FF",
           "#FECB52"
          ],
          "font": {
           "color": "#2a3f5f"
          },
          "geo": {
           "bgcolor": "white",
           "lakecolor": "white",
           "landcolor": "#E5ECF6",
           "showlakes": true,
           "showland": true,
           "subunitcolor": "white"
          },
          "hoverlabel": {
           "align": "left"
          },
          "hovermode": "closest",
          "mapbox": {
           "style": "light"
          },
          "paper_bgcolor": "white",
          "plot_bgcolor": "#E5ECF6",
          "polar": {
           "angularaxis": {
            "gridcolor": "white",
            "linecolor": "white",
            "ticks": ""
           },
           "bgcolor": "#E5ECF6",
           "radialaxis": {
            "gridcolor": "white",
            "linecolor": "white",
            "ticks": ""
           }
          },
          "scene": {
           "xaxis": {
            "backgroundcolor": "#E5ECF6",
            "gridcolor": "white",
            "gridwidth": 2,
            "linecolor": "white",
            "showbackground": true,
            "ticks": "",
            "zerolinecolor": "white"
           },
           "yaxis": {
            "backgroundcolor": "#E5ECF6",
            "gridcolor": "white",
            "gridwidth": 2,
            "linecolor": "white",
            "showbackground": true,
            "ticks": "",
            "zerolinecolor": "white"
           },
           "zaxis": {
            "backgroundcolor": "#E5ECF6",
            "gridcolor": "white",
            "gridwidth": 2,
            "linecolor": "white",
            "showbackground": true,
            "ticks": "",
            "zerolinecolor": "white"
           }
          },
          "shapedefaults": {
           "line": {
            "color": "#2a3f5f"
           }
          },
          "ternary": {
           "aaxis": {
            "gridcolor": "white",
            "linecolor": "white",
            "ticks": ""
           },
           "baxis": {
            "gridcolor": "white",
            "linecolor": "white",
            "ticks": ""
           },
           "bgcolor": "#E5ECF6",
           "caxis": {
            "gridcolor": "white",
            "linecolor": "white",
            "ticks": ""
           }
          },
          "title": {
           "x": 0.05
          },
          "xaxis": {
           "automargin": true,
           "gridcolor": "white",
           "linecolor": "white",
           "ticks": "",
           "title": {
            "standoff": 15
           },
           "zerolinecolor": "white",
           "zerolinewidth": 2
          },
          "yaxis": {
           "automargin": true,
           "gridcolor": "white",
           "linecolor": "white",
           "ticks": "",
           "title": {
            "standoff": 15
           },
           "zerolinecolor": "white",
           "zerolinewidth": 2
          }
         }
        },
        "title": {
         "text": "Average Score from Guests in Different Countries"
        },
        "width": 1100
       }
      }
     },
     "metadata": {},
     "output_type": "display_data"
    }
   ],
   "source": [
    "# Строим карту средней оценки отелей в зависимости от национальности гостя\n",
    "import plotly\n",
    "import plotly.express as px\n",
    "choropleth_data = hotels.groupby('country_code')['reviewer_score'].mean()\n",
    "fig = px.choropleth(\n",
    "    data_frame=choropleth_data,\n",
    "    locations=choropleth_data.index,\n",
    "    locationmode = 'ISO-3',\n",
    "    color='reviewer_score',\n",
    "    range_color=[7, 9], \n",
    "    title='Average Score from Guests in Different Countries', \n",
    "    width=1100, \n",
    "    height=700, \n",
    "    color_continuous_scale=[[0, 'rgb(255,0,0)'], [1, 'rgb(0,255,0)']]\n",
    ")\n",
    "\n",
    "fig.show()"
   ]
  },
  {
   "attachments": {},
   "cell_type": "markdown",
   "metadata": {},
   "source": [
    "В целом, каких-либо аномальностей я не обнаружил. В разных частях света разные средние оценки. Слишком явных перекосов не наблюдается."
   ]
  },
  {
   "cell_type": "code",
   "execution_count": 4008,
   "metadata": {},
   "outputs": [],
   "source": [
    "# Избавимся от ненужного столбца\n",
    "hotels = hotels.drop('reviewer_nationality', axis=1)"
   ]
  },
  {
   "attachments": {},
   "cell_type": "markdown",
   "metadata": {},
   "source": [
    "Далее распределим отели по их стране нахождения."
   ]
  },
  {
   "cell_type": "code",
   "execution_count": 4009,
   "metadata": {},
   "outputs": [],
   "source": [
    "# Выбираем последнее слово из адреса отеля\n",
    "hotels['hotel_country'] = hotels['hotel_address'].str.split().str[-1]"
   ]
  },
  {
   "cell_type": "code",
   "execution_count": 4010,
   "metadata": {},
   "outputs": [
    {
     "data": {
      "text/plain": [
       "Kingdom        196774\n",
       "Spain           45132\n",
       "France          44830\n",
       "Netherlands     43006\n",
       "Austria         29178\n",
       "Italy           27883\n",
       "Name: hotel_country, dtype: int64"
      ]
     },
     "execution_count": 4010,
     "metadata": {},
     "output_type": "execute_result"
    }
   ],
   "source": [
    "hotels['hotel_country'].value_counts()"
   ]
  },
  {
   "cell_type": "code",
   "execution_count": 4011,
   "metadata": {},
   "outputs": [],
   "source": [
    "# Меняем название на номерной код страны согласно формату ISO\n",
    "hotels['hotel_country'] = hotels['hotel_country'].str.replace(r'Kingdom', '826', regex= True)\n",
    "hotels['hotel_country'] = hotels['hotel_country'].str.replace(r'Spain', '724', regex= True)\n",
    "hotels['hotel_country'] = hotels['hotel_country'].str.replace(r'France', '250', regex= True)\n",
    "hotels['hotel_country'] = hotels['hotel_country'].str.replace(r'Netherlands', '528', regex= True)\n",
    "hotels['hotel_country'] = hotels['hotel_country'].str.replace(r'Austria', '040', regex= True)\n",
    "hotels['hotel_country'] = hotels['hotel_country'].str.replace(r'Italy', '380', regex= True)\n",
    "hotels['hotel_country'] = hotels['hotel_country'].astype(int)"
   ]
  },
  {
   "cell_type": "code",
   "execution_count": 4012,
   "metadata": {},
   "outputs": [],
   "source": [
    "# Для построения карты добавляем буквенный код страны\n",
    "hotels['hotel_country_code'] = hotels['hotel_country'].astype(str)\n",
    "hotels['hotel_country_code'] = hotels['hotel_country_code'].str.replace(r'826', 'GBR', regex= True)\n",
    "hotels['hotel_country_code'] = hotels['hotel_country_code'].str.replace(r'724', 'ESP', regex= True)\n",
    "hotels['hotel_country_code'] = hotels['hotel_country_code'].str.replace(r'250', 'FRA', regex= True)\n",
    "hotels['hotel_country_code'] = hotels['hotel_country_code'].str.replace(r'528', 'NLD', regex= True)\n",
    "hotels['hotel_country_code'] = hotels['hotel_country_code'].str.replace(r'40', 'AUT', regex= True)\n",
    "hotels['hotel_country_code'] = hotels['hotel_country_code'].str.replace(r'380', 'ITA', regex= True)"
   ]
  },
  {
   "cell_type": "code",
   "execution_count": 4013,
   "metadata": {},
   "outputs": [
    {
     "data": {
      "application/vnd.plotly.v1+json": {
       "config": {
        "plotlyServerURL": "https://plot.ly"
       },
       "data": [
        {
         "coloraxis": "coloraxis",
         "geo": "geo",
         "hovertemplate": "hotel_country_code=%{location}<br>reviewer_score=%{z}<extra></extra>",
         "locationmode": "ISO-3",
         "locations": [
          "AUT",
          "ESP",
          "FRA",
          "GBR",
          "ITA",
          "NLD"
         ],
         "name": "",
         "type": "choropleth",
         "z": [
          8.552642401809582,
          8.553746787201986,
          8.42058666071827,
          8.326883633000294,
          8.35548183480974,
          8.44921406315398
         ]
        }
       ],
       "layout": {
        "coloraxis": {
         "cmax": 8.6,
         "cmin": 8.3,
         "colorbar": {
          "title": {
           "text": "reviewer_score"
          }
         },
         "colorscale": [
          [
           0,
           "rgb(255,0,0)"
          ],
          [
           1,
           "rgb(0,255,0)"
          ]
         ]
        },
        "geo": {
         "center": {},
         "domain": {
          "x": [
           0,
           1
          ],
          "y": [
           0,
           1
          ]
         }
        },
        "height": 700,
        "legend": {
         "tracegroupgap": 0
        },
        "template": {
         "data": {
          "bar": [
           {
            "error_x": {
             "color": "#2a3f5f"
            },
            "error_y": {
             "color": "#2a3f5f"
            },
            "marker": {
             "line": {
              "color": "#E5ECF6",
              "width": 0.5
             },
             "pattern": {
              "fillmode": "overlay",
              "size": 10,
              "solidity": 0.2
             }
            },
            "type": "bar"
           }
          ],
          "barpolar": [
           {
            "marker": {
             "line": {
              "color": "#E5ECF6",
              "width": 0.5
             },
             "pattern": {
              "fillmode": "overlay",
              "size": 10,
              "solidity": 0.2
             }
            },
            "type": "barpolar"
           }
          ],
          "carpet": [
           {
            "aaxis": {
             "endlinecolor": "#2a3f5f",
             "gridcolor": "white",
             "linecolor": "white",
             "minorgridcolor": "white",
             "startlinecolor": "#2a3f5f"
            },
            "baxis": {
             "endlinecolor": "#2a3f5f",
             "gridcolor": "white",
             "linecolor": "white",
             "minorgridcolor": "white",
             "startlinecolor": "#2a3f5f"
            },
            "type": "carpet"
           }
          ],
          "choropleth": [
           {
            "colorbar": {
             "outlinewidth": 0,
             "ticks": ""
            },
            "type": "choropleth"
           }
          ],
          "contour": [
           {
            "colorbar": {
             "outlinewidth": 0,
             "ticks": ""
            },
            "colorscale": [
             [
              0,
              "#0d0887"
             ],
             [
              0.1111111111111111,
              "#46039f"
             ],
             [
              0.2222222222222222,
              "#7201a8"
             ],
             [
              0.3333333333333333,
              "#9c179e"
             ],
             [
              0.4444444444444444,
              "#bd3786"
             ],
             [
              0.5555555555555556,
              "#d8576b"
             ],
             [
              0.6666666666666666,
              "#ed7953"
             ],
             [
              0.7777777777777778,
              "#fb9f3a"
             ],
             [
              0.8888888888888888,
              "#fdca26"
             ],
             [
              1,
              "#f0f921"
             ]
            ],
            "type": "contour"
           }
          ],
          "contourcarpet": [
           {
            "colorbar": {
             "outlinewidth": 0,
             "ticks": ""
            },
            "type": "contourcarpet"
           }
          ],
          "heatmap": [
           {
            "colorbar": {
             "outlinewidth": 0,
             "ticks": ""
            },
            "colorscale": [
             [
              0,
              "#0d0887"
             ],
             [
              0.1111111111111111,
              "#46039f"
             ],
             [
              0.2222222222222222,
              "#7201a8"
             ],
             [
              0.3333333333333333,
              "#9c179e"
             ],
             [
              0.4444444444444444,
              "#bd3786"
             ],
             [
              0.5555555555555556,
              "#d8576b"
             ],
             [
              0.6666666666666666,
              "#ed7953"
             ],
             [
              0.7777777777777778,
              "#fb9f3a"
             ],
             [
              0.8888888888888888,
              "#fdca26"
             ],
             [
              1,
              "#f0f921"
             ]
            ],
            "type": "heatmap"
           }
          ],
          "heatmapgl": [
           {
            "colorbar": {
             "outlinewidth": 0,
             "ticks": ""
            },
            "colorscale": [
             [
              0,
              "#0d0887"
             ],
             [
              0.1111111111111111,
              "#46039f"
             ],
             [
              0.2222222222222222,
              "#7201a8"
             ],
             [
              0.3333333333333333,
              "#9c179e"
             ],
             [
              0.4444444444444444,
              "#bd3786"
             ],
             [
              0.5555555555555556,
              "#d8576b"
             ],
             [
              0.6666666666666666,
              "#ed7953"
             ],
             [
              0.7777777777777778,
              "#fb9f3a"
             ],
             [
              0.8888888888888888,
              "#fdca26"
             ],
             [
              1,
              "#f0f921"
             ]
            ],
            "type": "heatmapgl"
           }
          ],
          "histogram": [
           {
            "marker": {
             "pattern": {
              "fillmode": "overlay",
              "size": 10,
              "solidity": 0.2
             }
            },
            "type": "histogram"
           }
          ],
          "histogram2d": [
           {
            "colorbar": {
             "outlinewidth": 0,
             "ticks": ""
            },
            "colorscale": [
             [
              0,
              "#0d0887"
             ],
             [
              0.1111111111111111,
              "#46039f"
             ],
             [
              0.2222222222222222,
              "#7201a8"
             ],
             [
              0.3333333333333333,
              "#9c179e"
             ],
             [
              0.4444444444444444,
              "#bd3786"
             ],
             [
              0.5555555555555556,
              "#d8576b"
             ],
             [
              0.6666666666666666,
              "#ed7953"
             ],
             [
              0.7777777777777778,
              "#fb9f3a"
             ],
             [
              0.8888888888888888,
              "#fdca26"
             ],
             [
              1,
              "#f0f921"
             ]
            ],
            "type": "histogram2d"
           }
          ],
          "histogram2dcontour": [
           {
            "colorbar": {
             "outlinewidth": 0,
             "ticks": ""
            },
            "colorscale": [
             [
              0,
              "#0d0887"
             ],
             [
              0.1111111111111111,
              "#46039f"
             ],
             [
              0.2222222222222222,
              "#7201a8"
             ],
             [
              0.3333333333333333,
              "#9c179e"
             ],
             [
              0.4444444444444444,
              "#bd3786"
             ],
             [
              0.5555555555555556,
              "#d8576b"
             ],
             [
              0.6666666666666666,
              "#ed7953"
             ],
             [
              0.7777777777777778,
              "#fb9f3a"
             ],
             [
              0.8888888888888888,
              "#fdca26"
             ],
             [
              1,
              "#f0f921"
             ]
            ],
            "type": "histogram2dcontour"
           }
          ],
          "mesh3d": [
           {
            "colorbar": {
             "outlinewidth": 0,
             "ticks": ""
            },
            "type": "mesh3d"
           }
          ],
          "parcoords": [
           {
            "line": {
             "colorbar": {
              "outlinewidth": 0,
              "ticks": ""
             }
            },
            "type": "parcoords"
           }
          ],
          "pie": [
           {
            "automargin": true,
            "type": "pie"
           }
          ],
          "scatter": [
           {
            "fillpattern": {
             "fillmode": "overlay",
             "size": 10,
             "solidity": 0.2
            },
            "type": "scatter"
           }
          ],
          "scatter3d": [
           {
            "line": {
             "colorbar": {
              "outlinewidth": 0,
              "ticks": ""
             }
            },
            "marker": {
             "colorbar": {
              "outlinewidth": 0,
              "ticks": ""
             }
            },
            "type": "scatter3d"
           }
          ],
          "scattercarpet": [
           {
            "marker": {
             "colorbar": {
              "outlinewidth": 0,
              "ticks": ""
             }
            },
            "type": "scattercarpet"
           }
          ],
          "scattergeo": [
           {
            "marker": {
             "colorbar": {
              "outlinewidth": 0,
              "ticks": ""
             }
            },
            "type": "scattergeo"
           }
          ],
          "scattergl": [
           {
            "marker": {
             "colorbar": {
              "outlinewidth": 0,
              "ticks": ""
             }
            },
            "type": "scattergl"
           }
          ],
          "scattermapbox": [
           {
            "marker": {
             "colorbar": {
              "outlinewidth": 0,
              "ticks": ""
             }
            },
            "type": "scattermapbox"
           }
          ],
          "scatterpolar": [
           {
            "marker": {
             "colorbar": {
              "outlinewidth": 0,
              "ticks": ""
             }
            },
            "type": "scatterpolar"
           }
          ],
          "scatterpolargl": [
           {
            "marker": {
             "colorbar": {
              "outlinewidth": 0,
              "ticks": ""
             }
            },
            "type": "scatterpolargl"
           }
          ],
          "scatterternary": [
           {
            "marker": {
             "colorbar": {
              "outlinewidth": 0,
              "ticks": ""
             }
            },
            "type": "scatterternary"
           }
          ],
          "surface": [
           {
            "colorbar": {
             "outlinewidth": 0,
             "ticks": ""
            },
            "colorscale": [
             [
              0,
              "#0d0887"
             ],
             [
              0.1111111111111111,
              "#46039f"
             ],
             [
              0.2222222222222222,
              "#7201a8"
             ],
             [
              0.3333333333333333,
              "#9c179e"
             ],
             [
              0.4444444444444444,
              "#bd3786"
             ],
             [
              0.5555555555555556,
              "#d8576b"
             ],
             [
              0.6666666666666666,
              "#ed7953"
             ],
             [
              0.7777777777777778,
              "#fb9f3a"
             ],
             [
              0.8888888888888888,
              "#fdca26"
             ],
             [
              1,
              "#f0f921"
             ]
            ],
            "type": "surface"
           }
          ],
          "table": [
           {
            "cells": {
             "fill": {
              "color": "#EBF0F8"
             },
             "line": {
              "color": "white"
             }
            },
            "header": {
             "fill": {
              "color": "#C8D4E3"
             },
             "line": {
              "color": "white"
             }
            },
            "type": "table"
           }
          ]
         },
         "layout": {
          "annotationdefaults": {
           "arrowcolor": "#2a3f5f",
           "arrowhead": 0,
           "arrowwidth": 1
          },
          "autotypenumbers": "strict",
          "coloraxis": {
           "colorbar": {
            "outlinewidth": 0,
            "ticks": ""
           }
          },
          "colorscale": {
           "diverging": [
            [
             0,
             "#8e0152"
            ],
            [
             0.1,
             "#c51b7d"
            ],
            [
             0.2,
             "#de77ae"
            ],
            [
             0.3,
             "#f1b6da"
            ],
            [
             0.4,
             "#fde0ef"
            ],
            [
             0.5,
             "#f7f7f7"
            ],
            [
             0.6,
             "#e6f5d0"
            ],
            [
             0.7,
             "#b8e186"
            ],
            [
             0.8,
             "#7fbc41"
            ],
            [
             0.9,
             "#4d9221"
            ],
            [
             1,
             "#276419"
            ]
           ],
           "sequential": [
            [
             0,
             "#0d0887"
            ],
            [
             0.1111111111111111,
             "#46039f"
            ],
            [
             0.2222222222222222,
             "#7201a8"
            ],
            [
             0.3333333333333333,
             "#9c179e"
            ],
            [
             0.4444444444444444,
             "#bd3786"
            ],
            [
             0.5555555555555556,
             "#d8576b"
            ],
            [
             0.6666666666666666,
             "#ed7953"
            ],
            [
             0.7777777777777778,
             "#fb9f3a"
            ],
            [
             0.8888888888888888,
             "#fdca26"
            ],
            [
             1,
             "#f0f921"
            ]
           ],
           "sequentialminus": [
            [
             0,
             "#0d0887"
            ],
            [
             0.1111111111111111,
             "#46039f"
            ],
            [
             0.2222222222222222,
             "#7201a8"
            ],
            [
             0.3333333333333333,
             "#9c179e"
            ],
            [
             0.4444444444444444,
             "#bd3786"
            ],
            [
             0.5555555555555556,
             "#d8576b"
            ],
            [
             0.6666666666666666,
             "#ed7953"
            ],
            [
             0.7777777777777778,
             "#fb9f3a"
            ],
            [
             0.8888888888888888,
             "#fdca26"
            ],
            [
             1,
             "#f0f921"
            ]
           ]
          },
          "colorway": [
           "#636efa",
           "#EF553B",
           "#00cc96",
           "#ab63fa",
           "#FFA15A",
           "#19d3f3",
           "#FF6692",
           "#B6E880",
           "#FF97FF",
           "#FECB52"
          ],
          "font": {
           "color": "#2a3f5f"
          },
          "geo": {
           "bgcolor": "white",
           "lakecolor": "white",
           "landcolor": "#E5ECF6",
           "showlakes": true,
           "showland": true,
           "subunitcolor": "white"
          },
          "hoverlabel": {
           "align": "left"
          },
          "hovermode": "closest",
          "mapbox": {
           "style": "light"
          },
          "paper_bgcolor": "white",
          "plot_bgcolor": "#E5ECF6",
          "polar": {
           "angularaxis": {
            "gridcolor": "white",
            "linecolor": "white",
            "ticks": ""
           },
           "bgcolor": "#E5ECF6",
           "radialaxis": {
            "gridcolor": "white",
            "linecolor": "white",
            "ticks": ""
           }
          },
          "scene": {
           "xaxis": {
            "backgroundcolor": "#E5ECF6",
            "gridcolor": "white",
            "gridwidth": 2,
            "linecolor": "white",
            "showbackground": true,
            "ticks": "",
            "zerolinecolor": "white"
           },
           "yaxis": {
            "backgroundcolor": "#E5ECF6",
            "gridcolor": "white",
            "gridwidth": 2,
            "linecolor": "white",
            "showbackground": true,
            "ticks": "",
            "zerolinecolor": "white"
           },
           "zaxis": {
            "backgroundcolor": "#E5ECF6",
            "gridcolor": "white",
            "gridwidth": 2,
            "linecolor": "white",
            "showbackground": true,
            "ticks": "",
            "zerolinecolor": "white"
           }
          },
          "shapedefaults": {
           "line": {
            "color": "#2a3f5f"
           }
          },
          "ternary": {
           "aaxis": {
            "gridcolor": "white",
            "linecolor": "white",
            "ticks": ""
           },
           "baxis": {
            "gridcolor": "white",
            "linecolor": "white",
            "ticks": ""
           },
           "bgcolor": "#E5ECF6",
           "caxis": {
            "gridcolor": "white",
            "linecolor": "white",
            "ticks": ""
           }
          },
          "title": {
           "x": 0.05
          },
          "xaxis": {
           "automargin": true,
           "gridcolor": "white",
           "linecolor": "white",
           "ticks": "",
           "title": {
            "standoff": 15
           },
           "zerolinecolor": "white",
           "zerolinewidth": 2
          },
          "yaxis": {
           "automargin": true,
           "gridcolor": "white",
           "linecolor": "white",
           "ticks": "",
           "title": {
            "standoff": 15
           },
           "zerolinecolor": "white",
           "zerolinewidth": 2
          }
         }
        },
        "title": {
         "text": "Number of Hotels"
        },
        "width": 1100
       }
      }
     },
     "metadata": {},
     "output_type": "display_data"
    }
   ],
   "source": [
    "# Строим карту средней оценки отелей в разных странах\n",
    "choropleth_data2 = hotels.groupby('hotel_country_code')['reviewer_score'].mean()\n",
    "fig = px.choropleth(\n",
    "    data_frame=choropleth_data2,\n",
    "    locations=choropleth_data2.index,\n",
    "    locationmode = 'ISO-3',\n",
    "    color='reviewer_score',\n",
    "    range_color=[8.3, 8.6], \n",
    "    title='Number of Hotels', \n",
    "    width=1100, \n",
    "    height=700, \n",
    "    color_continuous_scale=[[0, 'rgb(255,0,0)'], [1, 'rgb(0,255,0)']]\n",
    ")\n",
    "\n",
    "fig.show()"
   ]
  },
  {
   "attachments": {},
   "cell_type": "markdown",
   "metadata": {},
   "source": [
    "В целом, разница в оценках не сильно велика, однако заметно, что испанские отели пользуются большей популярностью, нежели чем британские."
   ]
  },
  {
   "cell_type": "code",
   "execution_count": 4014,
   "metadata": {},
   "outputs": [],
   "source": [
    "# Удаляем ненужный признак\n",
    "hotels = hotels.drop('hotel_address', axis=1)"
   ]
  },
  {
   "attachments": {},
   "cell_type": "markdown",
   "metadata": {},
   "source": [
    "Далее построим различные графики согласно дат отзывов"
   ]
  },
  {
   "cell_type": "code",
   "execution_count": 4015,
   "metadata": {},
   "outputs": [
    {
     "data": {
      "text/plain": [
       "Text(0.5, 1.0, 'Количество отзывов согласно дате')"
      ]
     },
     "execution_count": 4015,
     "metadata": {},
     "output_type": "execute_result"
    },
    {
     "data": {
      "image/png": "[encoded data removed]",
      "text/plain": [
       "<Figure size 1600x500 with 1 Axes>"
      ]
     },
     "metadata": {},
     "output_type": "display_data"
    }
   ],
   "source": [
    "import matplotlib.pyplot as plt\n",
    "import seaborn as sns\n",
    "\n",
    "date = hotels.groupby('review_date')['reviewer_score'].count()\n",
    "line,ax = plt.subplots(figsize=(16, 5)) \n",
    "ax = sns.lineplot(data=date)\n",
    "ax.set_title('Количество отзывов согласно дате', fontsize=16)"
   ]
  },
  {
   "attachments": {},
   "cell_type": "markdown",
   "metadata": {},
   "source": [
    "В целом график относительно ровный, сложно обнаружить какие-либо отклонения."
   ]
  },
  {
   "cell_type": "code",
   "execution_count": 4016,
   "metadata": {},
   "outputs": [
    {
     "data": {
      "text/plain": [
       "Text(0.5, 1.0, 'Распределение средней оценки отзыва согласно дате')"
      ]
     },
     "execution_count": 4016,
     "metadata": {},
     "output_type": "execute_result"
    },
    {
     "data": {
      "image/png": "[encoded data removed]",
      "text/plain": [
       "<Figure size 1600x500 with 1 Axes>"
      ]
     },
     "metadata": {},
     "output_type": "display_data"
    }
   ],
   "source": [
    "date2 = hotels.groupby('review_date')['reviewer_score'].mean()\n",
    "line,ax = plt.subplots(figsize=(16, 5)) \n",
    "ax = sns.lineplot(data=date2)\n",
    "ax.set_title('Распределение средней оценки отзыва согласно дате', fontsize=16)"
   ]
  },
  {
   "attachments": {},
   "cell_type": "markdown",
   "metadata": {},
   "source": [
    "Данный график тоже относительно ровный. Наблюдается т.н. \"сезонность\". Почему-то рейтинг отзывов, оставленных осенью заметно ниже отзывов, оставленных весной."
   ]
  },
  {
   "cell_type": "code",
   "execution_count": 4017,
   "metadata": {},
   "outputs": [
    {
     "data": {
      "text/plain": [
       "Text(0.5, 1.0, 'Распределение количества отзывов согласно оценкам')"
      ]
     },
     "execution_count": 4017,
     "metadata": {},
     "output_type": "execute_result"
    },
    {
     "data": {
      "image/png": "[encoded data removed]",
      "text/plain": [
       "<Figure size 1600x500 with 1 Axes>"
      ]
     },
     "metadata": {},
     "output_type": "display_data"
    }
   ],
   "source": [
    "line,ax = plt.subplots(figsize=(16, 5)) \n",
    "ax = sns.histplot(data=hotels,x='reviewer_score', bins=19)\n",
    "ax.set_title('Распределение количества отзывов согласно оценкам', fontsize=16)"
   ]
  },
  {
   "attachments": {},
   "cell_type": "markdown",
   "metadata": {},
   "source": [
    "Как и ожидалось, большинство гостей остафили своим отелям положительные отзывы."
   ]
  },
  {
   "attachments": {},
   "cell_type": "markdown",
   "metadata": {},
   "source": [
    "Создадим ещё один числовой признак, а именно код страны гостя, оставившего отзыв отелю."
   ]
  },
  {
   "cell_type": "code",
   "execution_count": 4018,
   "metadata": {},
   "outputs": [],
   "source": [
    "country = pd.read_csv('data/country-codes.csv')"
   ]
  },
  {
   "cell_type": "code",
   "execution_count": 4019,
   "metadata": {},
   "outputs": [
    {
     "data": {
      "text/html": [
       "<div>\n",
       "<style scoped>\n",
       "    .dataframe tbody tr th:only-of-type {\n",
       "        vertical-align: middle;\n",
       "    }\n",
       "\n",
       "    .dataframe tbody tr th {\n",
       "        vertical-align: top;\n",
       "    }\n",
       "\n",
       "    .dataframe thead th {\n",
       "        text-align: right;\n",
       "    }\n",
       "</style>\n",
       "<table border=\"1\" class=\"dataframe\">\n",
       "  <thead>\n",
       "    <tr style=\"text-align: right;\">\n",
       "      <th></th>\n",
       "      <th>ISO3166-1-Alpha-3</th>\n",
       "      <th>ISO3166-1-numeric</th>\n",
       "    </tr>\n",
       "  </thead>\n",
       "  <tbody>\n",
       "    <tr>\n",
       "      <th>0</th>\n",
       "      <td>TWN</td>\n",
       "      <td>158.0</td>\n",
       "    </tr>\n",
       "    <tr>\n",
       "      <th>1</th>\n",
       "      <td>AFG</td>\n",
       "      <td>4.0</td>\n",
       "    </tr>\n",
       "    <tr>\n",
       "      <th>2</th>\n",
       "      <td>ALB</td>\n",
       "      <td>8.0</td>\n",
       "    </tr>\n",
       "    <tr>\n",
       "      <th>3</th>\n",
       "      <td>DZA</td>\n",
       "      <td>12.0</td>\n",
       "    </tr>\n",
       "    <tr>\n",
       "      <th>4</th>\n",
       "      <td>ASM</td>\n",
       "      <td>16.0</td>\n",
       "    </tr>\n",
       "  </tbody>\n",
       "</table>\n",
       "</div>"
      ],
      "text/plain": [
       "  ISO3166-1-Alpha-3  ISO3166-1-numeric\n",
       "0               TWN              158.0\n",
       "1               AFG                4.0\n",
       "2               ALB                8.0\n",
       "3               DZA               12.0\n",
       "4               ASM               16.0"
      ]
     },
     "execution_count": 4019,
     "metadata": {},
     "output_type": "execute_result"
    }
   ],
   "source": [
    "# Оставляем два стобца с буквенным и числовым кодом страны согласно стандарту ISO\n",
    "country = country.drop(columns=country.iloc[:, 6:]) \n",
    "country = country.drop(columns=country.iloc[:, 3:5])\n",
    "country = country.drop(columns=country.iloc[:, 0:2]) \n",
    "country.head()"
   ]
  },
  {
   "cell_type": "code",
   "execution_count": 4020,
   "metadata": {},
   "outputs": [],
   "source": [
    "# Добавим данную таблицу к нашей\n",
    "hotels = hotels.merge(country, left_on='country_code', right_on='ISO3166-1-Alpha-3', how='left')"
   ]
  },
  {
   "cell_type": "code",
   "execution_count": 4021,
   "metadata": {},
   "outputs": [],
   "source": [
    "hotels['ISO3166-1-numeric'] = hotels['ISO3166-1-numeric'].astype(int)"
   ]
  },
  {
   "cell_type": "code",
   "execution_count": 4022,
   "metadata": {},
   "outputs": [],
   "source": [
    "hotels = hotels.rename(columns={'ISO3166-1-Alpha-3': 'reviewer_country_code', 'ISO3166-1-numeric': 'reviewer_country_numeric_code'})"
   ]
  },
  {
   "cell_type": "code",
   "execution_count": 4023,
   "metadata": {},
   "outputs": [],
   "source": [
    "hotels['review_date'] = pd.to_datetime(hotels['review_date'], format='%Y%m%d').dt.strftime('%Y%m%d')"
   ]
  },
  {
   "attachments": {},
   "cell_type": "markdown",
   "metadata": {},
   "source": [
    "Создаём признак месяца отзыва"
   ]
  },
  {
   "cell_type": "code",
   "execution_count": 4024,
   "metadata": {},
   "outputs": [],
   "source": [
    "hotels['review_month'] = hotels['review_date'].apply(lambda x: x[4:6])"
   ]
  },
  {
   "cell_type": "code",
   "execution_count": 4026,
   "metadata": {},
   "outputs": [],
   "source": [
    "hotels['review_year'] = hotels['review_date'].apply(lambda x: x[:4])"
   ]
  },
  {
   "attachments": {},
   "cell_type": "markdown",
   "metadata": {},
   "source": [
    "Преобразуем признак месяца и года к числовому формату"
   ]
  },
  {
   "cell_type": "code",
   "execution_count": 4027,
   "metadata": {},
   "outputs": [],
   "source": [
    "hotels['review_date'] = hotels['review_date'].astype(int)\n",
    "hotels['review_year'] = hotels['review_year'].astype(int)\n",
    "hotels['review_month'] = hotels['review_month'].astype(int)"
   ]
  },
  {
   "attachments": {},
   "cell_type": "markdown",
   "metadata": {},
   "source": [
    "Теперь нам необходимо заполнить пропуски в данных"
   ]
  },
  {
   "cell_type": "code",
   "execution_count": 4028,
   "metadata": {},
   "outputs": [
    {
     "data": {
      "text/plain": [
       "AUT    1990\n",
       "FRA     299\n",
       "ESP     159\n",
       "Name: hotel_country_code, dtype: int64"
      ]
     },
     "execution_count": 4028,
     "metadata": {},
     "output_type": "execute_result"
    }
   ],
   "source": [
    "# Выясняем, в каких странах больше всего пропусков\n",
    "nulls = hotels[hotels.isna().any(axis=1)]\n",
    "nulls['hotel_country_code'].value_counts()"
   ]
  },
  {
   "cell_type": "code",
   "execution_count": 4029,
   "metadata": {},
   "outputs": [],
   "source": [
    "# Заполняем пропуски средним значение широты и долготы отелей из той же страны\n",
    "hotels['lat'] = hotels['lat'].fillna(hotels.groupby('hotel_country_code')['lat'].transform('median'))\n",
    "hotels['lng'] = hotels['lng'].fillna(hotels.groupby('hotel_country_code')['lng'].transform('median'))"
   ]
  },
  {
   "cell_type": "code",
   "execution_count": 4030,
   "metadata": {},
   "outputs": [
    {
     "data": {
      "text/plain": [
       "0         531\n",
       "1         203\n",
       "2         289\n",
       "3         681\n",
       "4         516\n",
       "         ... \n",
       "386798    106\n",
       "386799    171\n",
       "386800    543\n",
       "386801     74\n",
       "386802    363\n",
       "Name: days_since_review, Length: 386803, dtype: object"
      ]
     },
     "execution_count": 4030,
     "metadata": {},
     "output_type": "execute_result"
    }
   ],
   "source": [
    "hotels['days_since_review'] = hotels['days_since_review'].str.split().str[0]\n",
    "hotels['days_since_review']"
   ]
  },
  {
   "cell_type": "code",
   "execution_count": 4031,
   "metadata": {},
   "outputs": [],
   "source": [
    "hotels['days_since_review'] = hotels['days_since_review'].astype(int)"
   ]
  },
  {
   "cell_type": "code",
   "execution_count": 4032,
   "metadata": {},
   "outputs": [
    {
     "name": "stderr",
     "output_type": "stream",
     "text": [
      "C:\\Users\\Michael Brown\\AppData\\Local\\Temp\\ipykernel_10200\\3651535160.py:1: FutureWarning:\n",
      "\n",
      "The default value of numeric_only in DataFrame.corr is deprecated. In a future version, it will default to False. Select only valid columns or specify the value of numeric_only to silence this warning.\n",
      "\n"
     ]
    },
    {
     "data": {
      "text/plain": [
       "<AxesSubplot: >"
      ]
     },
     "execution_count": 4032,
     "metadata": {},
     "output_type": "execute_result"
    },
    {
     "data": {
      "image/png": "[encoded data removed]",
      "text/plain": [
       "<Figure size 640x480 with 2 Axes>"
      ]
     },
     "metadata": {},
     "output_type": "display_data"
    }
   ],
   "source": [
    "sns.heatmap(hotels.corr())"
   ]
  },
  {
   "cell_type": "code",
   "execution_count": 4033,
   "metadata": {},
   "outputs": [
    {
     "name": "stderr",
     "output_type": "stream",
     "text": [
      "C:\\Users\\Michael Brown\\AppData\\Local\\Temp\\ipykernel_10200\\3424851269.py:1: FutureWarning:\n",
      "\n",
      "The default value of numeric_only in DataFrame.corr is deprecated. In a future version, it will default to False. Select only valid columns or specify the value of numeric_only to silence this warning.\n",
      "\n"
     ]
    },
    {
     "data": {
      "text/html": [
       "<div>\n",
       "<style scoped>\n",
       "    .dataframe tbody tr th:only-of-type {\n",
       "        vertical-align: middle;\n",
       "    }\n",
       "\n",
       "    .dataframe tbody tr th {\n",
       "        vertical-align: top;\n",
       "    }\n",
       "\n",
       "    .dataframe thead th {\n",
       "        text-align: right;\n",
       "    }\n",
       "</style>\n",
       "<table border=\"1\" class=\"dataframe\">\n",
       "  <thead>\n",
       "    <tr style=\"text-align: right;\">\n",
       "      <th></th>\n",
       "      <th>additional_number_of_scoring</th>\n",
       "      <th>review_date</th>\n",
       "      <th>average_score</th>\n",
       "      <th>review_total_negative_word_counts</th>\n",
       "      <th>total_number_of_reviews</th>\n",
       "      <th>review_total_positive_word_counts</th>\n",
       "      <th>total_number_of_reviews_reviewer_has_given</th>\n",
       "      <th>reviewer_score</th>\n",
       "      <th>days_since_review</th>\n",
       "      <th>lat</th>\n",
       "      <th>...</th>\n",
       "      <th>n_No</th>\n",
       "      <th>n_Negative</th>\n",
       "      <th>leisure_trip</th>\n",
       "      <th>couple</th>\n",
       "      <th>business_trip</th>\n",
       "      <th>hotel_country</th>\n",
       "      <th>reviewer_country_numeric_code</th>\n",
       "      <th>review_month</th>\n",
       "      <th>review_day</th>\n",
       "      <th>review_year</th>\n",
       "    </tr>\n",
       "  </thead>\n",
       "  <tbody>\n",
       "    <tr>\n",
       "      <th>review_total_negative_word_counts</th>\n",
       "      <td>0.029536</td>\n",
       "      <td>0.039590</td>\n",
       "      <td>-0.113152</td>\n",
       "      <td>1.000000</td>\n",
       "      <td>0.035233</td>\n",
       "      <td>0.119284</td>\n",
       "      <td>0.001804</td>\n",
       "      <td>-0.383407</td>\n",
       "      <td>-0.042077</td>\n",
       "      <td>0.019437</td>\n",
       "      <td>...</td>\n",
       "      <td>-0.288645</td>\n",
       "      <td>-0.358294</td>\n",
       "      <td>-0.007579</td>\n",
       "      <td>-0.003940</td>\n",
       "      <td>0.005361</td>\n",
       "      <td>0.028274</td>\n",
       "      <td>0.013302</td>\n",
       "      <td>-0.009451</td>\n",
       "      <td>-0.003040</td>\n",
       "      <td>0.038963</td>\n",
       "    </tr>\n",
       "    <tr>\n",
       "      <th>n_room</th>\n",
       "      <td>0.026616</td>\n",
       "      <td>0.019308</td>\n",
       "      <td>-0.144065</td>\n",
       "      <td>0.428918</td>\n",
       "      <td>0.017825</td>\n",
       "      <td>-0.009747</td>\n",
       "      <td>0.002530</td>\n",
       "      <td>-0.343890</td>\n",
       "      <td>-0.021086</td>\n",
       "      <td>0.039767</td>\n",
       "      <td>...</td>\n",
       "      <td>-0.305008</td>\n",
       "      <td>-0.351276</td>\n",
       "      <td>-0.028847</td>\n",
       "      <td>-0.010747</td>\n",
       "      <td>0.027606</td>\n",
       "      <td>0.043519</td>\n",
       "      <td>-0.001760</td>\n",
       "      <td>-0.003028</td>\n",
       "      <td>-0.004624</td>\n",
       "      <td>0.018930</td>\n",
       "    </tr>\n",
       "    <tr>\n",
       "      <th>n_and</th>\n",
       "      <td>0.039514</td>\n",
       "      <td>0.023393</td>\n",
       "      <td>-0.123751</td>\n",
       "      <td>0.542215</td>\n",
       "      <td>0.036952</td>\n",
       "      <td>0.042890</td>\n",
       "      <td>-0.001812</td>\n",
       "      <td>-0.339878</td>\n",
       "      <td>-0.025379</td>\n",
       "      <td>0.027280</td>\n",
       "      <td>...</td>\n",
       "      <td>-0.317823</td>\n",
       "      <td>-0.339029</td>\n",
       "      <td>-0.017588</td>\n",
       "      <td>-0.006204</td>\n",
       "      <td>0.016164</td>\n",
       "      <td>0.039941</td>\n",
       "      <td>0.019591</td>\n",
       "      <td>-0.004489</td>\n",
       "      <td>-0.000689</td>\n",
       "      <td>0.022968</td>\n",
       "    </tr>\n",
       "    <tr>\n",
       "      <th>n_the</th>\n",
       "      <td>0.021587</td>\n",
       "      <td>0.029420</td>\n",
       "      <td>-0.102408</td>\n",
       "      <td>0.550473</td>\n",
       "      <td>0.033153</td>\n",
       "      <td>0.073561</td>\n",
       "      <td>0.005870</td>\n",
       "      <td>-0.295336</td>\n",
       "      <td>-0.029369</td>\n",
       "      <td>0.010183</td>\n",
       "      <td>...</td>\n",
       "      <td>-0.407068</td>\n",
       "      <td>-0.442412</td>\n",
       "      <td>-0.008165</td>\n",
       "      <td>-0.006904</td>\n",
       "      <td>0.007422</td>\n",
       "      <td>0.018708</td>\n",
       "      <td>0.000994</td>\n",
       "      <td>-0.011206</td>\n",
       "      <td>-0.005048</td>\n",
       "      <td>0.029162</td>\n",
       "    </tr>\n",
       "    <tr>\n",
       "      <th>n_to</th>\n",
       "      <td>0.033754</td>\n",
       "      <td>0.022717</td>\n",
       "      <td>-0.089597</td>\n",
       "      <td>0.536620</td>\n",
       "      <td>0.037218</td>\n",
       "      <td>0.058203</td>\n",
       "      <td>0.003830</td>\n",
       "      <td>-0.274399</td>\n",
       "      <td>-0.024986</td>\n",
       "      <td>0.024376</td>\n",
       "      <td>...</td>\n",
       "      <td>-0.329546</td>\n",
       "      <td>-0.380986</td>\n",
       "      <td>-0.006774</td>\n",
       "      <td>-0.001442</td>\n",
       "      <td>0.004893</td>\n",
       "      <td>0.030767</td>\n",
       "      <td>0.011715</td>\n",
       "      <td>-0.003299</td>\n",
       "      <td>-0.003537</td>\n",
       "      <td>0.022256</td>\n",
       "    </tr>\n",
       "    <tr>\n",
       "      <th>n_was</th>\n",
       "      <td>0.037841</td>\n",
       "      <td>0.041938</td>\n",
       "      <td>-0.100516</td>\n",
       "      <td>0.479789</td>\n",
       "      <td>0.028081</td>\n",
       "      <td>0.061390</td>\n",
       "      <td>-0.035688</td>\n",
       "      <td>-0.243428</td>\n",
       "      <td>-0.040623</td>\n",
       "      <td>0.036320</td>\n",
       "      <td>...</td>\n",
       "      <td>-0.350698</td>\n",
       "      <td>-0.356328</td>\n",
       "      <td>0.009128</td>\n",
       "      <td>0.012698</td>\n",
       "      <td>-0.009502</td>\n",
       "      <td>0.048123</td>\n",
       "      <td>0.039850</td>\n",
       "      <td>-0.019290</td>\n",
       "      <td>-0.002943</td>\n",
       "      <td>0.041726</td>\n",
       "    </tr>\n",
       "    <tr>\n",
       "      <th>n_in</th>\n",
       "      <td>0.042372</td>\n",
       "      <td>0.033875</td>\n",
       "      <td>-0.078093</td>\n",
       "      <td>0.441560</td>\n",
       "      <td>0.037748</td>\n",
       "      <td>0.055135</td>\n",
       "      <td>0.011857</td>\n",
       "      <td>-0.236440</td>\n",
       "      <td>-0.035393</td>\n",
       "      <td>0.026398</td>\n",
       "      <td>...</td>\n",
       "      <td>-0.341380</td>\n",
       "      <td>-0.585920</td>\n",
       "      <td>-0.005390</td>\n",
       "      <td>0.006797</td>\n",
       "      <td>0.004260</td>\n",
       "      <td>0.039908</td>\n",
       "      <td>0.036156</td>\n",
       "      <td>-0.009728</td>\n",
       "      <td>-0.000798</td>\n",
       "      <td>0.033416</td>\n",
       "    </tr>\n",
       "    <tr>\n",
       "      <th>n_a</th>\n",
       "      <td>0.000514</td>\n",
       "      <td>-0.009925</td>\n",
       "      <td>-0.052351</td>\n",
       "      <td>0.163444</td>\n",
       "      <td>0.008033</td>\n",
       "      <td>0.043830</td>\n",
       "      <td>-0.015819</td>\n",
       "      <td>-0.117423</td>\n",
       "      <td>0.010908</td>\n",
       "      <td>0.004746</td>\n",
       "      <td>...</td>\n",
       "      <td>-0.077123</td>\n",
       "      <td>0.189057</td>\n",
       "      <td>-0.003224</td>\n",
       "      <td>0.002034</td>\n",
       "      <td>0.007802</td>\n",
       "      <td>0.003767</td>\n",
       "      <td>-0.005370</td>\n",
       "      <td>0.002102</td>\n",
       "      <td>-0.004932</td>\n",
       "      <td>-0.009748</td>\n",
       "    </tr>\n",
       "    <tr>\n",
       "      <th>business_trip</th>\n",
       "      <td>-0.004824</td>\n",
       "      <td>-0.008305</td>\n",
       "      <td>-0.072968</td>\n",
       "      <td>0.005361</td>\n",
       "      <td>-0.015851</td>\n",
       "      <td>-0.075133</td>\n",
       "      <td>0.129854</td>\n",
       "      <td>-0.113428</td>\n",
       "      <td>0.011942</td>\n",
       "      <td>0.038501</td>\n",
       "      <td>...</td>\n",
       "      <td>-0.032435</td>\n",
       "      <td>-0.027113</td>\n",
       "      <td>-0.904145</td>\n",
       "      <td>-0.278014</td>\n",
       "      <td>1.000000</td>\n",
       "      <td>0.001061</td>\n",
       "      <td>-0.059423</td>\n",
       "      <td>-0.005422</td>\n",
       "      <td>0.001634</td>\n",
       "      <td>-0.007814</td>\n",
       "    </tr>\n",
       "    <tr>\n",
       "      <th>total_number_of_reviews</th>\n",
       "      <td>0.824467</td>\n",
       "      <td>-0.004767</td>\n",
       "      <td>-0.180213</td>\n",
       "      <td>0.035233</td>\n",
       "      <td>1.000000</td>\n",
       "      <td>-0.029557</td>\n",
       "      <td>-0.025708</td>\n",
       "      <td>-0.073389</td>\n",
       "      <td>0.007827</td>\n",
       "      <td>0.101131</td>\n",
       "      <td>...</td>\n",
       "      <td>-0.046464</td>\n",
       "      <td>-0.042898</td>\n",
       "      <td>0.014728</td>\n",
       "      <td>-0.012954</td>\n",
       "      <td>-0.015851</td>\n",
       "      <td>0.133868</td>\n",
       "      <td>0.028974</td>\n",
       "      <td>-0.005048</td>\n",
       "      <td>-0.002870</td>\n",
       "      <td>-0.004386</td>\n",
       "    </tr>\n",
       "    <tr>\n",
       "      <th>additional_number_of_scoring</th>\n",
       "      <td>1.000000</td>\n",
       "      <td>-0.005770</td>\n",
       "      <td>-0.152854</td>\n",
       "      <td>0.029536</td>\n",
       "      <td>0.824467</td>\n",
       "      <td>-0.052254</td>\n",
       "      <td>-0.072207</td>\n",
       "      <td>-0.061773</td>\n",
       "      <td>0.012766</td>\n",
       "      <td>0.337423</td>\n",
       "      <td>...</td>\n",
       "      <td>-0.046967</td>\n",
       "      <td>-0.045658</td>\n",
       "      <td>0.001221</td>\n",
       "      <td>0.011158</td>\n",
       "      <td>-0.004824</td>\n",
       "      <td>0.393011</td>\n",
       "      <td>0.133737</td>\n",
       "      <td>-0.013643</td>\n",
       "      <td>-0.005439</td>\n",
       "      <td>-0.004939</td>\n",
       "    </tr>\n",
       "    <tr>\n",
       "      <th>lat</th>\n",
       "      <td>0.337423</td>\n",
       "      <td>0.009675</td>\n",
       "      <td>-0.107595</td>\n",
       "      <td>0.019437</td>\n",
       "      <td>0.101131</td>\n",
       "      <td>-0.038695</td>\n",
       "      <td>-0.059452</td>\n",
       "      <td>-0.036836</td>\n",
       "      <td>0.000014</td>\n",
       "      <td>1.000000</td>\n",
       "      <td>...</td>\n",
       "      <td>-0.030570</td>\n",
       "      <td>-0.031318</td>\n",
       "      <td>-0.044598</td>\n",
       "      <td>0.019625</td>\n",
       "      <td>0.038501</td>\n",
       "      <td>0.260103</td>\n",
       "      <td>0.142717</td>\n",
       "      <td>-0.025880</td>\n",
       "      <td>-0.007551</td>\n",
       "      <td>0.010680</td>\n",
       "    </tr>\n",
       "    <tr>\n",
       "      <th>review_month</th>\n",
       "      <td>-0.013643</td>\n",
       "      <td>-0.547852</td>\n",
       "      <td>-0.009520</td>\n",
       "      <td>-0.009451</td>\n",
       "      <td>-0.005048</td>\n",
       "      <td>-0.026909</td>\n",
       "      <td>0.015342</td>\n",
       "      <td>-0.032397</td>\n",
       "      <td>0.211401</td>\n",
       "      <td>-0.025880</td>\n",
       "      <td>...</td>\n",
       "      <td>0.011408</td>\n",
       "      <td>0.011410</td>\n",
       "      <td>0.007649</td>\n",
       "      <td>0.004995</td>\n",
       "      <td>-0.005422</td>\n",
       "      <td>-0.027906</td>\n",
       "      <td>-0.028331</td>\n",
       "      <td>1.000000</td>\n",
       "      <td>-0.008643</td>\n",
       "      <td>-0.581470</td>\n",
       "    </tr>\n",
       "    <tr>\n",
       "      <th>hotel_country</th>\n",
       "      <td>0.393011</td>\n",
       "      <td>0.014829</td>\n",
       "      <td>-0.086114</td>\n",
       "      <td>0.028274</td>\n",
       "      <td>0.133868</td>\n",
       "      <td>-0.041790</td>\n",
       "      <td>-0.103945</td>\n",
       "      <td>-0.030402</td>\n",
       "      <td>-0.005080</td>\n",
       "      <td>0.260103</td>\n",
       "      <td>...</td>\n",
       "      <td>-0.031302</td>\n",
       "      <td>-0.041266</td>\n",
       "      <td>-0.009176</td>\n",
       "      <td>0.029817</td>\n",
       "      <td>0.001061</td>\n",
       "      <td>1.000000</td>\n",
       "      <td>0.219877</td>\n",
       "      <td>-0.027906</td>\n",
       "      <td>-0.008292</td>\n",
       "      <td>0.015791</td>\n",
       "    </tr>\n",
       "    <tr>\n",
       "      <th>review_day</th>\n",
       "      <td>-0.005439</td>\n",
       "      <td>-0.024754</td>\n",
       "      <td>0.001376</td>\n",
       "      <td>-0.003040</td>\n",
       "      <td>-0.002870</td>\n",
       "      <td>0.000617</td>\n",
       "      <td>-0.001691</td>\n",
       "      <td>0.002139</td>\n",
       "      <td>-0.008144</td>\n",
       "      <td>-0.007551</td>\n",
       "      <td>...</td>\n",
       "      <td>0.002096</td>\n",
       "      <td>0.001017</td>\n",
       "      <td>-0.000623</td>\n",
       "      <td>-0.001427</td>\n",
       "      <td>0.001634</td>\n",
       "      <td>-0.008292</td>\n",
       "      <td>-0.005380</td>\n",
       "      <td>-0.008643</td>\n",
       "      <td>1.000000</td>\n",
       "      <td>-0.024940</td>\n",
       "    </tr>\n",
       "    <tr>\n",
       "      <th>days_since_review</th>\n",
       "      <td>0.012766</td>\n",
       "      <td>-0.932769</td>\n",
       "      <td>-0.014403</td>\n",
       "      <td>-0.042077</td>\n",
       "      <td>0.007827</td>\n",
       "      <td>-0.045617</td>\n",
       "      <td>0.036029</td>\n",
       "      <td>0.002408</td>\n",
       "      <td>1.000000</td>\n",
       "      <td>0.000014</td>\n",
       "      <td>...</td>\n",
       "      <td>0.038725</td>\n",
       "      <td>0.051956</td>\n",
       "      <td>-0.006339</td>\n",
       "      <td>0.046745</td>\n",
       "      <td>0.011942</td>\n",
       "      <td>-0.005080</td>\n",
       "      <td>0.006046</td>\n",
       "      <td>0.211401</td>\n",
       "      <td>-0.008144</td>\n",
       "      <td>-0.917355</td>\n",
       "    </tr>\n",
       "    <tr>\n",
       "      <th>total_number_of_reviews_reviewer_has_given</th>\n",
       "      <td>-0.072207</td>\n",
       "      <td>-0.036394</td>\n",
       "      <td>0.036172</td>\n",
       "      <td>0.001804</td>\n",
       "      <td>-0.025708</td>\n",
       "      <td>0.026604</td>\n",
       "      <td>1.000000</td>\n",
       "      <td>0.002498</td>\n",
       "      <td>0.036029</td>\n",
       "      <td>-0.059452</td>\n",
       "      <td>...</td>\n",
       "      <td>-0.005566</td>\n",
       "      <td>-0.015603</td>\n",
       "      <td>-0.116000</td>\n",
       "      <td>-0.044079</td>\n",
       "      <td>0.129854</td>\n",
       "      <td>-0.103945</td>\n",
       "      <td>-0.135225</td>\n",
       "      <td>0.015342</td>\n",
       "      <td>-0.001691</td>\n",
       "      <td>-0.036136</td>\n",
       "    </tr>\n",
       "    <tr>\n",
       "      <th>review_date</th>\n",
       "      <td>-0.005770</td>\n",
       "      <td>1.000000</td>\n",
       "      <td>0.015749</td>\n",
       "      <td>0.039590</td>\n",
       "      <td>-0.004767</td>\n",
       "      <td>0.048927</td>\n",
       "      <td>-0.036394</td>\n",
       "      <td>0.009735</td>\n",
       "      <td>-0.932769</td>\n",
       "      <td>0.009675</td>\n",
       "      <td>...</td>\n",
       "      <td>-0.037384</td>\n",
       "      <td>-0.048665</td>\n",
       "      <td>0.002662</td>\n",
       "      <td>-0.041783</td>\n",
       "      <td>-0.008305</td>\n",
       "      <td>0.014829</td>\n",
       "      <td>0.005390</td>\n",
       "      <td>-0.547852</td>\n",
       "      <td>-0.024754</td>\n",
       "      <td>0.999169</td>\n",
       "    </tr>\n",
       "    <tr>\n",
       "      <th>review_year</th>\n",
       "      <td>-0.004939</td>\n",
       "      <td>0.999169</td>\n",
       "      <td>0.015777</td>\n",
       "      <td>0.038963</td>\n",
       "      <td>-0.004386</td>\n",
       "      <td>0.048889</td>\n",
       "      <td>-0.036136</td>\n",
       "      <td>0.011043</td>\n",
       "      <td>-0.917355</td>\n",
       "      <td>0.010680</td>\n",
       "      <td>...</td>\n",
       "      <td>-0.036913</td>\n",
       "      <td>-0.047881</td>\n",
       "      <td>0.002217</td>\n",
       "      <td>-0.040873</td>\n",
       "      <td>-0.007814</td>\n",
       "      <td>0.015791</td>\n",
       "      <td>0.006629</td>\n",
       "      <td>-0.581470</td>\n",
       "      <td>-0.024940</td>\n",
       "      <td>1.000000</td>\n",
       "    </tr>\n",
       "    <tr>\n",
       "      <th>lng</th>\n",
       "      <td>-0.298158</td>\n",
       "      <td>-0.009303</td>\n",
       "      <td>0.100065</td>\n",
       "      <td>-0.020535</td>\n",
       "      <td>-0.015955</td>\n",
       "      <td>0.035124</td>\n",
       "      <td>0.110701</td>\n",
       "      <td>0.032558</td>\n",
       "      <td>-0.000391</td>\n",
       "      <td>-0.302423</td>\n",
       "      <td>...</td>\n",
       "      <td>0.027868</td>\n",
       "      <td>0.033786</td>\n",
       "      <td>0.007006</td>\n",
       "      <td>-0.024354</td>\n",
       "      <td>-0.001471</td>\n",
       "      <td>-0.831998</td>\n",
       "      <td>-0.200209</td>\n",
       "      <td>0.025824</td>\n",
       "      <td>0.005525</td>\n",
       "      <td>-0.010312</td>\n",
       "    </tr>\n",
       "    <tr>\n",
       "      <th>reviewer_country_numeric_code</th>\n",
       "      <td>0.133737</td>\n",
       "      <td>0.005390</td>\n",
       "      <td>-0.005456</td>\n",
       "      <td>0.013302</td>\n",
       "      <td>0.028974</td>\n",
       "      <td>-0.001997</td>\n",
       "      <td>-0.135225</td>\n",
       "      <td>0.033740</td>\n",
       "      <td>0.006046</td>\n",
       "      <td>0.142717</td>\n",
       "      <td>...</td>\n",
       "      <td>-0.002723</td>\n",
       "      <td>-0.022393</td>\n",
       "      <td>0.056267</td>\n",
       "      <td>0.069229</td>\n",
       "      <td>-0.059423</td>\n",
       "      <td>0.219877</td>\n",
       "      <td>1.000000</td>\n",
       "      <td>-0.028331</td>\n",
       "      <td>-0.005380</td>\n",
       "      <td>0.006629</td>\n",
       "    </tr>\n",
       "    <tr>\n",
       "      <th>couple</th>\n",
       "      <td>0.011158</td>\n",
       "      <td>-0.041783</td>\n",
       "      <td>0.094045</td>\n",
       "      <td>-0.003940</td>\n",
       "      <td>-0.012954</td>\n",
       "      <td>0.037005</td>\n",
       "      <td>-0.044079</td>\n",
       "      <td>0.070013</td>\n",
       "      <td>0.046745</td>\n",
       "      <td>0.019625</td>\n",
       "      <td>...</td>\n",
       "      <td>0.019248</td>\n",
       "      <td>0.013233</td>\n",
       "      <td>0.275093</td>\n",
       "      <td>1.000000</td>\n",
       "      <td>-0.278014</td>\n",
       "      <td>0.029817</td>\n",
       "      <td>0.069229</td>\n",
       "      <td>0.004995</td>\n",
       "      <td>-0.001427</td>\n",
       "      <td>-0.040873</td>\n",
       "    </tr>\n",
       "    <tr>\n",
       "      <th>p_location</th>\n",
       "      <td>-0.035325</td>\n",
       "      <td>-0.042057</td>\n",
       "      <td>0.020364</td>\n",
       "      <td>0.017483</td>\n",
       "      <td>-0.038376</td>\n",
       "      <td>0.131588</td>\n",
       "      <td>0.041741</td>\n",
       "      <td>0.073872</td>\n",
       "      <td>0.041923</td>\n",
       "      <td>-0.044077</td>\n",
       "      <td>...</td>\n",
       "      <td>0.024651</td>\n",
       "      <td>0.038196</td>\n",
       "      <td>0.039542</td>\n",
       "      <td>0.000828</td>\n",
       "      <td>-0.029643</td>\n",
       "      <td>-0.037030</td>\n",
       "      <td>-0.031337</td>\n",
       "      <td>0.016899</td>\n",
       "      <td>-0.000497</td>\n",
       "      <td>-0.041720</td>\n",
       "    </tr>\n",
       "    <tr>\n",
       "      <th>p_The</th>\n",
       "      <td>-0.021204</td>\n",
       "      <td>0.032047</td>\n",
       "      <td>0.050212</td>\n",
       "      <td>0.107189</td>\n",
       "      <td>-0.015973</td>\n",
       "      <td>0.380870</td>\n",
       "      <td>-0.037352</td>\n",
       "      <td>0.081440</td>\n",
       "      <td>-0.030695</td>\n",
       "      <td>-0.012808</td>\n",
       "      <td>...</td>\n",
       "      <td>-0.003633</td>\n",
       "      <td>0.005963</td>\n",
       "      <td>0.063905</td>\n",
       "      <td>0.026436</td>\n",
       "      <td>-0.066772</td>\n",
       "      <td>-0.013308</td>\n",
       "      <td>0.002434</td>\n",
       "      <td>-0.015928</td>\n",
       "      <td>0.002307</td>\n",
       "      <td>0.031937</td>\n",
       "    </tr>\n",
       "    <tr>\n",
       "      <th>p_was</th>\n",
       "      <td>0.001456</td>\n",
       "      <td>0.051675</td>\n",
       "      <td>0.027765</td>\n",
       "      <td>0.095486</td>\n",
       "      <td>-0.000115</td>\n",
       "      <td>0.402988</td>\n",
       "      <td>-0.070015</td>\n",
       "      <td>0.105476</td>\n",
       "      <td>-0.047718</td>\n",
       "      <td>0.003569</td>\n",
       "      <td>...</td>\n",
       "      <td>0.006166</td>\n",
       "      <td>0.016228</td>\n",
       "      <td>0.082738</td>\n",
       "      <td>0.053404</td>\n",
       "      <td>-0.084274</td>\n",
       "      <td>0.013874</td>\n",
       "      <td>0.048473</td>\n",
       "      <td>-0.029421</td>\n",
       "      <td>-0.001095</td>\n",
       "      <td>0.051686</td>\n",
       "    </tr>\n",
       "    <tr>\n",
       "      <th>leisure_trip</th>\n",
       "      <td>0.001221</td>\n",
       "      <td>0.002662</td>\n",
       "      <td>0.083475</td>\n",
       "      <td>-0.007579</td>\n",
       "      <td>0.014728</td>\n",
       "      <td>0.077187</td>\n",
       "      <td>-0.116000</td>\n",
       "      <td>0.117986</td>\n",
       "      <td>-0.006339</td>\n",
       "      <td>-0.044598</td>\n",
       "      <td>...</td>\n",
       "      <td>0.034152</td>\n",
       "      <td>0.030139</td>\n",
       "      <td>1.000000</td>\n",
       "      <td>0.275093</td>\n",
       "      <td>-0.904145</td>\n",
       "      <td>-0.009176</td>\n",
       "      <td>0.056267</td>\n",
       "      <td>0.007649</td>\n",
       "      <td>-0.000623</td>\n",
       "      <td>0.002217</td>\n",
       "    </tr>\n",
       "    <tr>\n",
       "      <th>p_to</th>\n",
       "      <td>-0.034345</td>\n",
       "      <td>0.016360</td>\n",
       "      <td>0.046788</td>\n",
       "      <td>0.059754</td>\n",
       "      <td>-0.009609</td>\n",
       "      <td>0.520861</td>\n",
       "      <td>0.032777</td>\n",
       "      <td>0.140624</td>\n",
       "      <td>-0.016660</td>\n",
       "      <td>-0.039626</td>\n",
       "      <td>...</td>\n",
       "      <td>0.059317</td>\n",
       "      <td>0.059011</td>\n",
       "      <td>0.065178</td>\n",
       "      <td>0.033222</td>\n",
       "      <td>-0.061377</td>\n",
       "      <td>-0.030258</td>\n",
       "      <td>-0.017194</td>\n",
       "      <td>-0.005750</td>\n",
       "      <td>0.001392</td>\n",
       "      <td>0.016188</td>\n",
       "    </tr>\n",
       "    <tr>\n",
       "      <th>p_hotel</th>\n",
       "      <td>-0.035829</td>\n",
       "      <td>0.009823</td>\n",
       "      <td>0.100056</td>\n",
       "      <td>0.032991</td>\n",
       "      <td>-0.010560</td>\n",
       "      <td>0.406973</td>\n",
       "      <td>0.025048</td>\n",
       "      <td>0.152208</td>\n",
       "      <td>-0.006346</td>\n",
       "      <td>-0.035022</td>\n",
       "      <td>...</td>\n",
       "      <td>0.066673</td>\n",
       "      <td>0.073381</td>\n",
       "      <td>0.047095</td>\n",
       "      <td>0.026852</td>\n",
       "      <td>-0.044336</td>\n",
       "      <td>-0.049586</td>\n",
       "      <td>-0.001251</td>\n",
       "      <td>-0.011799</td>\n",
       "      <td>-0.001312</td>\n",
       "      <td>0.010129</td>\n",
       "    </tr>\n",
       "    <tr>\n",
       "      <th>p_room</th>\n",
       "      <td>-0.020078</td>\n",
       "      <td>0.020479</td>\n",
       "      <td>0.071740</td>\n",
       "      <td>0.038963</td>\n",
       "      <td>-0.007430</td>\n",
       "      <td>0.360200</td>\n",
       "      <td>0.033692</td>\n",
       "      <td>0.157167</td>\n",
       "      <td>-0.016004</td>\n",
       "      <td>0.001325</td>\n",
       "      <td>...</td>\n",
       "      <td>0.024296</td>\n",
       "      <td>0.025188</td>\n",
       "      <td>0.031514</td>\n",
       "      <td>0.030170</td>\n",
       "      <td>-0.028906</td>\n",
       "      <td>-0.014592</td>\n",
       "      <td>0.005231</td>\n",
       "      <td>-0.018324</td>\n",
       "      <td>-0.001780</td>\n",
       "      <td>0.020809</td>\n",
       "    </tr>\n",
       "    <tr>\n",
       "      <th>p_the</th>\n",
       "      <td>-0.032006</td>\n",
       "      <td>0.026423</td>\n",
       "      <td>0.077992</td>\n",
       "      <td>0.088904</td>\n",
       "      <td>-0.013916</td>\n",
       "      <td>0.526239</td>\n",
       "      <td>0.012353</td>\n",
       "      <td>0.157701</td>\n",
       "      <td>-0.022882</td>\n",
       "      <td>-0.032813</td>\n",
       "      <td>...</td>\n",
       "      <td>0.037522</td>\n",
       "      <td>0.050887</td>\n",
       "      <td>0.065585</td>\n",
       "      <td>0.035925</td>\n",
       "      <td>-0.064993</td>\n",
       "      <td>-0.036106</td>\n",
       "      <td>-0.008829</td>\n",
       "      <td>-0.018432</td>\n",
       "      <td>-0.001647</td>\n",
       "      <td>0.026595</td>\n",
       "    </tr>\n",
       "    <tr>\n",
       "      <th>p_very</th>\n",
       "      <td>-0.042467</td>\n",
       "      <td>0.013244</td>\n",
       "      <td>0.085793</td>\n",
       "      <td>0.009466</td>\n",
       "      <td>-0.029592</td>\n",
       "      <td>0.335578</td>\n",
       "      <td>-0.004258</td>\n",
       "      <td>0.206854</td>\n",
       "      <td>-0.008701</td>\n",
       "      <td>-0.026695</td>\n",
       "      <td>...</td>\n",
       "      <td>0.065468</td>\n",
       "      <td>0.063544</td>\n",
       "      <td>0.053759</td>\n",
       "      <td>0.025819</td>\n",
       "      <td>-0.054723</td>\n",
       "      <td>-0.032325</td>\n",
       "      <td>-0.005486</td>\n",
       "      <td>-0.016072</td>\n",
       "      <td>0.002886</td>\n",
       "      <td>0.013658</td>\n",
       "    </tr>\n",
       "    <tr>\n",
       "      <th>review_total_positive_word_counts</th>\n",
       "      <td>-0.052254</td>\n",
       "      <td>0.048927</td>\n",
       "      <td>0.106516</td>\n",
       "      <td>0.119284</td>\n",
       "      <td>-0.029557</td>\n",
       "      <td>1.000000</td>\n",
       "      <td>0.026604</td>\n",
       "      <td>0.220294</td>\n",
       "      <td>-0.045617</td>\n",
       "      <td>-0.038695</td>\n",
       "      <td>...</td>\n",
       "      <td>0.063246</td>\n",
       "      <td>0.061523</td>\n",
       "      <td>0.077187</td>\n",
       "      <td>0.037005</td>\n",
       "      <td>-0.075133</td>\n",
       "      <td>-0.041790</td>\n",
       "      <td>-0.001997</td>\n",
       "      <td>-0.026909</td>\n",
       "      <td>0.000617</td>\n",
       "      <td>0.048889</td>\n",
       "    </tr>\n",
       "    <tr>\n",
       "      <th>p_staff</th>\n",
       "      <td>-0.058190</td>\n",
       "      <td>-0.018189</td>\n",
       "      <td>0.105030</td>\n",
       "      <td>-0.034400</td>\n",
       "      <td>-0.066439</td>\n",
       "      <td>0.244698</td>\n",
       "      <td>-0.009792</td>\n",
       "      <td>0.224035</td>\n",
       "      <td>0.024906</td>\n",
       "      <td>-0.017815</td>\n",
       "      <td>...</td>\n",
       "      <td>0.081467</td>\n",
       "      <td>0.088111</td>\n",
       "      <td>0.050305</td>\n",
       "      <td>0.023212</td>\n",
       "      <td>-0.049432</td>\n",
       "      <td>-0.009956</td>\n",
       "      <td>0.020229</td>\n",
       "      <td>-0.008609</td>\n",
       "      <td>0.001161</td>\n",
       "      <td>-0.017270</td>\n",
       "    </tr>\n",
       "    <tr>\n",
       "      <th>n_No</th>\n",
       "      <td>-0.046967</td>\n",
       "      <td>-0.037384</td>\n",
       "      <td>0.136772</td>\n",
       "      <td>-0.288645</td>\n",
       "      <td>-0.046464</td>\n",
       "      <td>0.063246</td>\n",
       "      <td>-0.005566</td>\n",
       "      <td>0.304273</td>\n",
       "      <td>0.038725</td>\n",
       "      <td>-0.030570</td>\n",
       "      <td>...</td>\n",
       "      <td>1.000000</td>\n",
       "      <td>0.731021</td>\n",
       "      <td>0.034152</td>\n",
       "      <td>0.019248</td>\n",
       "      <td>-0.032435</td>\n",
       "      <td>-0.031302</td>\n",
       "      <td>-0.002723</td>\n",
       "      <td>0.011408</td>\n",
       "      <td>0.002096</td>\n",
       "      <td>-0.036913</td>\n",
       "    </tr>\n",
       "    <tr>\n",
       "      <th>n_Negative</th>\n",
       "      <td>-0.045658</td>\n",
       "      <td>-0.048665</td>\n",
       "      <td>0.133152</td>\n",
       "      <td>-0.358294</td>\n",
       "      <td>-0.042898</td>\n",
       "      <td>0.061523</td>\n",
       "      <td>-0.015603</td>\n",
       "      <td>0.330513</td>\n",
       "      <td>0.051956</td>\n",
       "      <td>-0.031318</td>\n",
       "      <td>...</td>\n",
       "      <td>0.731021</td>\n",
       "      <td>1.000000</td>\n",
       "      <td>0.030139</td>\n",
       "      <td>0.013233</td>\n",
       "      <td>-0.027113</td>\n",
       "      <td>-0.041266</td>\n",
       "      <td>-0.022393</td>\n",
       "      <td>0.011410</td>\n",
       "      <td>0.001017</td>\n",
       "      <td>-0.047881</td>\n",
       "    </tr>\n",
       "    <tr>\n",
       "      <th>average_score</th>\n",
       "      <td>-0.152854</td>\n",
       "      <td>0.015749</td>\n",
       "      <td>1.000000</td>\n",
       "      <td>-0.113152</td>\n",
       "      <td>-0.180213</td>\n",
       "      <td>0.106516</td>\n",
       "      <td>0.036172</td>\n",
       "      <td>0.363915</td>\n",
       "      <td>-0.014403</td>\n",
       "      <td>-0.107595</td>\n",
       "      <td>...</td>\n",
       "      <td>0.136772</td>\n",
       "      <td>0.133152</td>\n",
       "      <td>0.083475</td>\n",
       "      <td>0.094045</td>\n",
       "      <td>-0.072968</td>\n",
       "      <td>-0.086114</td>\n",
       "      <td>-0.005456</td>\n",
       "      <td>-0.009520</td>\n",
       "      <td>0.001376</td>\n",
       "      <td>0.015777</td>\n",
       "    </tr>\n",
       "    <tr>\n",
       "      <th>reviewer_score</th>\n",
       "      <td>-0.061773</td>\n",
       "      <td>0.009735</td>\n",
       "      <td>0.363915</td>\n",
       "      <td>-0.383407</td>\n",
       "      <td>-0.073389</td>\n",
       "      <td>0.220294</td>\n",
       "      <td>0.002498</td>\n",
       "      <td>1.000000</td>\n",
       "      <td>0.002408</td>\n",
       "      <td>-0.036836</td>\n",
       "      <td>...</td>\n",
       "      <td>0.304273</td>\n",
       "      <td>0.330513</td>\n",
       "      <td>0.117986</td>\n",
       "      <td>0.070013</td>\n",
       "      <td>-0.113428</td>\n",
       "      <td>-0.030402</td>\n",
       "      <td>0.033740</td>\n",
       "      <td>-0.032397</td>\n",
       "      <td>0.002139</td>\n",
       "      <td>0.011043</td>\n",
       "    </tr>\n",
       "  </tbody>\n",
       "</table>\n",
       "<p>37 rows × 37 columns</p>\n",
       "</div>"
      ],
      "text/plain": [
       "                                            additional_number_of_scoring  \\\n",
       "review_total_negative_word_counts                               0.029536   \n",
       "n_room                                                          0.026616   \n",
       "n_and                                                           0.039514   \n",
       "n_the                                                           0.021587   \n",
       "n_to                                                            0.033754   \n",
       "n_was                                                           0.037841   \n",
       "n_in                                                            0.042372   \n",
       "n_a                                                             0.000514   \n",
       "business_trip                                                  -0.004824   \n",
       "total_number_of_reviews                                         0.824467   \n",
       "additional_number_of_scoring                                    1.000000   \n",
       "lat                                                             0.337423   \n",
       "review_month                                                   -0.013643   \n",
       "hotel_country                                                   0.393011   \n",
       "review_day                                                     -0.005439   \n",
       "days_since_review                                               0.012766   \n",
       "total_number_of_reviews_reviewer_has_given                     -0.072207   \n",
       "review_date                                                    -0.005770   \n",
       "review_year                                                    -0.004939   \n",
       "lng                                                            -0.298158   \n",
       "reviewer_country_numeric_code                                   0.133737   \n",
       "couple                                                          0.011158   \n",
       "p_location                                                     -0.035325   \n",
       "p_The                                                          -0.021204   \n",
       "p_was                                                           0.001456   \n",
       "leisure_trip                                                    0.001221   \n",
       "p_to                                                           -0.034345   \n",
       "p_hotel                                                        -0.035829   \n",
       "p_room                                                         -0.020078   \n",
       "p_the                                                          -0.032006   \n",
       "p_very                                                         -0.042467   \n",
       "review_total_positive_word_counts                              -0.052254   \n",
       "p_staff                                                        -0.058190   \n",
       "n_No                                                           -0.046967   \n",
       "n_Negative                                                     -0.045658   \n",
       "average_score                                                  -0.152854   \n",
       "reviewer_score                                                 -0.061773   \n",
       "\n",
       "                                            review_date  average_score  \\\n",
       "review_total_negative_word_counts              0.039590      -0.113152   \n",
       "n_room                                         0.019308      -0.144065   \n",
       "n_and                                          0.023393      -0.123751   \n",
       "n_the                                          0.029420      -0.102408   \n",
       "n_to                                           0.022717      -0.089597   \n",
       "n_was                                          0.041938      -0.100516   \n",
       "n_in                                           0.033875      -0.078093   \n",
       "n_a                                           -0.009925      -0.052351   \n",
       "business_trip                                 -0.008305      -0.072968   \n",
       "total_number_of_reviews                       -0.004767      -0.180213   \n",
       "additional_number_of_scoring                  -0.005770      -0.152854   \n",
       "lat                                            0.009675      -0.107595   \n",
       "review_month                                  -0.547852      -0.009520   \n",
       "hotel_country                                  0.014829      -0.086114   \n",
       "review_day                                    -0.024754       0.001376   \n",
       "days_since_review                             -0.932769      -0.014403   \n",
       "total_number_of_reviews_reviewer_has_given    -0.036394       0.036172   \n",
       "review_date                                    1.000000       0.015749   \n",
       "review_year                                    0.999169       0.015777   \n",
       "lng                                           -0.009303       0.100065   \n",
       "reviewer_country_numeric_code                  0.005390      -0.005456   \n",
       "couple                                        -0.041783       0.094045   \n",
       "p_location                                    -0.042057       0.020364   \n",
       "p_The                                          0.032047       0.050212   \n",
       "p_was                                          0.051675       0.027765   \n",
       "leisure_trip                                   0.002662       0.083475   \n",
       "p_to                                           0.016360       0.046788   \n",
       "p_hotel                                        0.009823       0.100056   \n",
       "p_room                                         0.020479       0.071740   \n",
       "p_the                                          0.026423       0.077992   \n",
       "p_very                                         0.013244       0.085793   \n",
       "review_total_positive_word_counts              0.048927       0.106516   \n",
       "p_staff                                       -0.018189       0.105030   \n",
       "n_No                                          -0.037384       0.136772   \n",
       "n_Negative                                    -0.048665       0.133152   \n",
       "average_score                                  0.015749       1.000000   \n",
       "reviewer_score                                 0.009735       0.363915   \n",
       "\n",
       "                                            review_total_negative_word_counts  \\\n",
       "review_total_negative_word_counts                                    1.000000   \n",
       "n_room                                                               0.428918   \n",
       "n_and                                                                0.542215   \n",
       "n_the                                                                0.550473   \n",
       "n_to                                                                 0.536620   \n",
       "n_was                                                                0.479789   \n",
       "n_in                                                                 0.441560   \n",
       "n_a                                                                  0.163444   \n",
       "business_trip                                                        0.005361   \n",
       "total_number_of_reviews                                              0.035233   \n",
       "additional_number_of_scoring                                         0.029536   \n",
       "lat                                                                  0.019437   \n",
       "review_month                                                        -0.009451   \n",
       "hotel_country                                                        0.028274   \n",
       "review_day                                                          -0.003040   \n",
       "days_since_review                                                   -0.042077   \n",
       "total_number_of_reviews_reviewer_has_given                           0.001804   \n",
       "review_date                                                          0.039590   \n",
       "review_year                                                          0.038963   \n",
       "lng                                                                 -0.020535   \n",
       "reviewer_country_numeric_code                                        0.013302   \n",
       "couple                                                              -0.003940   \n",
       "p_location                                                           0.017483   \n",
       "p_The                                                                0.107189   \n",
       "p_was                                                                0.095486   \n",
       "leisure_trip                                                        -0.007579   \n",
       "p_to                                                                 0.059754   \n",
       "p_hotel                                                              0.032991   \n",
       "p_room                                                               0.038963   \n",
       "p_the                                                                0.088904   \n",
       "p_very                                                               0.009466   \n",
       "review_total_positive_word_counts                                    0.119284   \n",
       "p_staff                                                             -0.034400   \n",
       "n_No                                                                -0.288645   \n",
       "n_Negative                                                          -0.358294   \n",
       "average_score                                                       -0.113152   \n",
       "reviewer_score                                                      -0.383407   \n",
       "\n",
       "                                            total_number_of_reviews  \\\n",
       "review_total_negative_word_counts                          0.035233   \n",
       "n_room                                                     0.017825   \n",
       "n_and                                                      0.036952   \n",
       "n_the                                                      0.033153   \n",
       "n_to                                                       0.037218   \n",
       "n_was                                                      0.028081   \n",
       "n_in                                                       0.037748   \n",
       "n_a                                                        0.008033   \n",
       "business_trip                                             -0.015851   \n",
       "total_number_of_reviews                                    1.000000   \n",
       "additional_number_of_scoring                               0.824467   \n",
       "lat                                                        0.101131   \n",
       "review_month                                              -0.005048   \n",
       "hotel_country                                              0.133868   \n",
       "review_day                                                -0.002870   \n",
       "days_since_review                                          0.007827   \n",
       "total_number_of_reviews_reviewer_has_given                -0.025708   \n",
       "review_date                                               -0.004767   \n",
       "review_year                                               -0.004386   \n",
       "lng                                                       -0.015955   \n",
       "reviewer_country_numeric_code                              0.028974   \n",
       "couple                                                    -0.012954   \n",
       "p_location                                                -0.038376   \n",
       "p_The                                                     -0.015973   \n",
       "p_was                                                     -0.000115   \n",
       "leisure_trip                                               0.014728   \n",
       "p_to                                                      -0.009609   \n",
       "p_hotel                                                   -0.010560   \n",
       "p_room                                                    -0.007430   \n",
       "p_the                                                     -0.013916   \n",
       "p_very                                                    -0.029592   \n",
       "review_total_positive_word_counts                         -0.029557   \n",
       "p_staff                                                   -0.066439   \n",
       "n_No                                                      -0.046464   \n",
       "n_Negative                                                -0.042898   \n",
       "average_score                                             -0.180213   \n",
       "reviewer_score                                            -0.073389   \n",
       "\n",
       "                                            review_total_positive_word_counts  \\\n",
       "review_total_negative_word_counts                                    0.119284   \n",
       "n_room                                                              -0.009747   \n",
       "n_and                                                                0.042890   \n",
       "n_the                                                                0.073561   \n",
       "n_to                                                                 0.058203   \n",
       "n_was                                                                0.061390   \n",
       "n_in                                                                 0.055135   \n",
       "n_a                                                                  0.043830   \n",
       "business_trip                                                       -0.075133   \n",
       "total_number_of_reviews                                             -0.029557   \n",
       "additional_number_of_scoring                                        -0.052254   \n",
       "lat                                                                 -0.038695   \n",
       "review_month                                                        -0.026909   \n",
       "hotel_country                                                       -0.041790   \n",
       "review_day                                                           0.000617   \n",
       "days_since_review                                                   -0.045617   \n",
       "total_number_of_reviews_reviewer_has_given                           0.026604   \n",
       "review_date                                                          0.048927   \n",
       "review_year                                                          0.048889   \n",
       "lng                                                                  0.035124   \n",
       "reviewer_country_numeric_code                                       -0.001997   \n",
       "couple                                                               0.037005   \n",
       "p_location                                                           0.131588   \n",
       "p_The                                                                0.380870   \n",
       "p_was                                                                0.402988   \n",
       "leisure_trip                                                         0.077187   \n",
       "p_to                                                                 0.520861   \n",
       "p_hotel                                                              0.406973   \n",
       "p_room                                                               0.360200   \n",
       "p_the                                                                0.526239   \n",
       "p_very                                                               0.335578   \n",
       "review_total_positive_word_counts                                    1.000000   \n",
       "p_staff                                                              0.244698   \n",
       "n_No                                                                 0.063246   \n",
       "n_Negative                                                           0.061523   \n",
       "average_score                                                        0.106516   \n",
       "reviewer_score                                                       0.220294   \n",
       "\n",
       "                                            total_number_of_reviews_reviewer_has_given  \\\n",
       "review_total_negative_word_counts                                             0.001804   \n",
       "n_room                                                                        0.002530   \n",
       "n_and                                                                        -0.001812   \n",
       "n_the                                                                         0.005870   \n",
       "n_to                                                                          0.003830   \n",
       "n_was                                                                        -0.035688   \n",
       "n_in                                                                          0.011857   \n",
       "n_a                                                                          -0.015819   \n",
       "business_trip                                                                 0.129854   \n",
       "total_number_of_reviews                                                      -0.025708   \n",
       "additional_number_of_scoring                                                 -0.072207   \n",
       "lat                                                                          -0.059452   \n",
       "review_month                                                                  0.015342   \n",
       "hotel_country                                                                -0.103945   \n",
       "review_day                                                                   -0.001691   \n",
       "days_since_review                                                             0.036029   \n",
       "total_number_of_reviews_reviewer_has_given                                    1.000000   \n",
       "review_date                                                                  -0.036394   \n",
       "review_year                                                                  -0.036136   \n",
       "lng                                                                           0.110701   \n",
       "reviewer_country_numeric_code                                                -0.135225   \n",
       "couple                                                                       -0.044079   \n",
       "p_location                                                                    0.041741   \n",
       "p_The                                                                        -0.037352   \n",
       "p_was                                                                        -0.070015   \n",
       "leisure_trip                                                                 -0.116000   \n",
       "p_to                                                                          0.032777   \n",
       "p_hotel                                                                       0.025048   \n",
       "p_room                                                                        0.033692   \n",
       "p_the                                                                         0.012353   \n",
       "p_very                                                                       -0.004258   \n",
       "review_total_positive_word_counts                                             0.026604   \n",
       "p_staff                                                                      -0.009792   \n",
       "n_No                                                                         -0.005566   \n",
       "n_Negative                                                                   -0.015603   \n",
       "average_score                                                                 0.036172   \n",
       "reviewer_score                                                                0.002498   \n",
       "\n",
       "                                            reviewer_score  days_since_review  \\\n",
       "review_total_negative_word_counts                -0.383407          -0.042077   \n",
       "n_room                                           -0.343890          -0.021086   \n",
       "n_and                                            -0.339878          -0.025379   \n",
       "n_the                                            -0.295336          -0.029369   \n",
       "n_to                                             -0.274399          -0.024986   \n",
       "n_was                                            -0.243428          -0.040623   \n",
       "n_in                                             -0.236440          -0.035393   \n",
       "n_a                                              -0.117423           0.010908   \n",
       "business_trip                                    -0.113428           0.011942   \n",
       "total_number_of_reviews                          -0.073389           0.007827   \n",
       "additional_number_of_scoring                     -0.061773           0.012766   \n",
       "lat                                              -0.036836           0.000014   \n",
       "review_month                                     -0.032397           0.211401   \n",
       "hotel_country                                    -0.030402          -0.005080   \n",
       "review_day                                        0.002139          -0.008144   \n",
       "days_since_review                                 0.002408           1.000000   \n",
       "total_number_of_reviews_reviewer_has_given        0.002498           0.036029   \n",
       "review_date                                       0.009735          -0.932769   \n",
       "review_year                                       0.011043          -0.917355   \n",
       "lng                                               0.032558          -0.000391   \n",
       "reviewer_country_numeric_code                     0.033740           0.006046   \n",
       "couple                                            0.070013           0.046745   \n",
       "p_location                                        0.073872           0.041923   \n",
       "p_The                                             0.081440          -0.030695   \n",
       "p_was                                             0.105476          -0.047718   \n",
       "leisure_trip                                      0.117986          -0.006339   \n",
       "p_to                                              0.140624          -0.016660   \n",
       "p_hotel                                           0.152208          -0.006346   \n",
       "p_room                                            0.157167          -0.016004   \n",
       "p_the                                             0.157701          -0.022882   \n",
       "p_very                                            0.206854          -0.008701   \n",
       "review_total_positive_word_counts                 0.220294          -0.045617   \n",
       "p_staff                                           0.224035           0.024906   \n",
       "n_No                                              0.304273           0.038725   \n",
       "n_Negative                                        0.330513           0.051956   \n",
       "average_score                                     0.363915          -0.014403   \n",
       "reviewer_score                                    1.000000           0.002408   \n",
       "\n",
       "                                                 lat  ...      n_No  \\\n",
       "review_total_negative_word_counts           0.019437  ... -0.288645   \n",
       "n_room                                      0.039767  ... -0.305008   \n",
       "n_and                                       0.027280  ... -0.317823   \n",
       "n_the                                       0.010183  ... -0.407068   \n",
       "n_to                                        0.024376  ... -0.329546   \n",
       "n_was                                       0.036320  ... -0.350698   \n",
       "n_in                                        0.026398  ... -0.341380   \n",
       "n_a                                         0.004746  ... -0.077123   \n",
       "business_trip                               0.038501  ... -0.032435   \n",
       "total_number_of_reviews                     0.101131  ... -0.046464   \n",
       "additional_number_of_scoring                0.337423  ... -0.046967   \n",
       "lat                                         1.000000  ... -0.030570   \n",
       "review_month                               -0.025880  ...  0.011408   \n",
       "hotel_country                               0.260103  ... -0.031302   \n",
       "review_day                                 -0.007551  ...  0.002096   \n",
       "days_since_review                           0.000014  ...  0.038725   \n",
       "total_number_of_reviews_reviewer_has_given -0.059452  ... -0.005566   \n",
       "review_date                                 0.009675  ... -0.037384   \n",
       "review_year                                 0.010680  ... -0.036913   \n",
       "lng                                        -0.302423  ...  0.027868   \n",
       "reviewer_country_numeric_code               0.142717  ... -0.002723   \n",
       "couple                                      0.019625  ...  0.019248   \n",
       "p_location                                 -0.044077  ...  0.024651   \n",
       "p_The                                      -0.012808  ... -0.003633   \n",
       "p_was                                       0.003569  ...  0.006166   \n",
       "leisure_trip                               -0.044598  ...  0.034152   \n",
       "p_to                                       -0.039626  ...  0.059317   \n",
       "p_hotel                                    -0.035022  ...  0.066673   \n",
       "p_room                                      0.001325  ...  0.024296   \n",
       "p_the                                      -0.032813  ...  0.037522   \n",
       "p_very                                     -0.026695  ...  0.065468   \n",
       "review_total_positive_word_counts          -0.038695  ...  0.063246   \n",
       "p_staff                                    -0.017815  ...  0.081467   \n",
       "n_No                                       -0.030570  ...  1.000000   \n",
       "n_Negative                                 -0.031318  ...  0.731021   \n",
       "average_score                              -0.107595  ...  0.136772   \n",
       "reviewer_score                             -0.036836  ...  0.304273   \n",
       "\n",
       "                                            n_Negative  leisure_trip  \\\n",
       "review_total_negative_word_counts            -0.358294     -0.007579   \n",
       "n_room                                       -0.351276     -0.028847   \n",
       "n_and                                        -0.339029     -0.017588   \n",
       "n_the                                        -0.442412     -0.008165   \n",
       "n_to                                         -0.380986     -0.006774   \n",
       "n_was                                        -0.356328      0.009128   \n",
       "n_in                                         -0.585920     -0.005390   \n",
       "n_a                                           0.189057     -0.003224   \n",
       "business_trip                                -0.027113     -0.904145   \n",
       "total_number_of_reviews                      -0.042898      0.014728   \n",
       "additional_number_of_scoring                 -0.045658      0.001221   \n",
       "lat                                          -0.031318     -0.044598   \n",
       "review_month                                  0.011410      0.007649   \n",
       "hotel_country                                -0.041266     -0.009176   \n",
       "review_day                                    0.001017     -0.000623   \n",
       "days_since_review                             0.051956     -0.006339   \n",
       "total_number_of_reviews_reviewer_has_given   -0.015603     -0.116000   \n",
       "review_date                                  -0.048665      0.002662   \n",
       "review_year                                  -0.047881      0.002217   \n",
       "lng                                           0.033786      0.007006   \n",
       "reviewer_country_numeric_code                -0.022393      0.056267   \n",
       "couple                                        0.013233      0.275093   \n",
       "p_location                                    0.038196      0.039542   \n",
       "p_The                                         0.005963      0.063905   \n",
       "p_was                                         0.016228      0.082738   \n",
       "leisure_trip                                  0.030139      1.000000   \n",
       "p_to                                          0.059011      0.065178   \n",
       "p_hotel                                       0.073381      0.047095   \n",
       "p_room                                        0.025188      0.031514   \n",
       "p_the                                         0.050887      0.065585   \n",
       "p_very                                        0.063544      0.053759   \n",
       "review_total_positive_word_counts             0.061523      0.077187   \n",
       "p_staff                                       0.088111      0.050305   \n",
       "n_No                                          0.731021      0.034152   \n",
       "n_Negative                                    1.000000      0.030139   \n",
       "average_score                                 0.133152      0.083475   \n",
       "reviewer_score                                0.330513      0.117986   \n",
       "\n",
       "                                              couple  business_trip  \\\n",
       "review_total_negative_word_counts          -0.003940       0.005361   \n",
       "n_room                                     -0.010747       0.027606   \n",
       "n_and                                      -0.006204       0.016164   \n",
       "n_the                                      -0.006904       0.007422   \n",
       "n_to                                       -0.001442       0.004893   \n",
       "n_was                                       0.012698      -0.009502   \n",
       "n_in                                        0.006797       0.004260   \n",
       "n_a                                         0.002034       0.007802   \n",
       "business_trip                              -0.278014       1.000000   \n",
       "total_number_of_reviews                    -0.012954      -0.015851   \n",
       "additional_number_of_scoring                0.011158      -0.004824   \n",
       "lat                                         0.019625       0.038501   \n",
       "review_month                                0.004995      -0.005422   \n",
       "hotel_country                               0.029817       0.001061   \n",
       "review_day                                 -0.001427       0.001634   \n",
       "days_since_review                           0.046745       0.011942   \n",
       "total_number_of_reviews_reviewer_has_given -0.044079       0.129854   \n",
       "review_date                                -0.041783      -0.008305   \n",
       "review_year                                -0.040873      -0.007814   \n",
       "lng                                        -0.024354      -0.001471   \n",
       "reviewer_country_numeric_code               0.069229      -0.059423   \n",
       "couple                                      1.000000      -0.278014   \n",
       "p_location                                  0.000828      -0.029643   \n",
       "p_The                                       0.026436      -0.066772   \n",
       "p_was                                       0.053404      -0.084274   \n",
       "leisure_trip                                0.275093      -0.904145   \n",
       "p_to                                        0.033222      -0.061377   \n",
       "p_hotel                                     0.026852      -0.044336   \n",
       "p_room                                      0.030170      -0.028906   \n",
       "p_the                                       0.035925      -0.064993   \n",
       "p_very                                      0.025819      -0.054723   \n",
       "review_total_positive_word_counts           0.037005      -0.075133   \n",
       "p_staff                                     0.023212      -0.049432   \n",
       "n_No                                        0.019248      -0.032435   \n",
       "n_Negative                                  0.013233      -0.027113   \n",
       "average_score                               0.094045      -0.072968   \n",
       "reviewer_score                              0.070013      -0.113428   \n",
       "\n",
       "                                            hotel_country  \\\n",
       "review_total_negative_word_counts                0.028274   \n",
       "n_room                                           0.043519   \n",
       "n_and                                            0.039941   \n",
       "n_the                                            0.018708   \n",
       "n_to                                             0.030767   \n",
       "n_was                                            0.048123   \n",
       "n_in                                             0.039908   \n",
       "n_a                                              0.003767   \n",
       "business_trip                                    0.001061   \n",
       "total_number_of_reviews                          0.133868   \n",
       "additional_number_of_scoring                     0.393011   \n",
       "lat                                              0.260103   \n",
       "review_month                                    -0.027906   \n",
       "hotel_country                                    1.000000   \n",
       "review_day                                      -0.008292   \n",
       "days_since_review                               -0.005080   \n",
       "total_number_of_reviews_reviewer_has_given      -0.103945   \n",
       "review_date                                      0.014829   \n",
       "review_year                                      0.015791   \n",
       "lng                                             -0.831998   \n",
       "reviewer_country_numeric_code                    0.219877   \n",
       "couple                                           0.029817   \n",
       "p_location                                      -0.037030   \n",
       "p_The                                           -0.013308   \n",
       "p_was                                            0.013874   \n",
       "leisure_trip                                    -0.009176   \n",
       "p_to                                            -0.030258   \n",
       "p_hotel                                         -0.049586   \n",
       "p_room                                          -0.014592   \n",
       "p_the                                           -0.036106   \n",
       "p_very                                          -0.032325   \n",
       "review_total_positive_word_counts               -0.041790   \n",
       "p_staff                                         -0.009956   \n",
       "n_No                                            -0.031302   \n",
       "n_Negative                                      -0.041266   \n",
       "average_score                                   -0.086114   \n",
       "reviewer_score                                  -0.030402   \n",
       "\n",
       "                                            reviewer_country_numeric_code  \\\n",
       "review_total_negative_word_counts                                0.013302   \n",
       "n_room                                                          -0.001760   \n",
       "n_and                                                            0.019591   \n",
       "n_the                                                            0.000994   \n",
       "n_to                                                             0.011715   \n",
       "n_was                                                            0.039850   \n",
       "n_in                                                             0.036156   \n",
       "n_a                                                             -0.005370   \n",
       "business_trip                                                   -0.059423   \n",
       "total_number_of_reviews                                          0.028974   \n",
       "additional_number_of_scoring                                     0.133737   \n",
       "lat                                                              0.142717   \n",
       "review_month                                                    -0.028331   \n",
       "hotel_country                                                    0.219877   \n",
       "review_day                                                      -0.005380   \n",
       "days_since_review                                                0.006046   \n",
       "total_number_of_reviews_reviewer_has_given                      -0.135225   \n",
       "review_date                                                      0.005390   \n",
       "review_year                                                      0.006629   \n",
       "lng                                                             -0.200209   \n",
       "reviewer_country_numeric_code                                    1.000000   \n",
       "couple                                                           0.069229   \n",
       "p_location                                                      -0.031337   \n",
       "p_The                                                            0.002434   \n",
       "p_was                                                            0.048473   \n",
       "leisure_trip                                                     0.056267   \n",
       "p_to                                                            -0.017194   \n",
       "p_hotel                                                         -0.001251   \n",
       "p_room                                                           0.005231   \n",
       "p_the                                                           -0.008829   \n",
       "p_very                                                          -0.005486   \n",
       "review_total_positive_word_counts                               -0.001997   \n",
       "p_staff                                                          0.020229   \n",
       "n_No                                                            -0.002723   \n",
       "n_Negative                                                      -0.022393   \n",
       "average_score                                                   -0.005456   \n",
       "reviewer_score                                                   0.033740   \n",
       "\n",
       "                                            review_month  review_day  \\\n",
       "review_total_negative_word_counts              -0.009451   -0.003040   \n",
       "n_room                                         -0.003028   -0.004624   \n",
       "n_and                                          -0.004489   -0.000689   \n",
       "n_the                                          -0.011206   -0.005048   \n",
       "n_to                                           -0.003299   -0.003537   \n",
       "n_was                                          -0.019290   -0.002943   \n",
       "n_in                                           -0.009728   -0.000798   \n",
       "n_a                                             0.002102   -0.004932   \n",
       "business_trip                                  -0.005422    0.001634   \n",
       "total_number_of_reviews                        -0.005048   -0.002870   \n",
       "additional_number_of_scoring                   -0.013643   -0.005439   \n",
       "lat                                            -0.025880   -0.007551   \n",
       "review_month                                    1.000000   -0.008643   \n",
       "hotel_country                                  -0.027906   -0.008292   \n",
       "review_day                                     -0.008643    1.000000   \n",
       "days_since_review                               0.211401   -0.008144   \n",
       "total_number_of_reviews_reviewer_has_given      0.015342   -0.001691   \n",
       "review_date                                    -0.547852   -0.024754   \n",
       "review_year                                    -0.581470   -0.024940   \n",
       "lng                                             0.025824    0.005525   \n",
       "reviewer_country_numeric_code                  -0.028331   -0.005380   \n",
       "couple                                          0.004995   -0.001427   \n",
       "p_location                                      0.016899   -0.000497   \n",
       "p_The                                          -0.015928    0.002307   \n",
       "p_was                                          -0.029421   -0.001095   \n",
       "leisure_trip                                    0.007649   -0.000623   \n",
       "p_to                                           -0.005750    0.001392   \n",
       "p_hotel                                        -0.011799   -0.001312   \n",
       "p_room                                         -0.018324   -0.001780   \n",
       "p_the                                          -0.018432   -0.001647   \n",
       "p_very                                         -0.016072    0.002886   \n",
       "review_total_positive_word_counts              -0.026909    0.000617   \n",
       "p_staff                                        -0.008609    0.001161   \n",
       "n_No                                            0.011408    0.002096   \n",
       "n_Negative                                      0.011410    0.001017   \n",
       "average_score                                  -0.009520    0.001376   \n",
       "reviewer_score                                 -0.032397    0.002139   \n",
       "\n",
       "                                            review_year  \n",
       "review_total_negative_word_counts              0.038963  \n",
       "n_room                                         0.018930  \n",
       "n_and                                          0.022968  \n",
       "n_the                                          0.029162  \n",
       "n_to                                           0.022256  \n",
       "n_was                                          0.041726  \n",
       "n_in                                           0.033416  \n",
       "n_a                                           -0.009748  \n",
       "business_trip                                 -0.007814  \n",
       "total_number_of_reviews                       -0.004386  \n",
       "additional_number_of_scoring                  -0.004939  \n",
       "lat                                            0.010680  \n",
       "review_month                                  -0.581470  \n",
       "hotel_country                                  0.015791  \n",
       "review_day                                    -0.024940  \n",
       "days_since_review                             -0.917355  \n",
       "total_number_of_reviews_reviewer_has_given    -0.036136  \n",
       "review_date                                    0.999169  \n",
       "review_year                                    1.000000  \n",
       "lng                                           -0.010312  \n",
       "reviewer_country_numeric_code                  0.006629  \n",
       "couple                                        -0.040873  \n",
       "p_location                                    -0.041720  \n",
       "p_The                                          0.031937  \n",
       "p_was                                          0.051686  \n",
       "leisure_trip                                   0.002217  \n",
       "p_to                                           0.016188  \n",
       "p_hotel                                        0.010129  \n",
       "p_room                                         0.020809  \n",
       "p_the                                          0.026595  \n",
       "p_very                                         0.013658  \n",
       "review_total_positive_word_counts              0.048889  \n",
       "p_staff                                       -0.017270  \n",
       "n_No                                          -0.036913  \n",
       "n_Negative                                    -0.047881  \n",
       "average_score                                  0.015777  \n",
       "reviewer_score                                 0.011043  \n",
       "\n",
       "[37 rows x 37 columns]"
      ]
     },
     "execution_count": 4033,
     "metadata": {},
     "output_type": "execute_result"
    }
   ],
   "source": [
    "hotels.corr().sort_values(by='reviewer_score')"
   ]
  },
  {
   "cell_type": "code",
   "execution_count": 4034,
   "metadata": {},
   "outputs": [],
   "source": [
    "# Удаляем ненужные признаки\n",
    "hotels = hotels.drop('hotel_country', axis=1)\n",
    "hotels = hotels.drop('review_date', axis=1)\n",
    "#hotels = hotels.drop('additional_number_of_scoring', axis=1)\n",
    "#hotels = hotels.drop('total_number_of_reviews_reviewer_has_given', axis=1)\n",
    "#hotels = hotels.drop('days_since_review', axis=1)\n",
    "#hotels = hotels.drop('lat', axis=1)\n",
    "#hotels = hotels.drop('lng', axis=1)\n",
    "hotels = hotels.drop('total_number_of_reviews', axis=1)\n",
    "hotels = hotels.drop('review_year', axis=1)\n",
    "hotels = hotels.drop('review_month', axis=1)"
   ]
  },
  {
   "cell_type": "code",
   "execution_count": 4035,
   "metadata": {},
   "outputs": [
    {
     "name": "stdout",
     "output_type": "stream",
     "text": [
      "<class 'pandas.core.frame.DataFrame'>\n",
      "Int64Index: 386803 entries, 0 to 386802\n",
      "Data columns (total 39 columns):\n",
      " #   Column                                      Non-Null Count   Dtype  \n",
      "---  ------                                      --------------   -----  \n",
      " 0   additional_number_of_scoring                386803 non-null  int64  \n",
      " 1   average_score                               386803 non-null  float64\n",
      " 2   review_total_negative_word_counts           386803 non-null  int64  \n",
      " 3   review_total_positive_word_counts           386803 non-null  int64  \n",
      " 4   total_number_of_reviews_reviewer_has_given  386803 non-null  int64  \n",
      " 5   reviewer_score                              386803 non-null  float64\n",
      " 6   days_since_review                           386803 non-null  int32  \n",
      " 7   lat                                         386803 non-null  float64\n",
      " 8   lng                                         386803 non-null  float64\n",
      " 9   hotel_name_n                                386803 non-null  object \n",
      " 10  good_rev_n                                  386803 non-null  object \n",
      " 11  p_the                                       386803 non-null  int64  \n",
      " 12  p_was                                       386803 non-null  int64  \n",
      " 13  p_to                                        386803 non-null  int64  \n",
      " 14  p_The                                       386803 non-null  int64  \n",
      " 15  p_staff                                     386803 non-null  int64  \n",
      " 16  p_very                                      386803 non-null  int64  \n",
      " 17  p_location                                  386803 non-null  int64  \n",
      " 18  p_room                                      386803 non-null  int64  \n",
      " 19  p_hotel                                     386803 non-null  int64  \n",
      " 20  bad_rev_n                                   386803 non-null  object \n",
      " 21  n_the                                       386803 non-null  int64  \n",
      " 22  n_was                                       386803 non-null  int64  \n",
      " 23  n_to                                        386803 non-null  int64  \n",
      " 24  n_a                                         386803 non-null  int64  \n",
      " 25  n_and                                       386803 non-null  int64  \n",
      " 26  n_in                                        386803 non-null  int64  \n",
      " 27  n_room                                      386803 non-null  int64  \n",
      " 28  n_No                                        386803 non-null  int64  \n",
      " 29  n_Negative                                  386803 non-null  int64  \n",
      " 30  tags_n                                      386803 non-null  object \n",
      " 31  leisure_trip                                386803 non-null  int64  \n",
      " 32  couple                                      386803 non-null  int64  \n",
      " 33  business_trip                               386803 non-null  int64  \n",
      " 34  country_code                                386803 non-null  object \n",
      " 35  hotel_country_code                          386803 non-null  object \n",
      " 36  reviewer_country_code                       386803 non-null  object \n",
      " 37  reviewer_country_numeric_code               386803 non-null  int32  \n",
      " 38  review_day                                  386803 non-null  int32  \n",
      "dtypes: float64(4), int32(3), int64(25), object(7)\n",
      "memory usage: 113.6+ MB\n"
     ]
    }
   ],
   "source": [
    "hotels.info()"
   ]
  },
  {
   "cell_type": "code",
   "execution_count": 4036,
   "metadata": {},
   "outputs": [],
   "source": [
    "# # убираем признаки которые еще не успели обработать, \n",
    "# # модель на признаках с dtypes \"object\" обучаться не будет, просто выберим их и удалим\n",
    "object_columns = [s for s in hotels.columns if hotels[s].dtypes == 'object']\n",
    "hotels.drop(object_columns, axis = 1, inplace=True)\n",
    "\n",
    "# # заполняем пропуски самым простым способом\n",
    "hotels = hotels.fillna(0)"
   ]
  },
  {
   "cell_type": "code",
   "execution_count": 4037,
   "metadata": {},
   "outputs": [],
   "source": [
    "# Разбиваем датафрейм на части, необходимые для обучения и тестирования модели  \n",
    "# Х - данные с информацией об отелях, у - целевая переменная (рейтинги отелей)  \n",
    "X = hotels.drop(['reviewer_score'], axis = 1)  \n",
    "y = hotels['reviewer_score'] "
   ]
  },
  {
   "cell_type": "code",
   "execution_count": 4038,
   "metadata": {},
   "outputs": [],
   "source": [
    "# Загружаем специальный инструмент для разбивки:  \n",
    "from sklearn.model_selection import train_test_split  "
   ]
  },
  {
   "cell_type": "code",
   "execution_count": 4039,
   "metadata": {},
   "outputs": [],
   "source": [
    "# Наборы данных с меткой \"train\" будут использоваться для обучения модели, \"test\" - для тестирования.  \n",
    "# Для тестирования мы будем использовать 25% от исходного датасета.  \n",
    "X_train, X_test, y_train, y_test = train_test_split(X, y, test_size=0.25, random_state=42)"
   ]
  },
  {
   "cell_type": "code",
   "execution_count": 4040,
   "metadata": {},
   "outputs": [],
   "source": [
    "# Импортируем необходимые библиотеки:  \n",
    "from sklearn.ensemble import RandomForestRegressor # инструмент для создания и обучения модели  \n",
    "from sklearn import metrics # инструменты для оценки точности модели  \n",
    "  \n",
    "# Создаём модель  \n",
    "regr = RandomForestRegressor(n_estimators=100)  \n",
    "      \n",
    "# Обучаем модель на тестовом наборе данных  \n",
    "regr.fit(X_train, y_train)  \n",
    "      \n",
    "# Используем обученную модель для предсказания рейтинга отелей в тестовой выборке.  \n",
    "# Предсказанные значения записываем в переменную y_pred  \n",
    "y_pred = regr.predict(X_test) "
   ]
  },
  {
   "cell_type": "code",
   "execution_count": 4041,
   "metadata": {},
   "outputs": [
    {
     "name": "stdout",
     "output_type": "stream",
     "text": [
      "MAPE: 0.13064174385637584\n"
     ]
    }
   ],
   "source": [
    "# Сравниваем предсказанные значения (y_pred) с реальными (y_test), и смотрим насколько они отличаются  \n",
    "# Метрика называется Mean Absolute Percentage Error (MAPE) и показывает среднюю абсолютную процентную ошибку предсказанных значений от фактических.  \n",
    "print('MAPE:', metrics.mean_absolute_percentage_error(y_test, y_pred))"
   ]
  },
  {
   "attachments": {},
   "cell_type": "markdown",
   "metadata": {},
   "source": [
    "MAPE: 0.13060315094552988\\\n",
    "MAPE: 0.13124615438700943\\\n",
    "MAPE: 0.13131213548901946\\\n",
    "MAPE: 0.1313918160524217\\\n",
    "MAPE: 0.1314654274582464\\\n",
    "MAPE: 0.13184410810959696\\\n",
    "MAPE: 0.13190213872218476\\\n",
    "MAPE: 0.13205058703160766\\\n",
    "MAPE: 0.13279829003203056\\\n",
    "MAPE: 0.13370223210063753\\\n",
    "MAPE: 0.13395231619153553\\\n",
    "MAPE: 0.13432011939774516\\\n",
    "MAPE: 0.13516724023673948\\\n",
    "MAPE: 0.13545920477743334\\\n",
    "MAPE: 0.13565849495123164\\\n",
    "MAPE: 0.13586721614026914\\\n",
    "MAPE: 0.13601731454428428\\\n",
    "MAPE: 0.13642866495303185\\\n",
    "MAPE: 0.136940436475685\\\n",
    "MAPE: 0.13714290876967394\\\n",
    "MAPE: 0.1373172207981428\\\n",
    "MAPE: 0.1373541856317374\\\n",
    "MAPE: 0.1378574196778373"
   ]
  }
 ],
 "metadata": {
  "kernelspec": {
   "display_name": "Python 3",
   "language": "python",
   "name": "python3"
  },
  "language_info": {
   "codemirror_mode": {
    "name": "ipython",
    "version": 3
   },
   "file_extension": ".py",
   "mimetype": "text/x-python",
   "name": "python",
   "nbconvert_exporter": "python",
   "pygments_lexer": "ipython3",
   "version": "3.10.5"
  },
  "orig_nbformat": 4,
  "vscode": {
   "interpreter": {
    "hash": "e9d51b002e47cd8f8b04d9faed033f591ac84a07f04044c78e9bcf9186acbbf0"
   }
  }
 },
 "nbformat": 4,
 "nbformat_minor": 2
}
