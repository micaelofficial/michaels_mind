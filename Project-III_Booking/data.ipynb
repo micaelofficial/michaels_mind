{
 "cells": [
  {
   "cell_type": "code",
   "execution_count": 498,
   "metadata": {},
   "outputs": [],
   "source": [
    "import pandas as pd"
   ]
  },
  {
   "cell_type": "code",
   "execution_count": 499,
   "metadata": {},
   "outputs": [],
   "source": [
    "hotels = pd.read_csv('https://www.dropbox.com/s/nex7vvntrhfj9h0/hotels.csv?dl=0')"
   ]
  },
  {
   "cell_type": "code",
   "execution_count": 500,
   "metadata": {},
   "outputs": [],
   "source": [
    "hotels['review_date'] = pd.to_datetime(hotels['review_date'], format='%m/%d/%Y')"
   ]
  },
  {
   "cell_type": "code",
   "execution_count": 501,
   "metadata": {},
   "outputs": [
    {
     "name": "stdout",
     "output_type": "stream",
     "text": [
      "Found duplicates:307\n"
     ]
    }
   ],
   "source": [
    "dupl_columns = list(hotels.columns)\n",
    "\n",
    "dupl = hotels.duplicated(subset=dupl_columns)\n",
    "h_duplicates = hotels[dupl]\n",
    "print(f'Found duplicates:{h_duplicates.shape[0]}')"
   ]
  },
  {
   "cell_type": "code",
   "execution_count": 502,
   "metadata": {},
   "outputs": [
    {
     "name": "stdout",
     "output_type": "stream",
     "text": [
      "Total: 386496\n"
     ]
    }
   ],
   "source": [
    "hotels = hotels.drop_duplicates(subset=dupl_columns)\n",
    "print(f'Total: {hotels.shape[0]}')"
   ]
  },
  {
   "cell_type": "code",
   "execution_count": 503,
   "metadata": {},
   "outputs": [
    {
     "data": {
      "text/html": [
       "<div>\n",
       "<style scoped>\n",
       "    .dataframe tbody tr th:only-of-type {\n",
       "        vertical-align: middle;\n",
       "    }\n",
       "\n",
       "    .dataframe tbody tr th {\n",
       "        vertical-align: top;\n",
       "    }\n",
       "\n",
       "    .dataframe thead th {\n",
       "        text-align: right;\n",
       "    }\n",
       "</style>\n",
       "<table border=\"1\" class=\"dataframe\">\n",
       "  <thead>\n",
       "    <tr style=\"text-align: right;\">\n",
       "      <th></th>\n",
       "      <th>hotel_address</th>\n",
       "      <th>additional_number_of_scoring</th>\n",
       "      <th>review_date</th>\n",
       "      <th>average_score</th>\n",
       "      <th>hotel_name</th>\n",
       "      <th>reviewer_nationality</th>\n",
       "      <th>negative_review</th>\n",
       "      <th>review_total_negative_word_counts</th>\n",
       "      <th>total_number_of_reviews</th>\n",
       "      <th>positive_review</th>\n",
       "      <th>review_total_positive_word_counts</th>\n",
       "      <th>total_number_of_reviews_reviewer_has_given</th>\n",
       "      <th>reviewer_score</th>\n",
       "      <th>tags</th>\n",
       "      <th>days_since_review</th>\n",
       "      <th>lat</th>\n",
       "      <th>lng</th>\n",
       "    </tr>\n",
       "  </thead>\n",
       "  <tbody>\n",
       "    <tr>\n",
       "      <th>111</th>\n",
       "      <td>Lakeside Way Brent London HA9 0BU United Kingdom</td>\n",
       "      <td>1427</td>\n",
       "      <td>2016-04-10</td>\n",
       "      <td>8.8</td>\n",
       "      <td>Hilton London Wembley</td>\n",
       "      <td>United Kingdom</td>\n",
       "      <td>There was not enough coffee and milk in the room</td>\n",
       "      <td>11</td>\n",
       "      <td>4305</td>\n",
       "      <td>No Positive</td>\n",
       "      <td>0</td>\n",
       "      <td>1</td>\n",
       "      <td>10.0</td>\n",
       "      <td>[' Leisure trip ', ' Couple ', ' King Guest Ro...</td>\n",
       "      <td>480 day</td>\n",
       "      <td>51.557696</td>\n",
       "      <td>-0.283526</td>\n",
       "    </tr>\n",
       "    <tr>\n",
       "      <th>448</th>\n",
       "      <td>40 trinity square City of London London EC3N 4...</td>\n",
       "      <td>832</td>\n",
       "      <td>2016-12-19</td>\n",
       "      <td>9.1</td>\n",
       "      <td>citizenM Tower of London</td>\n",
       "      <td>United Kingdom</td>\n",
       "      <td>Rooms are a little basic but rest of the plac...</td>\n",
       "      <td>18</td>\n",
       "      <td>4672</td>\n",
       "      <td>No Positive</td>\n",
       "      <td>0</td>\n",
       "      <td>8</td>\n",
       "      <td>10.0</td>\n",
       "      <td>[' Leisure trip ', ' Solo traveler ', ' Double...</td>\n",
       "      <td>227 day</td>\n",
       "      <td>51.510237</td>\n",
       "      <td>-0.076443</td>\n",
       "    </tr>\n",
       "    <tr>\n",
       "      <th>593</th>\n",
       "      <td>252 High Holborn Holborn Camden London WC1V 7E...</td>\n",
       "      <td>256</td>\n",
       "      <td>2015-08-23</td>\n",
       "      <td>9.4</td>\n",
       "      <td>Rosewood London</td>\n",
       "      <td>United Kingdom</td>\n",
       "      <td>The only downside was the air con for the cor...</td>\n",
       "      <td>21</td>\n",
       "      <td>1008</td>\n",
       "      <td>No Positive</td>\n",
       "      <td>0</td>\n",
       "      <td>1</td>\n",
       "      <td>10.0</td>\n",
       "      <td>[' Leisure trip ', ' Family with young childre...</td>\n",
       "      <td>711 day</td>\n",
       "      <td>51.517330</td>\n",
       "      <td>-0.118097</td>\n",
       "    </tr>\n",
       "    <tr>\n",
       "      <th>1127</th>\n",
       "      <td>Scarsdale Place Kensington Kensington and Chel...</td>\n",
       "      <td>1831</td>\n",
       "      <td>2015-09-17</td>\n",
       "      <td>8.1</td>\n",
       "      <td>Copthorne Tara Hotel London Kensington</td>\n",
       "      <td>New Zealand</td>\n",
       "      <td>I think in this era of 2015 WIFI should be av...</td>\n",
       "      <td>67</td>\n",
       "      <td>7105</td>\n",
       "      <td>No Positive</td>\n",
       "      <td>0</td>\n",
       "      <td>10</td>\n",
       "      <td>10.0</td>\n",
       "      <td>[' Leisure trip ', ' Couple ', ' Superior Plus...</td>\n",
       "      <td>686 day</td>\n",
       "      <td>51.499046</td>\n",
       "      <td>-0.191707</td>\n",
       "    </tr>\n",
       "    <tr>\n",
       "      <th>1173</th>\n",
       "      <td>Rec Comtal 16 18 Ciutat Vella 08003 Barcelona ...</td>\n",
       "      <td>211</td>\n",
       "      <td>2017-03-21</td>\n",
       "      <td>8.8</td>\n",
       "      <td>Catalonia Born</td>\n",
       "      <td>United Kingdom</td>\n",
       "      <td>Everything was perfect about the hotel howeve...</td>\n",
       "      <td>28</td>\n",
       "      <td>2094</td>\n",
       "      <td>No Positive</td>\n",
       "      <td>0</td>\n",
       "      <td>1</td>\n",
       "      <td>10.0</td>\n",
       "      <td>[' Leisure trip ', ' Couple ', ' Double Room '...</td>\n",
       "      <td>135 day</td>\n",
       "      <td>41.389692</td>\n",
       "      <td>2.179866</td>\n",
       "    </tr>\n",
       "  </tbody>\n",
       "</table>\n",
       "</div>"
      ],
      "text/plain": [
       "                                          hotel_address  \\\n",
       "111    Lakeside Way Brent London HA9 0BU United Kingdom   \n",
       "448   40 trinity square City of London London EC3N 4...   \n",
       "593   252 High Holborn Holborn Camden London WC1V 7E...   \n",
       "1127  Scarsdale Place Kensington Kensington and Chel...   \n",
       "1173  Rec Comtal 16 18 Ciutat Vella 08003 Barcelona ...   \n",
       "\n",
       "      additional_number_of_scoring review_date  average_score  \\\n",
       "111                           1427  2016-04-10            8.8   \n",
       "448                            832  2016-12-19            9.1   \n",
       "593                            256  2015-08-23            9.4   \n",
       "1127                          1831  2015-09-17            8.1   \n",
       "1173                           211  2017-03-21            8.8   \n",
       "\n",
       "                                  hotel_name reviewer_nationality  \\\n",
       "111                    Hilton London Wembley      United Kingdom    \n",
       "448                 citizenM Tower of London      United Kingdom    \n",
       "593                          Rosewood London      United Kingdom    \n",
       "1127  Copthorne Tara Hotel London Kensington         New Zealand    \n",
       "1173                          Catalonia Born      United Kingdom    \n",
       "\n",
       "                                        negative_review  \\\n",
       "111    There was not enough coffee and milk in the room   \n",
       "448    Rooms are a little basic but rest of the plac...   \n",
       "593    The only downside was the air con for the cor...   \n",
       "1127   I think in this era of 2015 WIFI should be av...   \n",
       "1173   Everything was perfect about the hotel howeve...   \n",
       "\n",
       "      review_total_negative_word_counts  total_number_of_reviews  \\\n",
       "111                                  11                     4305   \n",
       "448                                  18                     4672   \n",
       "593                                  21                     1008   \n",
       "1127                                 67                     7105   \n",
       "1173                                 28                     2094   \n",
       "\n",
       "     positive_review  review_total_positive_word_counts  \\\n",
       "111      No Positive                                  0   \n",
       "448      No Positive                                  0   \n",
       "593      No Positive                                  0   \n",
       "1127     No Positive                                  0   \n",
       "1173     No Positive                                  0   \n",
       "\n",
       "      total_number_of_reviews_reviewer_has_given  reviewer_score  \\\n",
       "111                                            1            10.0   \n",
       "448                                            8            10.0   \n",
       "593                                            1            10.0   \n",
       "1127                                          10            10.0   \n",
       "1173                                           1            10.0   \n",
       "\n",
       "                                                   tags days_since_review  \\\n",
       "111   [' Leisure trip ', ' Couple ', ' King Guest Ro...           480 day   \n",
       "448   [' Leisure trip ', ' Solo traveler ', ' Double...           227 day   \n",
       "593   [' Leisure trip ', ' Family with young childre...           711 day   \n",
       "1127  [' Leisure trip ', ' Couple ', ' Superior Plus...           686 day   \n",
       "1173  [' Leisure trip ', ' Couple ', ' Double Room '...           135 day   \n",
       "\n",
       "            lat       lng  \n",
       "111   51.557696 -0.283526  \n",
       "448   51.510237 -0.076443  \n",
       "593   51.517330 -0.118097  \n",
       "1127  51.499046 -0.191707  \n",
       "1173  41.389692  2.179866  "
      ]
     },
     "execution_count": 503,
     "metadata": {},
     "output_type": "execute_result"
    }
   ],
   "source": [
    "susp10 = hotels[hotels['reviewer_score']==10]\n",
    "susp10 = susp10[susp10['review_total_negative_word_counts']>10]\n",
    "susp10 = susp10[susp10['review_total_positive_word_counts']==0]\n",
    "susp10.head()"
   ]
  },
  {
   "cell_type": "code",
   "execution_count": 504,
   "metadata": {},
   "outputs": [],
   "source": [
    "# hotels = pd.concat([hotels, susp10, susp10]).drop_duplicates(keep=False)"
   ]
  },
  {
   "cell_type": "code",
   "execution_count": 505,
   "metadata": {},
   "outputs": [],
   "source": [
    "import numpy as np\n",
    "import pycountry\n",
    "\n",
    "def do_fuzzy_search(country):\n",
    "    try:\n",
    "        result = pycountry.countries.search_fuzzy(country)\n",
    "    except Exception:\n",
    "        return np.nan\n",
    "    else:\n",
    "        return result[0].alpha_3\n",
    "\n",
    "iso_map = {country: do_fuzzy_search(country) for country in hotels[\"reviewer_nationality\"].unique()}\n",
    "hotels[\"country_code\"] = hotels['reviewer_nationality'].map(iso_map)"
   ]
  },
  {
   "cell_type": "code",
   "execution_count": 506,
   "metadata": {},
   "outputs": [
    {
     "data": {
      "text/plain": [
       " Abkhazia Georgia                     116\n",
       " Macau                                 77\n",
       " Palestinian Territory                 39\n",
       " Cura ao                               29\n",
       " Ivory Coast                           15\n",
       " Turks Caicos Islands                  12\n",
       " Antigua Barbuda                       12\n",
       " U S Virgin Islands                    11\n",
       " Swaziland                              7\n",
       " Laos                                   6\n",
       " St Maarten                             6\n",
       " Democratic Republic of the Congo       6\n",
       " Falkland Islands Malvinas              5\n",
       " Crimea                                 4\n",
       " East Timor                             4\n",
       " Central Africa Republic                3\n",
       " St Pierre and Miquelon                 2\n",
       " Cocos K I                              2\n",
       " Saint Vincent Grenadines               1\n",
       " Bonaire St Eustatius and Saba          1\n",
       " Svalbard Jan Mayen                     1\n",
       " Saint Barts                            1\n",
       "Name: reviewer_nationality, dtype: int64"
      ]
     },
     "execution_count": 506,
     "metadata": {},
     "output_type": "execute_result"
    }
   ],
   "source": [
    "miss = hotels[hotels['country_code'].isnull()]\n",
    "miss['reviewer_nationality'].value_counts()"
   ]
  },
  {
   "cell_type": "code",
   "execution_count": 507,
   "metadata": {},
   "outputs": [],
   "source": [
    "hotels['reviewer_nationality'] = hotels['reviewer_nationality'].str.replace(r'Abkhazia Georgia', 'Georgia', regex= True)\n",
    "hotels['reviewer_nationality'] = hotels['reviewer_nationality'].str.replace(r'Macau', 'Macao', regex= True)\n",
    "hotels['reviewer_nationality'] = hotels['reviewer_nationality'].str.replace(r'Cura ao', 'Curaçao', regex= True)\n",
    "hotels['reviewer_nationality'] = hotels['reviewer_nationality'].str.replace(r'Palestinian Territory', 'Palestine, State of', regex= True)\n",
    "hotels['reviewer_nationality'] = hotels['reviewer_nationality'].str.replace(r'Ivory Coast', \"Côte d'Ivoire\", regex= True)\n",
    "hotels['reviewer_nationality'] = hotels['reviewer_nationality'].str.replace(r'Turks Caicos Islands', 'Turks and Caicos Islands', regex= True)\n",
    "hotels['reviewer_nationality'] = hotels['reviewer_nationality'].str.replace(r'Antigua Barbuda', 'Antigua and Barbuda', regex= True)\n",
    "hotels['reviewer_nationality'] = hotels['reviewer_nationality'].str.replace(r'Laos', \"Lao People's Democratic Republic\", regex= True)\n",
    "hotels['reviewer_nationality'] = hotels['reviewer_nationality'].str.replace(r'Democratic Republic of the Congo', 'Congo, the Democratic Republic of the', regex= True)\n",
    "hotels['reviewer_nationality'] = hotels['reviewer_nationality'].str.replace(r'Central Africa Republic', \"Central African Republic\", regex= True)\n",
    "hotels['reviewer_nationality'] = hotels['reviewer_nationality'].str.replace(r'U S Virgin Islands', 'Virgin Islands, U.S.', regex= True)\n",
    "hotels['reviewer_nationality'] = hotels['reviewer_nationality'].str.replace(r'Swaziland', 'SZ', regex= True)\n",
    "hotels['reviewer_nationality'] = hotels['reviewer_nationality'].str.replace(r'St Maarten', 'Sint Maarten (Dutch part)', regex= True)\n",
    "hotels['reviewer_nationality'] = hotels['reviewer_nationality'].str.replace(r'Falkland Islands Malvinas', 'Falkland Islands (Malvinas)', regex= True)\n",
    "hotels['reviewer_nationality'] = hotels['reviewer_nationality'].str.replace(r'East Timor', 'Timor-Leste', regex= True)\n",
    "hotels['reviewer_nationality'] = hotels['reviewer_nationality'].str.replace(r'St Pierre and Miquelon', 'Saint Pierre and Miquelon', regex= True)\n",
    "hotels['reviewer_nationality'] = hotels['reviewer_nationality'].str.replace(r'Cocos K I', 'Cocos (Keeling) Islands', regex= True)\n",
    "hotels['reviewer_nationality'] = hotels['reviewer_nationality'].str.replace(r'Bonaire St Eustatius and Saba', 'Bonaire, Sint Eustatius and Saba', regex= True)\n",
    "hotels['reviewer_nationality'] = hotels['reviewer_nationality'].str.replace(r'Svalbard Jan Mayen', 'Svalbard and Jan Mayen', regex= True)\n",
    "hotels['reviewer_nationality'] = hotels['reviewer_nationality'].str.replace(r'Saint Barts', 'Saint Barthélemy', regex= True)\n",
    "hotels['reviewer_nationality'] = hotels['reviewer_nationality'].str.replace(r'Saint Vincent Grenadines', 'Saint Vincent and the Grenadines', regex= True)"
   ]
  },
  {
   "cell_type": "code",
   "execution_count": 508,
   "metadata": {},
   "outputs": [],
   "source": [
    "iso_map = {country: do_fuzzy_search(country) for country in hotels[\"reviewer_nationality\"].unique()}\n",
    "hotels[\"country_code\"] = hotels['reviewer_nationality'].map(iso_map)"
   ]
  },
  {
   "cell_type": "code",
   "execution_count": 509,
   "metadata": {},
   "outputs": [
    {
     "data": {
      "application/vnd.plotly.v1+json": {
       "config": {
        "plotlyServerURL": "https://plot.ly"
       },
       "data": [
        {
         "coloraxis": "coloraxis",
         "geo": "geo",
         "hovertemplate": "country_code=%{location}<br>reviewer_score=%{z}<extra></extra>",
         "locationmode": "ISO-3",
         "locations": [
          "ABW",
          "AFG",
          "AGO",
          "AIA",
          "ALB",
          "AND",
          "ARE",
          "ARG",
          "ARM",
          "ASM",
          "ATA",
          "ATG",
          "AUS",
          "AUT",
          "AZE",
          "BDI",
          "BEL",
          "BEN",
          "BES",
          "BGD",
          "BGR",
          "BHR",
          "BHS",
          "BIH",
          "BLM",
          "BLR",
          "BLZ",
          "BMU",
          "BOL",
          "BRA",
          "BRB",
          "BRN",
          "BTN",
          "BWA",
          "CAF",
          "CAN",
          "CCK",
          "CHE",
          "CHL",
          "CHN",
          "CIV",
          "CMR",
          "COD",
          "COG",
          "COK",
          "COL",
          "COM",
          "CRI",
          "CYM",
          "CYP",
          "CZE",
          "DEU",
          "DJI",
          "DMA",
          "DNK",
          "DOM",
          "DZA",
          "ECU",
          "EGY",
          "ERI",
          "ESP",
          "EST",
          "ETH",
          "FIN",
          "FJI",
          "FLK",
          "FRA",
          "FRO",
          "GAB",
          "GBR",
          "GEO",
          "GGY",
          "GHA",
          "GIB",
          "GIN",
          "GMB",
          "GNQ",
          "GRC",
          "GRD",
          "GTM",
          "GUF",
          "GUM",
          "GUY",
          "HKG",
          "HND",
          "HRV",
          "HTI",
          "HUN",
          "IDN",
          "IMN",
          "IND",
          "IRL",
          "IRN",
          "IRQ",
          "ISL",
          "ISR",
          "ITA",
          "JAM",
          "JEY",
          "JOR",
          "JPN",
          "KAZ",
          "KEN",
          "KGZ",
          "KHM",
          "KIR",
          "KNA",
          "KOR",
          "KWT",
          "LAO",
          "LBN",
          "LBR",
          "LBY",
          "LCA",
          "LIE",
          "LKA",
          "LSO",
          "LTU",
          "LUX",
          "LVA",
          "MAC",
          "MAF",
          "MAR",
          "MCO",
          "MDA",
          "MDG",
          "MDV",
          "MEX",
          "MKD",
          "MLI",
          "MLT",
          "MMR",
          "MNE",
          "MNG",
          "MNP",
          "MOZ",
          "MRT",
          "MSR",
          "MUS",
          "MWI",
          "MYS",
          "NAM",
          "NCL",
          "NGA",
          "NIC",
          "NLD",
          "NOR",
          "NPL",
          "NZL",
          "OMN",
          "PAK",
          "PAN",
          "PER",
          "PHL",
          "PLW",
          "PNG",
          "POL",
          "PRI",
          "PRT",
          "PRY",
          "PSE",
          "PYF",
          "QAT",
          "REU",
          "ROU",
          "RUS",
          "RWA",
          "SAU",
          "SDN",
          "SEN",
          "SGP",
          "SJM",
          "SLE",
          "SLV",
          "SMR",
          "SOM",
          "SPM",
          "SRB",
          "SSD",
          "SUR",
          "SVK",
          "SVN",
          "SWE",
          "SWZ",
          "SXM",
          "SYC",
          "SYR",
          "TCA",
          "TGO",
          "THA",
          "TJK",
          "TKM",
          "TLS",
          "TTO",
          "TUN",
          "TUR",
          "TUV",
          "TWN",
          "TZA",
          "UGA",
          "UKR",
          "UMI",
          "URY",
          "USA",
          "UZB",
          "VCT",
          "VEN",
          "VGB",
          "VIR",
          "VNM",
          "VUT",
          "WLF",
          "WSM",
          "YEM",
          "ZAF",
          "ZMB",
          "ZWE"
         ],
         "name": "",
         "type": "choropleth",
         "z": [
          8.4125,
          7.216666666666668,
          8.227906976744187,
          7.5,
          8.207207207207206,
          8.013461538461538,
          7.89239358906989,
          8.398633879781421,
          7.97,
          4.6,
          8.766666666666667,
          8.383333333333335,
          8.59147755303404,
          8.307988980716253,
          7.825570776255708,
          9.2,
          8.165436464088398,
          8.9,
          8.8,
          7.578991596638655,
          8.412964824120603,
          7.988295165394403,
          8.484,
          8.430851063829786,
          10,
          8.110000000000001,
          8.285714285714286,
          8.708433734939758,
          8.764285714285714,
          8.434701223902087,
          8.559574468085106,
          8.361538461538462,
          8.68,
          8.354054054054055,
          9.299999999999999,
          8.584273046678936,
          8.95,
          8.157917436845347,
          8.329527559055117,
          8.459094457455114,
          8.6,
          7.68,
          8.116666666666667,
          9.6,
          5,
          8.579227053140096,
          10,
          8.532584269662921,
          8.773333333333333,
          8.303688524590164,
          8.282082606166375,
          8.12060157956646,
          7.9,
          8.1375,
          8.082101167315175,
          8.25945945945946,
          7.902777777777778,
          8.506818181818183,
          8.077821448624368,
          8.35,
          8.163963708534165,
          8.391956124314442,
          8.115384615384615,
          8.28542750929368,
          7.9,
          8.68,
          8.147587204048437,
          8,
          7.366666666666667,
          8.487492066591807,
          8.1993993993994,
          8.338765432098764,
          8.146491228070175,
          8.241605839416058,
          7.5,
          9.275,
          10,
          8.175622283682339,
          7.9,
          8.364864864864865,
          8.466666666666667,
          8.85,
          8.9,
          8.075619469026549,
          8.617647058823529,
          8.3213228035538,
          8.18,
          8.522569027611045,
          8.240756663800516,
          8.322666666666667,
          7.885485133020344,
          8.467200287795665,
          7.753558504221954,
          7.970535714285715,
          8.481549295774647,
          8.70016286644951,
          8.094716071037054,
          8.14,
          8.362385321100918,
          7.8080071174377235,
          8.330168776371307,
          7.902816901408451,
          8.039408866995075,
          9.142857142857142,
          8.075,
          7.5,
          8.414285714285715,
          8.376720901126408,
          8.034594594594594,
          8.283333333333333,
          8.026694166175604,
          8.200000000000001,
          7.837704918032787,
          8.216666666666667,
          8.925,
          8.107407407407408,
          7.1,
          8.363243243243243,
          8.215142576204522,
          8.234150943396227,
          8.048051948051949,
          8.75,
          8.047727272727274,
          8.03936170212766,
          8.077906976744186,
          7.985714285714286,
          7.838888888888889,
          8.578747203579418,
          8.228971962616823,
          6.44,
          8.464960000000001,
          8.22,
          7.974468085106384,
          7.41,
          5.8,
          7.726923076923077,
          8.360000000000001,
          5.4,
          7.882098765432099,
          8.255555555555555,
          8.200209937018895,
          8.370909090909091,
          8.7,
          8.219183673469388,
          8.671428571428573,
          8.138297872340425,
          8.151716375914463,
          8.042857142857143,
          8.645067539909947,
          7.875956820412169,
          7.720902255639097,
          8.7,
          8.490243902439024,
          8.39864864864865,
          8.3,
          7.82,
          8.229277566539924,
          8.81223021582734,
          8.03002175489485,
          8.505882352941176,
          7.94102564102564,
          8.95,
          7.882925636007828,
          8.65,
          8.169286966686148,
          8.264113859708575,
          8.836363636363636,
          7.886271590232281,
          7.860975609756098,
          7.811111111111111,
          8.15210047639671,
          10,
          7.159999999999999,
          8.642857142857142,
          8.9,
          8.149999999999999,
          8.95,
          8.299553571428572,
          9.2,
          7.042857142857143,
          8.375219941348973,
          8.232752613240418,
          8.189492187499999,
          8.642857142857142,
          8.283333333333333,
          7.8125,
          7.378260869565217,
          7.75,
          8.442857142857143,
          8.215658362989323,
          9.588888888888889,
          7.525,
          8.75,
          8.638317757009345,
          8.03448275862069,
          7.995392491467577,
          7.1,
          8.377810650887573,
          7.85813953488372,
          8.320512820512821,
          8.358072289156626,
          8.343137254901961,
          8.447368421052632,
          8.783290556352382,
          7.778571428571429,
          10,
          8.658490566037736,
          8.475,
          8.218181818181819,
          8.073239436619719,
          8.766666666666667,
          7.3,
          8.55,
          7.869230769230769,
          8.367163145133356,
          8.107142857142858,
          7.783783783783784
         ]
        }
       ],
       "layout": {
        "coloraxis": {
         "cmax": 9,
         "cmin": 7,
         "colorbar": {
          "title": {
           "text": "reviewer_score"
          }
         },
         "colorscale": [
          [
           0,
           "rgb(255,0,0)"
          ],
          [
           1,
           "rgb(0,255,0)"
          ]
         ]
        },
        "geo": {
         "center": {},
         "domain": {
          "x": [
           0,
           1
          ],
          "y": [
           0,
           1
          ]
         }
        },
        "height": 700,
        "legend": {
         "tracegroupgap": 0
        },
        "template": {
         "data": {
          "bar": [
           {
            "error_x": {
             "color": "#2a3f5f"
            },
            "error_y": {
             "color": "#2a3f5f"
            },
            "marker": {
             "line": {
              "color": "#E5ECF6",
              "width": 0.5
             },
             "pattern": {
              "fillmode": "overlay",
              "size": 10,
              "solidity": 0.2
             }
            },
            "type": "bar"
           }
          ],
          "barpolar": [
           {
            "marker": {
             "line": {
              "color": "#E5ECF6",
              "width": 0.5
             },
             "pattern": {
              "fillmode": "overlay",
              "size": 10,
              "solidity": 0.2
             }
            },
            "type": "barpolar"
           }
          ],
          "carpet": [
           {
            "aaxis": {
             "endlinecolor": "#2a3f5f",
             "gridcolor": "white",
             "linecolor": "white",
             "minorgridcolor": "white",
             "startlinecolor": "#2a3f5f"
            },
            "baxis": {
             "endlinecolor": "#2a3f5f",
             "gridcolor": "white",
             "linecolor": "white",
             "minorgridcolor": "white",
             "startlinecolor": "#2a3f5f"
            },
            "type": "carpet"
           }
          ],
          "choropleth": [
           {
            "colorbar": {
             "outlinewidth": 0,
             "ticks": ""
            },
            "type": "choropleth"
           }
          ],
          "contour": [
           {
            "colorbar": {
             "outlinewidth": 0,
             "ticks": ""
            },
            "colorscale": [
             [
              0,
              "#0d0887"
             ],
             [
              0.1111111111111111,
              "#46039f"
             ],
             [
              0.2222222222222222,
              "#7201a8"
             ],
             [
              0.3333333333333333,
              "#9c179e"
             ],
             [
              0.4444444444444444,
              "#bd3786"
             ],
             [
              0.5555555555555556,
              "#d8576b"
             ],
             [
              0.6666666666666666,
              "#ed7953"
             ],
             [
              0.7777777777777778,
              "#fb9f3a"
             ],
             [
              0.8888888888888888,
              "#fdca26"
             ],
             [
              1,
              "#f0f921"
             ]
            ],
            "type": "contour"
           }
          ],
          "contourcarpet": [
           {
            "colorbar": {
             "outlinewidth": 0,
             "ticks": ""
            },
            "type": "contourcarpet"
           }
          ],
          "heatmap": [
           {
            "colorbar": {
             "outlinewidth": 0,
             "ticks": ""
            },
            "colorscale": [
             [
              0,
              "#0d0887"
             ],
             [
              0.1111111111111111,
              "#46039f"
             ],
             [
              0.2222222222222222,
              "#7201a8"
             ],
             [
              0.3333333333333333,
              "#9c179e"
             ],
             [
              0.4444444444444444,
              "#bd3786"
             ],
             [
              0.5555555555555556,
              "#d8576b"
             ],
             [
              0.6666666666666666,
              "#ed7953"
             ],
             [
              0.7777777777777778,
              "#fb9f3a"
             ],
             [
              0.8888888888888888,
              "#fdca26"
             ],
             [
              1,
              "#f0f921"
             ]
            ],
            "type": "heatmap"
           }
          ],
          "heatmapgl": [
           {
            "colorbar": {
             "outlinewidth": 0,
             "ticks": ""
            },
            "colorscale": [
             [
              0,
              "#0d0887"
             ],
             [
              0.1111111111111111,
              "#46039f"
             ],
             [
              0.2222222222222222,
              "#7201a8"
             ],
             [
              0.3333333333333333,
              "#9c179e"
             ],
             [
              0.4444444444444444,
              "#bd3786"
             ],
             [
              0.5555555555555556,
              "#d8576b"
             ],
             [
              0.6666666666666666,
              "#ed7953"
             ],
             [
              0.7777777777777778,
              "#fb9f3a"
             ],
             [
              0.8888888888888888,
              "#fdca26"
             ],
             [
              1,
              "#f0f921"
             ]
            ],
            "type": "heatmapgl"
           }
          ],
          "histogram": [
           {
            "marker": {
             "pattern": {
              "fillmode": "overlay",
              "size": 10,
              "solidity": 0.2
             }
            },
            "type": "histogram"
           }
          ],
          "histogram2d": [
           {
            "colorbar": {
             "outlinewidth": 0,
             "ticks": ""
            },
            "colorscale": [
             [
              0,
              "#0d0887"
             ],
             [
              0.1111111111111111,
              "#46039f"
             ],
             [
              0.2222222222222222,
              "#7201a8"
             ],
             [
              0.3333333333333333,
              "#9c179e"
             ],
             [
              0.4444444444444444,
              "#bd3786"
             ],
             [
              0.5555555555555556,
              "#d8576b"
             ],
             [
              0.6666666666666666,
              "#ed7953"
             ],
             [
              0.7777777777777778,
              "#fb9f3a"
             ],
             [
              0.8888888888888888,
              "#fdca26"
             ],
             [
              1,
              "#f0f921"
             ]
            ],
            "type": "histogram2d"
           }
          ],
          "histogram2dcontour": [
           {
            "colorbar": {
             "outlinewidth": 0,
             "ticks": ""
            },
            "colorscale": [
             [
              0,
              "#0d0887"
             ],
             [
              0.1111111111111111,
              "#46039f"
             ],
             [
              0.2222222222222222,
              "#7201a8"
             ],
             [
              0.3333333333333333,
              "#9c179e"
             ],
             [
              0.4444444444444444,
              "#bd3786"
             ],
             [
              0.5555555555555556,
              "#d8576b"
             ],
             [
              0.6666666666666666,
              "#ed7953"
             ],
             [
              0.7777777777777778,
              "#fb9f3a"
             ],
             [
              0.8888888888888888,
              "#fdca26"
             ],
             [
              1,
              "#f0f921"
             ]
            ],
            "type": "histogram2dcontour"
           }
          ],
          "mesh3d": [
           {
            "colorbar": {
             "outlinewidth": 0,
             "ticks": ""
            },
            "type": "mesh3d"
           }
          ],
          "parcoords": [
           {
            "line": {
             "colorbar": {
              "outlinewidth": 0,
              "ticks": ""
             }
            },
            "type": "parcoords"
           }
          ],
          "pie": [
           {
            "automargin": true,
            "type": "pie"
           }
          ],
          "scatter": [
           {
            "fillpattern": {
             "fillmode": "overlay",
             "size": 10,
             "solidity": 0.2
            },
            "type": "scatter"
           }
          ],
          "scatter3d": [
           {
            "line": {
             "colorbar": {
              "outlinewidth": 0,
              "ticks": ""
             }
            },
            "marker": {
             "colorbar": {
              "outlinewidth": 0,
              "ticks": ""
             }
            },
            "type": "scatter3d"
           }
          ],
          "scattercarpet": [
           {
            "marker": {
             "colorbar": {
              "outlinewidth": 0,
              "ticks": ""
             }
            },
            "type": "scattercarpet"
           }
          ],
          "scattergeo": [
           {
            "marker": {
             "colorbar": {
              "outlinewidth": 0,
              "ticks": ""
             }
            },
            "type": "scattergeo"
           }
          ],
          "scattergl": [
           {
            "marker": {
             "colorbar": {
              "outlinewidth": 0,
              "ticks": ""
             }
            },
            "type": "scattergl"
           }
          ],
          "scattermapbox": [
           {
            "marker": {
             "colorbar": {
              "outlinewidth": 0,
              "ticks": ""
             }
            },
            "type": "scattermapbox"
           }
          ],
          "scatterpolar": [
           {
            "marker": {
             "colorbar": {
              "outlinewidth": 0,
              "ticks": ""
             }
            },
            "type": "scatterpolar"
           }
          ],
          "scatterpolargl": [
           {
            "marker": {
             "colorbar": {
              "outlinewidth": 0,
              "ticks": ""
             }
            },
            "type": "scatterpolargl"
           }
          ],
          "scatterternary": [
           {
            "marker": {
             "colorbar": {
              "outlinewidth": 0,
              "ticks": ""
             }
            },
            "type": "scatterternary"
           }
          ],
          "surface": [
           {
            "colorbar": {
             "outlinewidth": 0,
             "ticks": ""
            },
            "colorscale": [
             [
              0,
              "#0d0887"
             ],
             [
              0.1111111111111111,
              "#46039f"
             ],
             [
              0.2222222222222222,
              "#7201a8"
             ],
             [
              0.3333333333333333,
              "#9c179e"
             ],
             [
              0.4444444444444444,
              "#bd3786"
             ],
             [
              0.5555555555555556,
              "#d8576b"
             ],
             [
              0.6666666666666666,
              "#ed7953"
             ],
             [
              0.7777777777777778,
              "#fb9f3a"
             ],
             [
              0.8888888888888888,
              "#fdca26"
             ],
             [
              1,
              "#f0f921"
             ]
            ],
            "type": "surface"
           }
          ],
          "table": [
           {
            "cells": {
             "fill": {
              "color": "#EBF0F8"
             },
             "line": {
              "color": "white"
             }
            },
            "header": {
             "fill": {
              "color": "#C8D4E3"
             },
             "line": {
              "color": "white"
             }
            },
            "type": "table"
           }
          ]
         },
         "layout": {
          "annotationdefaults": {
           "arrowcolor": "#2a3f5f",
           "arrowhead": 0,
           "arrowwidth": 1
          },
          "autotypenumbers": "strict",
          "coloraxis": {
           "colorbar": {
            "outlinewidth": 0,
            "ticks": ""
           }
          },
          "colorscale": {
           "diverging": [
            [
             0,
             "#8e0152"
            ],
            [
             0.1,
             "#c51b7d"
            ],
            [
             0.2,
             "#de77ae"
            ],
            [
             0.3,
             "#f1b6da"
            ],
            [
             0.4,
             "#fde0ef"
            ],
            [
             0.5,
             "#f7f7f7"
            ],
            [
             0.6,
             "#e6f5d0"
            ],
            [
             0.7,
             "#b8e186"
            ],
            [
             0.8,
             "#7fbc41"
            ],
            [
             0.9,
             "#4d9221"
            ],
            [
             1,
             "#276419"
            ]
           ],
           "sequential": [
            [
             0,
             "#0d0887"
            ],
            [
             0.1111111111111111,
             "#46039f"
            ],
            [
             0.2222222222222222,
             "#7201a8"
            ],
            [
             0.3333333333333333,
             "#9c179e"
            ],
            [
             0.4444444444444444,
             "#bd3786"
            ],
            [
             0.5555555555555556,
             "#d8576b"
            ],
            [
             0.6666666666666666,
             "#ed7953"
            ],
            [
             0.7777777777777778,
             "#fb9f3a"
            ],
            [
             0.8888888888888888,
             "#fdca26"
            ],
            [
             1,
             "#f0f921"
            ]
           ],
           "sequentialminus": [
            [
             0,
             "#0d0887"
            ],
            [
             0.1111111111111111,
             "#46039f"
            ],
            [
             0.2222222222222222,
             "#7201a8"
            ],
            [
             0.3333333333333333,
             "#9c179e"
            ],
            [
             0.4444444444444444,
             "#bd3786"
            ],
            [
             0.5555555555555556,
             "#d8576b"
            ],
            [
             0.6666666666666666,
             "#ed7953"
            ],
            [
             0.7777777777777778,
             "#fb9f3a"
            ],
            [
             0.8888888888888888,
             "#fdca26"
            ],
            [
             1,
             "#f0f921"
            ]
           ]
          },
          "colorway": [
           "#636efa",
           "#EF553B",
           "#00cc96",
           "#ab63fa",
           "#FFA15A",
           "#19d3f3",
           "#FF6692",
           "#B6E880",
           "#FF97FF",
           "#FECB52"
          ],
          "font": {
           "color": "#2a3f5f"
          },
          "geo": {
           "bgcolor": "white",
           "lakecolor": "white",
           "landcolor": "#E5ECF6",
           "showlakes": true,
           "showland": true,
           "subunitcolor": "white"
          },
          "hoverlabel": {
           "align": "left"
          },
          "hovermode": "closest",
          "mapbox": {
           "style": "light"
          },
          "paper_bgcolor": "white",
          "plot_bgcolor": "#E5ECF6",
          "polar": {
           "angularaxis": {
            "gridcolor": "white",
            "linecolor": "white",
            "ticks": ""
           },
           "bgcolor": "#E5ECF6",
           "radialaxis": {
            "gridcolor": "white",
            "linecolor": "white",
            "ticks": ""
           }
          },
          "scene": {
           "xaxis": {
            "backgroundcolor": "#E5ECF6",
            "gridcolor": "white",
            "gridwidth": 2,
            "linecolor": "white",
            "showbackground": true,
            "ticks": "",
            "zerolinecolor": "white"
           },
           "yaxis": {
            "backgroundcolor": "#E5ECF6",
            "gridcolor": "white",
            "gridwidth": 2,
            "linecolor": "white",
            "showbackground": true,
            "ticks": "",
            "zerolinecolor": "white"
           },
           "zaxis": {
            "backgroundcolor": "#E5ECF6",
            "gridcolor": "white",
            "gridwidth": 2,
            "linecolor": "white",
            "showbackground": true,
            "ticks": "",
            "zerolinecolor": "white"
           }
          },
          "shapedefaults": {
           "line": {
            "color": "#2a3f5f"
           }
          },
          "ternary": {
           "aaxis": {
            "gridcolor": "white",
            "linecolor": "white",
            "ticks": ""
           },
           "baxis": {
            "gridcolor": "white",
            "linecolor": "white",
            "ticks": ""
           },
           "bgcolor": "#E5ECF6",
           "caxis": {
            "gridcolor": "white",
            "linecolor": "white",
            "ticks": ""
           }
          },
          "title": {
           "x": 0.05
          },
          "xaxis": {
           "automargin": true,
           "gridcolor": "white",
           "linecolor": "white",
           "ticks": "",
           "title": {
            "standoff": 15
           },
           "zerolinecolor": "white",
           "zerolinewidth": 2
          },
          "yaxis": {
           "automargin": true,
           "gridcolor": "white",
           "linecolor": "white",
           "ticks": "",
           "title": {
            "standoff": 15
           },
           "zerolinecolor": "white",
           "zerolinewidth": 2
          }
         }
        },
        "title": {
         "text": "Average Score from Guests in Different Countries"
        },
        "width": 1100
       }
      }
     },
     "metadata": {},
     "output_type": "display_data"
    }
   ],
   "source": [
    "import plotly\n",
    "import plotly.express as px\n",
    "choropleth_data = hotels.groupby('country_code')['reviewer_score'].mean()\n",
    "fig = px.choropleth(\n",
    "    data_frame=choropleth_data,\n",
    "    locations=choropleth_data.index,\n",
    "    locationmode = 'ISO-3',\n",
    "    color='reviewer_score',\n",
    "    range_color=[7, 9], \n",
    "    title='Average Score from Guests in Different Countries', \n",
    "    width=1100, \n",
    "    height=700, \n",
    "    color_continuous_scale=[[0, 'rgb(255,0,0)'], [1, 'rgb(0,255,0)']]\n",
    ")\n",
    "\n",
    "fig.show()"
   ]
  },
  {
   "cell_type": "code",
   "execution_count": 510,
   "metadata": {},
   "outputs": [
    {
     "data": {
      "text/html": [
       "<div>\n",
       "<style scoped>\n",
       "    .dataframe tbody tr th:only-of-type {\n",
       "        vertical-align: middle;\n",
       "    }\n",
       "\n",
       "    .dataframe tbody tr th {\n",
       "        vertical-align: top;\n",
       "    }\n",
       "\n",
       "    .dataframe thead th {\n",
       "        text-align: right;\n",
       "    }\n",
       "</style>\n",
       "<table border=\"1\" class=\"dataframe\">\n",
       "  <thead>\n",
       "    <tr style=\"text-align: right;\">\n",
       "      <th></th>\n",
       "      <th>hotel_address</th>\n",
       "      <th>additional_number_of_scoring</th>\n",
       "      <th>review_date</th>\n",
       "      <th>average_score</th>\n",
       "      <th>hotel_name</th>\n",
       "      <th>reviewer_nationality</th>\n",
       "      <th>negative_review</th>\n",
       "      <th>review_total_negative_word_counts</th>\n",
       "      <th>total_number_of_reviews</th>\n",
       "      <th>positive_review</th>\n",
       "      <th>review_total_positive_word_counts</th>\n",
       "      <th>total_number_of_reviews_reviewer_has_given</th>\n",
       "      <th>reviewer_score</th>\n",
       "      <th>tags</th>\n",
       "      <th>days_since_review</th>\n",
       "      <th>lat</th>\n",
       "      <th>lng</th>\n",
       "      <th>country_code</th>\n",
       "    </tr>\n",
       "  </thead>\n",
       "  <tbody>\n",
       "    <tr>\n",
       "      <th>16097</th>\n",
       "      <td>108 Baker Street Westminster Borough London W1...</td>\n",
       "      <td>341</td>\n",
       "      <td>2016-01-14</td>\n",
       "      <td>8.2</td>\n",
       "      <td>Park Plaza Sherlock Holmes London</td>\n",
       "      <td>Antarctica</td>\n",
       "      <td>Some of bathroom fittings were a bit loose bu...</td>\n",
       "      <td>15</td>\n",
       "      <td>1496</td>\n",
       "      <td>The location was very convenient Baker St Sta...</td>\n",
       "      <td>30</td>\n",
       "      <td>15</td>\n",
       "      <td>7.9</td>\n",
       "      <td>[' Business trip ', ' Solo traveler ', ' Execu...</td>\n",
       "      <td>567 day</td>\n",
       "      <td>51.520919</td>\n",
       "      <td>-0.156657</td>\n",
       "      <td>ATA</td>\n",
       "    </tr>\n",
       "    <tr>\n",
       "      <th>16111</th>\n",
       "      <td>Mommsengasse 5 04 Wieden 1040 Vienna Austria</td>\n",
       "      <td>68</td>\n",
       "      <td>2016-09-06</td>\n",
       "      <td>8.6</td>\n",
       "      <td>Pakat Suites Hotel</td>\n",
       "      <td>Antarctica</td>\n",
       "      <td>No Negative</td>\n",
       "      <td>0</td>\n",
       "      <td>664</td>\n",
       "      <td>It s not right in the middle of the city but ...</td>\n",
       "      <td>48</td>\n",
       "      <td>15</td>\n",
       "      <td>8.8</td>\n",
       "      <td>[' Leisure trip ', ' Couple ', ' Attach Suite ...</td>\n",
       "      <td>331 day</td>\n",
       "      <td>48.191830</td>\n",
       "      <td>16.377088</td>\n",
       "      <td>ATA</td>\n",
       "    </tr>\n",
       "    <tr>\n",
       "      <th>80270</th>\n",
       "      <td>Wiedner G rtel 14 04 Wieden 1040 Vienna Austria</td>\n",
       "      <td>226</td>\n",
       "      <td>2016-09-27</td>\n",
       "      <td>8.3</td>\n",
       "      <td>Hotel Prinz Eugen</td>\n",
       "      <td>Antarctica</td>\n",
       "      <td>No Negative</td>\n",
       "      <td>0</td>\n",
       "      <td>3308</td>\n",
       "      <td>Repeat visitor Excellent location close to th...</td>\n",
       "      <td>14</td>\n",
       "      <td>44</td>\n",
       "      <td>9.6</td>\n",
       "      <td>[' Leisure trip ', ' Solo traveler ', ' Standa...</td>\n",
       "      <td>310 day</td>\n",
       "      <td>48.187726</td>\n",
       "      <td>16.378145</td>\n",
       "      <td>ATA</td>\n",
       "    </tr>\n",
       "  </tbody>\n",
       "</table>\n",
       "</div>"
      ],
      "text/plain": [
       "                                           hotel_address  \\\n",
       "16097  108 Baker Street Westminster Borough London W1...   \n",
       "16111       Mommsengasse 5 04 Wieden 1040 Vienna Austria   \n",
       "80270    Wiedner G rtel 14 04 Wieden 1040 Vienna Austria   \n",
       "\n",
       "       additional_number_of_scoring review_date  average_score  \\\n",
       "16097                           341  2016-01-14            8.2   \n",
       "16111                            68  2016-09-06            8.6   \n",
       "80270                           226  2016-09-27            8.3   \n",
       "\n",
       "                              hotel_name reviewer_nationality  \\\n",
       "16097  Park Plaza Sherlock Holmes London          Antarctica    \n",
       "16111                 Pakat Suites Hotel          Antarctica    \n",
       "80270                  Hotel Prinz Eugen          Antarctica    \n",
       "\n",
       "                                         negative_review  \\\n",
       "16097   Some of bathroom fittings were a bit loose bu...   \n",
       "16111                                        No Negative   \n",
       "80270                                        No Negative   \n",
       "\n",
       "       review_total_negative_word_counts  total_number_of_reviews  \\\n",
       "16097                                 15                     1496   \n",
       "16111                                  0                      664   \n",
       "80270                                  0                     3308   \n",
       "\n",
       "                                         positive_review  \\\n",
       "16097   The location was very convenient Baker St Sta...   \n",
       "16111   It s not right in the middle of the city but ...   \n",
       "80270   Repeat visitor Excellent location close to th...   \n",
       "\n",
       "       review_total_positive_word_counts  \\\n",
       "16097                                 30   \n",
       "16111                                 48   \n",
       "80270                                 14   \n",
       "\n",
       "       total_number_of_reviews_reviewer_has_given  reviewer_score  \\\n",
       "16097                                          15             7.9   \n",
       "16111                                          15             8.8   \n",
       "80270                                          44             9.6   \n",
       "\n",
       "                                                    tags days_since_review  \\\n",
       "16097  [' Business trip ', ' Solo traveler ', ' Execu...           567 day   \n",
       "16111  [' Leisure trip ', ' Couple ', ' Attach Suite ...           331 day   \n",
       "80270  [' Leisure trip ', ' Solo traveler ', ' Standa...           310 day   \n",
       "\n",
       "             lat        lng country_code  \n",
       "16097  51.520919  -0.156657          ATA  \n",
       "16111  48.191830  16.377088          ATA  \n",
       "80270  48.187726  16.378145          ATA  "
      ]
     },
     "execution_count": 510,
     "metadata": {},
     "output_type": "execute_result"
    }
   ],
   "source": [
    "antarctica = hotels[hotels['country_code']=='ATA']\n",
    "antarctica"
   ]
  },
  {
   "attachments": {},
   "cell_type": "markdown",
   "metadata": {},
   "source": [
    "#Antarctica"
   ]
  },
  {
   "cell_type": "code",
   "execution_count": 511,
   "metadata": {},
   "outputs": [
    {
     "data": {
      "text/plain": [
       "reviewer_nationality\n",
       " Saint Barthélemy                     10.0\n",
       " Crimea                               10.0\n",
       " Comoros                              10.0\n",
       " Equatorial Guinea                    10.0\n",
       " Svalbard and Jan Mayen               10.0\n",
       " Saint Vincent and the Grenadines     10.0\n",
       " Congo                                 9.6\n",
       " South Sudan                           9.2\n",
       " Burundi                               8.8\n",
       " Bonaire, Sint Eustatius and Saba      8.8\n",
       "Name: reviewer_score, dtype: float64"
      ]
     },
     "execution_count": 511,
     "metadata": {},
     "output_type": "execute_result"
    }
   ],
   "source": [
    "nation = hotels.groupby('reviewer_nationality')['reviewer_score'].min().sort_values(ascending=False)\n",
    "nation.head(10)"
   ]
  },
  {
   "cell_type": "code",
   "execution_count": 512,
   "metadata": {},
   "outputs": [
    {
     "data": {
      "text/html": [
       "<div>\n",
       "<style scoped>\n",
       "    .dataframe tbody tr th:only-of-type {\n",
       "        vertical-align: middle;\n",
       "    }\n",
       "\n",
       "    .dataframe tbody tr th {\n",
       "        vertical-align: top;\n",
       "    }\n",
       "\n",
       "    .dataframe thead th {\n",
       "        text-align: right;\n",
       "    }\n",
       "</style>\n",
       "<table border=\"1\" class=\"dataframe\">\n",
       "  <thead>\n",
       "    <tr style=\"text-align: right;\">\n",
       "      <th></th>\n",
       "      <th>hotel_address</th>\n",
       "      <th>additional_number_of_scoring</th>\n",
       "      <th>review_date</th>\n",
       "      <th>average_score</th>\n",
       "      <th>hotel_name</th>\n",
       "      <th>reviewer_nationality</th>\n",
       "      <th>negative_review</th>\n",
       "      <th>review_total_negative_word_counts</th>\n",
       "      <th>total_number_of_reviews</th>\n",
       "      <th>positive_review</th>\n",
       "      <th>review_total_positive_word_counts</th>\n",
       "      <th>total_number_of_reviews_reviewer_has_given</th>\n",
       "      <th>reviewer_score</th>\n",
       "      <th>tags</th>\n",
       "      <th>days_since_review</th>\n",
       "      <th>lat</th>\n",
       "      <th>lng</th>\n",
       "      <th>country_code</th>\n",
       "    </tr>\n",
       "  </thead>\n",
       "  <tbody>\n",
       "    <tr>\n",
       "      <th>35580</th>\n",
       "      <td>1 Shortlands Hammersmith and Fulham London W6 ...</td>\n",
       "      <td>704</td>\n",
       "      <td>2017-08-02</td>\n",
       "      <td>8.3</td>\n",
       "      <td>Novotel London West</td>\n",
       "      <td>Comoros</td>\n",
       "      <td>No Negative</td>\n",
       "      <td>0</td>\n",
       "      <td>2443</td>\n",
       "      <td>near the tube good breakfast</td>\n",
       "      <td>6</td>\n",
       "      <td>2</td>\n",
       "      <td>10.0</td>\n",
       "      <td>[' Leisure trip ', ' Couple ', ' Superior Room...</td>\n",
       "      <td>1 days</td>\n",
       "      <td>51.491959</td>\n",
       "      <td>-0.220096</td>\n",
       "      <td>COM</td>\n",
       "    </tr>\n",
       "    <tr>\n",
       "      <th>54591</th>\n",
       "      <td>29 rue Victor Mass 9th arr 75009 Paris France</td>\n",
       "      <td>74</td>\n",
       "      <td>2017-05-23</td>\n",
       "      <td>9.1</td>\n",
       "      <td>Grand Pigalle Hotel</td>\n",
       "      <td>Crimea</td>\n",
       "      <td>No Negative</td>\n",
       "      <td>0</td>\n",
       "      <td>399</td>\n",
       "      <td>The hotel the staff and location are fantasti...</td>\n",
       "      <td>29</td>\n",
       "      <td>49</td>\n",
       "      <td>10.0</td>\n",
       "      <td>[' Leisure trip ', ' Solo traveler ', ' Standa...</td>\n",
       "      <td>72 days</td>\n",
       "      <td>48.880856</td>\n",
       "      <td>2.337509</td>\n",
       "      <td>NaN</td>\n",
       "    </tr>\n",
       "    <tr>\n",
       "      <th>66425</th>\n",
       "      <td>Oosterdoksstraat 4 Amsterdam City Center 1011 ...</td>\n",
       "      <td>803</td>\n",
       "      <td>2017-05-23</td>\n",
       "      <td>8.4</td>\n",
       "      <td>DoubleTree by Hilton Amsterdam Centraal Station</td>\n",
       "      <td>Crimea</td>\n",
       "      <td>No Negative</td>\n",
       "      <td>0</td>\n",
       "      <td>3911</td>\n",
       "      <td>The hotel the staff and location are fantasti...</td>\n",
       "      <td>29</td>\n",
       "      <td>49</td>\n",
       "      <td>10.0</td>\n",
       "      <td>[' Leisure trip ', ' Solo traveler ', ' Queen ...</td>\n",
       "      <td>72 days</td>\n",
       "      <td>52.376752</td>\n",
       "      <td>4.904618</td>\n",
       "      <td>NaN</td>\n",
       "    </tr>\n",
       "    <tr>\n",
       "      <th>143666</th>\n",
       "      <td>Spuistraat 175 Amsterdam City Center 1012 VN A...</td>\n",
       "      <td>152</td>\n",
       "      <td>2017-05-23</td>\n",
       "      <td>8.4</td>\n",
       "      <td>W Amsterdam</td>\n",
       "      <td>Crimea</td>\n",
       "      <td>No Negative</td>\n",
       "      <td>0</td>\n",
       "      <td>802</td>\n",
       "      <td>The hotel the staff and location are fantasti...</td>\n",
       "      <td>29</td>\n",
       "      <td>49</td>\n",
       "      <td>10.0</td>\n",
       "      <td>[' Leisure trip ', ' Solo traveler ', ' Cozy E...</td>\n",
       "      <td>72 days</td>\n",
       "      <td>52.372787</td>\n",
       "      <td>4.890006</td>\n",
       "      <td>NaN</td>\n",
       "    </tr>\n",
       "    <tr>\n",
       "      <th>364930</th>\n",
       "      <td>Damrak 1 5 Amsterdam City Center 1012 LG Amste...</td>\n",
       "      <td>973</td>\n",
       "      <td>2017-05-23</td>\n",
       "      <td>8.0</td>\n",
       "      <td>Park Plaza Victoria Amsterdam</td>\n",
       "      <td>Crimea</td>\n",
       "      <td>No Negative</td>\n",
       "      <td>0</td>\n",
       "      <td>4820</td>\n",
       "      <td>The hotel the staff and location are fantasti...</td>\n",
       "      <td>29</td>\n",
       "      <td>49</td>\n",
       "      <td>10.0</td>\n",
       "      <td>[' Leisure trip ', ' Solo traveler ', ' Double...</td>\n",
       "      <td>72 days</td>\n",
       "      <td>52.377278</td>\n",
       "      <td>4.897818</td>\n",
       "      <td>NaN</td>\n",
       "    </tr>\n",
       "    <tr>\n",
       "      <th>75193</th>\n",
       "      <td>Pasteurgasse 1 09 Alsergrund 1090 Vienna Austria</td>\n",
       "      <td>84</td>\n",
       "      <td>2015-11-24</td>\n",
       "      <td>8.7</td>\n",
       "      <td>Hotel Palais Strudlhof</td>\n",
       "      <td>Equatorial Guinea</td>\n",
       "      <td>No Negative</td>\n",
       "      <td>0</td>\n",
       "      <td>1356</td>\n",
       "      <td>There is everywhere ample space in the room a...</td>\n",
       "      <td>33</td>\n",
       "      <td>9</td>\n",
       "      <td>10.0</td>\n",
       "      <td>[' Leisure trip ', ' Couple ', ' Suite ', ' St...</td>\n",
       "      <td>618 day</td>\n",
       "      <td>48.221770</td>\n",
       "      <td>16.357874</td>\n",
       "      <td>GNQ</td>\n",
       "    </tr>\n",
       "    <tr>\n",
       "      <th>76432</th>\n",
       "      <td>1 Rue De Libourne 12th arr 75012 Paris France</td>\n",
       "      <td>150</td>\n",
       "      <td>2015-09-01</td>\n",
       "      <td>8.7</td>\n",
       "      <td>Pullman Paris Centre Bercy</td>\n",
       "      <td>Equatorial Guinea</td>\n",
       "      <td>No Negative</td>\n",
       "      <td>0</td>\n",
       "      <td>1382</td>\n",
       "      <td>comfortable room friendly staff easy access i...</td>\n",
       "      <td>12</td>\n",
       "      <td>1</td>\n",
       "      <td>10.0</td>\n",
       "      <td>[' Leisure trip ', ' Couple ', ' Classique Dou...</td>\n",
       "      <td>702 day</td>\n",
       "      <td>48.831520</td>\n",
       "      <td>2.387080</td>\n",
       "      <td>GNQ</td>\n",
       "    </tr>\n",
       "    <tr>\n",
       "      <th>255209</th>\n",
       "      <td>5 rue des Capucines 1st arr 75001 Paris France</td>\n",
       "      <td>73</td>\n",
       "      <td>2015-09-13</td>\n",
       "      <td>8.6</td>\n",
       "      <td>H tel Mansart Esprit de France</td>\n",
       "      <td>Saint Barthélemy</td>\n",
       "      <td>wifi could be stronger but regardless the loc...</td>\n",
       "      <td>30</td>\n",
       "      <td>611</td>\n",
       "      <td>Everything about the place was wonderful Nice...</td>\n",
       "      <td>41</td>\n",
       "      <td>17</td>\n",
       "      <td>10.0</td>\n",
       "      <td>[' With a pet ', ' Leisure trip ', ' Solo trav...</td>\n",
       "      <td>690 day</td>\n",
       "      <td>48.868478</td>\n",
       "      <td>2.329824</td>\n",
       "      <td>BLM</td>\n",
       "    </tr>\n",
       "    <tr>\n",
       "      <th>127896</th>\n",
       "      <td>Damrak 1 5 Amsterdam City Center 1012 LG Amste...</td>\n",
       "      <td>973</td>\n",
       "      <td>2016-06-13</td>\n",
       "      <td>8.0</td>\n",
       "      <td>Park Plaza Victoria Amsterdam</td>\n",
       "      <td>Saint Vincent and the Grenadines</td>\n",
       "      <td>No comments here</td>\n",
       "      <td>5</td>\n",
       "      <td>4820</td>\n",
       "      <td>Our stay at Victoria was superb the menu for ...</td>\n",
       "      <td>54</td>\n",
       "      <td>1</td>\n",
       "      <td>10.0</td>\n",
       "      <td>[' Leisure trip ', ' Couple ', ' Double Room '...</td>\n",
       "      <td>416 day</td>\n",
       "      <td>52.377278</td>\n",
       "      <td>4.897818</td>\n",
       "      <td>VCT</td>\n",
       "    </tr>\n",
       "    <tr>\n",
       "      <th>240843</th>\n",
       "      <td>4 Boulevard Brune 14th arr 75014 Paris France</td>\n",
       "      <td>91</td>\n",
       "      <td>2016-09-15</td>\n",
       "      <td>8.8</td>\n",
       "      <td>Novotel Suites Paris Expo Porte de Versailles</td>\n",
       "      <td>Svalbard and Jan Mayen</td>\n",
       "      <td>Nothing</td>\n",
       "      <td>2</td>\n",
       "      <td>1250</td>\n",
       "      <td>Location cleanness</td>\n",
       "      <td>3</td>\n",
       "      <td>16</td>\n",
       "      <td>10.0</td>\n",
       "      <td>[' Leisure trip ', ' Family with young childre...</td>\n",
       "      <td>322 day</td>\n",
       "      <td>48.827388</td>\n",
       "      <td>2.305478</td>\n",
       "      <td>SJM</td>\n",
       "    </tr>\n",
       "  </tbody>\n",
       "</table>\n",
       "</div>"
      ],
      "text/plain": [
       "                                            hotel_address  \\\n",
       "35580   1 Shortlands Hammersmith and Fulham London W6 ...   \n",
       "54591       29 rue Victor Mass 9th arr 75009 Paris France   \n",
       "66425   Oosterdoksstraat 4 Amsterdam City Center 1011 ...   \n",
       "143666  Spuistraat 175 Amsterdam City Center 1012 VN A...   \n",
       "364930  Damrak 1 5 Amsterdam City Center 1012 LG Amste...   \n",
       "75193    Pasteurgasse 1 09 Alsergrund 1090 Vienna Austria   \n",
       "76432       1 Rue De Libourne 12th arr 75012 Paris France   \n",
       "255209     5 rue des Capucines 1st arr 75001 Paris France   \n",
       "127896  Damrak 1 5 Amsterdam City Center 1012 LG Amste...   \n",
       "240843      4 Boulevard Brune 14th arr 75014 Paris France   \n",
       "\n",
       "        additional_number_of_scoring review_date  average_score  \\\n",
       "35580                            704  2017-08-02            8.3   \n",
       "54591                             74  2017-05-23            9.1   \n",
       "66425                            803  2017-05-23            8.4   \n",
       "143666                           152  2017-05-23            8.4   \n",
       "364930                           973  2017-05-23            8.0   \n",
       "75193                             84  2015-11-24            8.7   \n",
       "76432                            150  2015-09-01            8.7   \n",
       "255209                            73  2015-09-13            8.6   \n",
       "127896                           973  2016-06-13            8.0   \n",
       "240843                            91  2016-09-15            8.8   \n",
       "\n",
       "                                             hotel_name  \\\n",
       "35580                               Novotel London West   \n",
       "54591                               Grand Pigalle Hotel   \n",
       "66425   DoubleTree by Hilton Amsterdam Centraal Station   \n",
       "143666                                      W Amsterdam   \n",
       "364930                    Park Plaza Victoria Amsterdam   \n",
       "75193                            Hotel Palais Strudlhof   \n",
       "76432                        Pullman Paris Centre Bercy   \n",
       "255209                   H tel Mansart Esprit de France   \n",
       "127896                    Park Plaza Victoria Amsterdam   \n",
       "240843    Novotel Suites Paris Expo Porte de Versailles   \n",
       "\n",
       "                      reviewer_nationality  \\\n",
       "35580                             Comoros    \n",
       "54591                              Crimea    \n",
       "66425                              Crimea    \n",
       "143666                             Crimea    \n",
       "364930                             Crimea    \n",
       "75193                   Equatorial Guinea    \n",
       "76432                   Equatorial Guinea    \n",
       "255209                   Saint Barthélemy    \n",
       "127896   Saint Vincent and the Grenadines    \n",
       "240843             Svalbard and Jan Mayen    \n",
       "\n",
       "                                          negative_review  \\\n",
       "35580                                         No Negative   \n",
       "54591                                         No Negative   \n",
       "66425                                         No Negative   \n",
       "143666                                        No Negative   \n",
       "364930                                        No Negative   \n",
       "75193                                         No Negative   \n",
       "76432                                         No Negative   \n",
       "255209   wifi could be stronger but regardless the loc...   \n",
       "127896                                  No comments here    \n",
       "240843                                            Nothing   \n",
       "\n",
       "        review_total_negative_word_counts  total_number_of_reviews  \\\n",
       "35580                                   0                     2443   \n",
       "54591                                   0                      399   \n",
       "66425                                   0                     3911   \n",
       "143666                                  0                      802   \n",
       "364930                                  0                     4820   \n",
       "75193                                   0                     1356   \n",
       "76432                                   0                     1382   \n",
       "255209                                 30                      611   \n",
       "127896                                  5                     4820   \n",
       "240843                                  2                     1250   \n",
       "\n",
       "                                          positive_review  \\\n",
       "35580                        near the tube good breakfast   \n",
       "54591    The hotel the staff and location are fantasti...   \n",
       "66425    The hotel the staff and location are fantasti...   \n",
       "143666   The hotel the staff and location are fantasti...   \n",
       "364930   The hotel the staff and location are fantasti...   \n",
       "75193    There is everywhere ample space in the room a...   \n",
       "76432    comfortable room friendly staff easy access i...   \n",
       "255209   Everything about the place was wonderful Nice...   \n",
       "127896   Our stay at Victoria was superb the menu for ...   \n",
       "240843                                 Location cleanness   \n",
       "\n",
       "        review_total_positive_word_counts  \\\n",
       "35580                                   6   \n",
       "54591                                  29   \n",
       "66425                                  29   \n",
       "143666                                 29   \n",
       "364930                                 29   \n",
       "75193                                  33   \n",
       "76432                                  12   \n",
       "255209                                 41   \n",
       "127896                                 54   \n",
       "240843                                  3   \n",
       "\n",
       "        total_number_of_reviews_reviewer_has_given  reviewer_score  \\\n",
       "35580                                            2            10.0   \n",
       "54591                                           49            10.0   \n",
       "66425                                           49            10.0   \n",
       "143666                                          49            10.0   \n",
       "364930                                          49            10.0   \n",
       "75193                                            9            10.0   \n",
       "76432                                            1            10.0   \n",
       "255209                                          17            10.0   \n",
       "127896                                           1            10.0   \n",
       "240843                                          16            10.0   \n",
       "\n",
       "                                                     tags days_since_review  \\\n",
       "35580   [' Leisure trip ', ' Couple ', ' Superior Room...            1 days   \n",
       "54591   [' Leisure trip ', ' Solo traveler ', ' Standa...           72 days   \n",
       "66425   [' Leisure trip ', ' Solo traveler ', ' Queen ...           72 days   \n",
       "143666  [' Leisure trip ', ' Solo traveler ', ' Cozy E...           72 days   \n",
       "364930  [' Leisure trip ', ' Solo traveler ', ' Double...           72 days   \n",
       "75193   [' Leisure trip ', ' Couple ', ' Suite ', ' St...           618 day   \n",
       "76432   [' Leisure trip ', ' Couple ', ' Classique Dou...           702 day   \n",
       "255209  [' With a pet ', ' Leisure trip ', ' Solo trav...           690 day   \n",
       "127896  [' Leisure trip ', ' Couple ', ' Double Room '...           416 day   \n",
       "240843  [' Leisure trip ', ' Family with young childre...           322 day   \n",
       "\n",
       "              lat        lng country_code  \n",
       "35580   51.491959  -0.220096          COM  \n",
       "54591   48.880856   2.337509          NaN  \n",
       "66425   52.376752   4.904618          NaN  \n",
       "143666  52.372787   4.890006          NaN  \n",
       "364930  52.377278   4.897818          NaN  \n",
       "75193   48.221770  16.357874          GNQ  \n",
       "76432   48.831520   2.387080          GNQ  \n",
       "255209  48.868478   2.329824          BLM  \n",
       "127896  52.377278   4.897818          VCT  \n",
       "240843  48.827388   2.305478          SJM  "
      ]
     },
     "execution_count": 512,
     "metadata": {},
     "output_type": "execute_result"
    }
   ],
   "source": [
    "susp1 = hotels[hotels['reviewer_nationality'].str.contains('Comoros|Saint Barthélemy|Equatorial Guinea|\\\n",
    "Saint Vincent and the Grenadines|Crimea|Svalbard and Jan Mayen')==True]\n",
    "susp1.sort_values(by='reviewer_nationality')"
   ]
  },
  {
   "attachments": {},
   "cell_type": "markdown",
   "metadata": {},
   "source": [
    "#Crimea"
   ]
  },
  {
   "cell_type": "code",
   "execution_count": 513,
   "metadata": {},
   "outputs": [
    {
     "data": {
      "text/plain": [
       "386492"
      ]
     },
     "execution_count": 513,
     "metadata": {},
     "output_type": "execute_result"
    }
   ],
   "source": [
    "hotels = hotels[hotels['reviewer_nationality'].str.contains('Crimea')==False]\n",
    "hotels.shape[0]"
   ]
  },
  {
   "cell_type": "code",
   "execution_count": 514,
   "metadata": {},
   "outputs": [],
   "source": [
    "hotels = hotels.drop('reviewer_nationality', axis=1)"
   ]
  },
  {
   "cell_type": "code",
   "execution_count": 515,
   "metadata": {},
   "outputs": [],
   "source": [
    "hotels['hotel_country'] = hotels['hotel_address'].str.split().str[-1]"
   ]
  },
  {
   "cell_type": "code",
   "execution_count": 516,
   "metadata": {},
   "outputs": [
    {
     "data": {
      "text/plain": [
       "Kingdom        196773\n",
       "Spain           45132\n",
       "France          44527\n",
       "Netherlands     43001\n",
       "Austria         29177\n",
       "Italy           27882\n",
       "Name: hotel_country, dtype: int64"
      ]
     },
     "execution_count": 516,
     "metadata": {},
     "output_type": "execute_result"
    }
   ],
   "source": [
    "hotels['hotel_country'].value_counts()"
   ]
  },
  {
   "cell_type": "code",
   "execution_count": 517,
   "metadata": {},
   "outputs": [],
   "source": [
    "hotels['hotel_country'] = hotels['hotel_country'].str.replace(r'Kingdom', '826', regex= True)\n",
    "hotels['hotel_country'] = hotels['hotel_country'].str.replace(r'Spain', '724', regex= True)\n",
    "hotels['hotel_country'] = hotels['hotel_country'].str.replace(r'France', '250', regex= True)\n",
    "hotels['hotel_country'] = hotels['hotel_country'].str.replace(r'Netherlands', '528', regex= True)\n",
    "hotels['hotel_country'] = hotels['hotel_country'].str.replace(r'Austria', '040', regex= True)\n",
    "hotels['hotel_country'] = hotels['hotel_country'].str.replace(r'Italy', '380', regex= True)\n",
    "hotels['hotel_country'] = hotels['hotel_country'].astype(int)"
   ]
  },
  {
   "cell_type": "code",
   "execution_count": 518,
   "metadata": {},
   "outputs": [],
   "source": [
    "hotels['hotel_country_code'] = hotels['hotel_country'].astype(str)\n",
    "hotels['hotel_country_code'] = hotels['hotel_country_code'].str.replace(r'826', 'GBR', regex= True)\n",
    "hotels['hotel_country_code'] = hotels['hotel_country_code'].str.replace(r'724', 'ESP', regex= True)\n",
    "hotels['hotel_country_code'] = hotels['hotel_country_code'].str.replace(r'250', 'FRA', regex= True)\n",
    "hotels['hotel_country_code'] = hotels['hotel_country_code'].str.replace(r'528', 'NLD', regex= True)\n",
    "hotels['hotel_country_code'] = hotels['hotel_country_code'].str.replace(r'40', 'AUT', regex= True)\n",
    "hotels['hotel_country_code'] = hotels['hotel_country_code'].str.replace(r'380', 'ITA', regex= True)"
   ]
  },
  {
   "cell_type": "code",
   "execution_count": 519,
   "metadata": {},
   "outputs": [
    {
     "data": {
      "application/vnd.plotly.v1+json": {
       "config": {
        "plotlyServerURL": "https://plot.ly"
       },
       "data": [
        {
         "coloraxis": "coloraxis",
         "geo": "geo",
         "hovertemplate": "hotel_country_code=%{location}<br>reviewer_score=%{z}<extra></extra>",
         "locationmode": "ISO-3",
         "locations": [
          "AUT",
          "ESP",
          "FRA",
          "GBR",
          "ITA",
          "NLD"
         ],
         "name": "",
         "type": "choropleth",
         "z": [
          8.55259279569524,
          8.553746787201986,
          8.424212275697892,
          8.326877163025415,
          8.355541209382398,
          8.449033743401317
         ]
        }
       ],
       "layout": {
        "coloraxis": {
         "cmax": 8.6,
         "cmin": 8.3,
         "colorbar": {
          "title": {
           "text": "reviewer_score"
          }
         },
         "colorscale": [
          [
           0,
           "rgb(255,0,0)"
          ],
          [
           1,
           "rgb(0,255,0)"
          ]
         ]
        },
        "geo": {
         "center": {},
         "domain": {
          "x": [
           0,
           1
          ],
          "y": [
           0,
           1
          ]
         }
        },
        "height": 700,
        "legend": {
         "tracegroupgap": 0
        },
        "template": {
         "data": {
          "bar": [
           {
            "error_x": {
             "color": "#2a3f5f"
            },
            "error_y": {
             "color": "#2a3f5f"
            },
            "marker": {
             "line": {
              "color": "#E5ECF6",
              "width": 0.5
             },
             "pattern": {
              "fillmode": "overlay",
              "size": 10,
              "solidity": 0.2
             }
            },
            "type": "bar"
           }
          ],
          "barpolar": [
           {
            "marker": {
             "line": {
              "color": "#E5ECF6",
              "width": 0.5
             },
             "pattern": {
              "fillmode": "overlay",
              "size": 10,
              "solidity": 0.2
             }
            },
            "type": "barpolar"
           }
          ],
          "carpet": [
           {
            "aaxis": {
             "endlinecolor": "#2a3f5f",
             "gridcolor": "white",
             "linecolor": "white",
             "minorgridcolor": "white",
             "startlinecolor": "#2a3f5f"
            },
            "baxis": {
             "endlinecolor": "#2a3f5f",
             "gridcolor": "white",
             "linecolor": "white",
             "minorgridcolor": "white",
             "startlinecolor": "#2a3f5f"
            },
            "type": "carpet"
           }
          ],
          "choropleth": [
           {
            "colorbar": {
             "outlinewidth": 0,
             "ticks": ""
            },
            "type": "choropleth"
           }
          ],
          "contour": [
           {
            "colorbar": {
             "outlinewidth": 0,
             "ticks": ""
            },
            "colorscale": [
             [
              0,
              "#0d0887"
             ],
             [
              0.1111111111111111,
              "#46039f"
             ],
             [
              0.2222222222222222,
              "#7201a8"
             ],
             [
              0.3333333333333333,
              "#9c179e"
             ],
             [
              0.4444444444444444,
              "#bd3786"
             ],
             [
              0.5555555555555556,
              "#d8576b"
             ],
             [
              0.6666666666666666,
              "#ed7953"
             ],
             [
              0.7777777777777778,
              "#fb9f3a"
             ],
             [
              0.8888888888888888,
              "#fdca26"
             ],
             [
              1,
              "#f0f921"
             ]
            ],
            "type": "contour"
           }
          ],
          "contourcarpet": [
           {
            "colorbar": {
             "outlinewidth": 0,
             "ticks": ""
            },
            "type": "contourcarpet"
           }
          ],
          "heatmap": [
           {
            "colorbar": {
             "outlinewidth": 0,
             "ticks": ""
            },
            "colorscale": [
             [
              0,
              "#0d0887"
             ],
             [
              0.1111111111111111,
              "#46039f"
             ],
             [
              0.2222222222222222,
              "#7201a8"
             ],
             [
              0.3333333333333333,
              "#9c179e"
             ],
             [
              0.4444444444444444,
              "#bd3786"
             ],
             [
              0.5555555555555556,
              "#d8576b"
             ],
             [
              0.6666666666666666,
              "#ed7953"
             ],
             [
              0.7777777777777778,
              "#fb9f3a"
             ],
             [
              0.8888888888888888,
              "#fdca26"
             ],
             [
              1,
              "#f0f921"
             ]
            ],
            "type": "heatmap"
           }
          ],
          "heatmapgl": [
           {
            "colorbar": {
             "outlinewidth": 0,
             "ticks": ""
            },
            "colorscale": [
             [
              0,
              "#0d0887"
             ],
             [
              0.1111111111111111,
              "#46039f"
             ],
             [
              0.2222222222222222,
              "#7201a8"
             ],
             [
              0.3333333333333333,
              "#9c179e"
             ],
             [
              0.4444444444444444,
              "#bd3786"
             ],
             [
              0.5555555555555556,
              "#d8576b"
             ],
             [
              0.6666666666666666,
              "#ed7953"
             ],
             [
              0.7777777777777778,
              "#fb9f3a"
             ],
             [
              0.8888888888888888,
              "#fdca26"
             ],
             [
              1,
              "#f0f921"
             ]
            ],
            "type": "heatmapgl"
           }
          ],
          "histogram": [
           {
            "marker": {
             "pattern": {
              "fillmode": "overlay",
              "size": 10,
              "solidity": 0.2
             }
            },
            "type": "histogram"
           }
          ],
          "histogram2d": [
           {
            "colorbar": {
             "outlinewidth": 0,
             "ticks": ""
            },
            "colorscale": [
             [
              0,
              "#0d0887"
             ],
             [
              0.1111111111111111,
              "#46039f"
             ],
             [
              0.2222222222222222,
              "#7201a8"
             ],
             [
              0.3333333333333333,
              "#9c179e"
             ],
             [
              0.4444444444444444,
              "#bd3786"
             ],
             [
              0.5555555555555556,
              "#d8576b"
             ],
             [
              0.6666666666666666,
              "#ed7953"
             ],
             [
              0.7777777777777778,
              "#fb9f3a"
             ],
             [
              0.8888888888888888,
              "#fdca26"
             ],
             [
              1,
              "#f0f921"
             ]
            ],
            "type": "histogram2d"
           }
          ],
          "histogram2dcontour": [
           {
            "colorbar": {
             "outlinewidth": 0,
             "ticks": ""
            },
            "colorscale": [
             [
              0,
              "#0d0887"
             ],
             [
              0.1111111111111111,
              "#46039f"
             ],
             [
              0.2222222222222222,
              "#7201a8"
             ],
             [
              0.3333333333333333,
              "#9c179e"
             ],
             [
              0.4444444444444444,
              "#bd3786"
             ],
             [
              0.5555555555555556,
              "#d8576b"
             ],
             [
              0.6666666666666666,
              "#ed7953"
             ],
             [
              0.7777777777777778,
              "#fb9f3a"
             ],
             [
              0.8888888888888888,
              "#fdca26"
             ],
             [
              1,
              "#f0f921"
             ]
            ],
            "type": "histogram2dcontour"
           }
          ],
          "mesh3d": [
           {
            "colorbar": {
             "outlinewidth": 0,
             "ticks": ""
            },
            "type": "mesh3d"
           }
          ],
          "parcoords": [
           {
            "line": {
             "colorbar": {
              "outlinewidth": 0,
              "ticks": ""
             }
            },
            "type": "parcoords"
           }
          ],
          "pie": [
           {
            "automargin": true,
            "type": "pie"
           }
          ],
          "scatter": [
           {
            "fillpattern": {
             "fillmode": "overlay",
             "size": 10,
             "solidity": 0.2
            },
            "type": "scatter"
           }
          ],
          "scatter3d": [
           {
            "line": {
             "colorbar": {
              "outlinewidth": 0,
              "ticks": ""
             }
            },
            "marker": {
             "colorbar": {
              "outlinewidth": 0,
              "ticks": ""
             }
            },
            "type": "scatter3d"
           }
          ],
          "scattercarpet": [
           {
            "marker": {
             "colorbar": {
              "outlinewidth": 0,
              "ticks": ""
             }
            },
            "type": "scattercarpet"
           }
          ],
          "scattergeo": [
           {
            "marker": {
             "colorbar": {
              "outlinewidth": 0,
              "ticks": ""
             }
            },
            "type": "scattergeo"
           }
          ],
          "scattergl": [
           {
            "marker": {
             "colorbar": {
              "outlinewidth": 0,
              "ticks": ""
             }
            },
            "type": "scattergl"
           }
          ],
          "scattermapbox": [
           {
            "marker": {
             "colorbar": {
              "outlinewidth": 0,
              "ticks": ""
             }
            },
            "type": "scattermapbox"
           }
          ],
          "scatterpolar": [
           {
            "marker": {
             "colorbar": {
              "outlinewidth": 0,
              "ticks": ""
             }
            },
            "type": "scatterpolar"
           }
          ],
          "scatterpolargl": [
           {
            "marker": {
             "colorbar": {
              "outlinewidth": 0,
              "ticks": ""
             }
            },
            "type": "scatterpolargl"
           }
          ],
          "scatterternary": [
           {
            "marker": {
             "colorbar": {
              "outlinewidth": 0,
              "ticks": ""
             }
            },
            "type": "scatterternary"
           }
          ],
          "surface": [
           {
            "colorbar": {
             "outlinewidth": 0,
             "ticks": ""
            },
            "colorscale": [
             [
              0,
              "#0d0887"
             ],
             [
              0.1111111111111111,
              "#46039f"
             ],
             [
              0.2222222222222222,
              "#7201a8"
             ],
             [
              0.3333333333333333,
              "#9c179e"
             ],
             [
              0.4444444444444444,
              "#bd3786"
             ],
             [
              0.5555555555555556,
              "#d8576b"
             ],
             [
              0.6666666666666666,
              "#ed7953"
             ],
             [
              0.7777777777777778,
              "#fb9f3a"
             ],
             [
              0.8888888888888888,
              "#fdca26"
             ],
             [
              1,
              "#f0f921"
             ]
            ],
            "type": "surface"
           }
          ],
          "table": [
           {
            "cells": {
             "fill": {
              "color": "#EBF0F8"
             },
             "line": {
              "color": "white"
             }
            },
            "header": {
             "fill": {
              "color": "#C8D4E3"
             },
             "line": {
              "color": "white"
             }
            },
            "type": "table"
           }
          ]
         },
         "layout": {
          "annotationdefaults": {
           "arrowcolor": "#2a3f5f",
           "arrowhead": 0,
           "arrowwidth": 1
          },
          "autotypenumbers": "strict",
          "coloraxis": {
           "colorbar": {
            "outlinewidth": 0,
            "ticks": ""
           }
          },
          "colorscale": {
           "diverging": [
            [
             0,
             "#8e0152"
            ],
            [
             0.1,
             "#c51b7d"
            ],
            [
             0.2,
             "#de77ae"
            ],
            [
             0.3,
             "#f1b6da"
            ],
            [
             0.4,
             "#fde0ef"
            ],
            [
             0.5,
             "#f7f7f7"
            ],
            [
             0.6,
             "#e6f5d0"
            ],
            [
             0.7,
             "#b8e186"
            ],
            [
             0.8,
             "#7fbc41"
            ],
            [
             0.9,
             "#4d9221"
            ],
            [
             1,
             "#276419"
            ]
           ],
           "sequential": [
            [
             0,
             "#0d0887"
            ],
            [
             0.1111111111111111,
             "#46039f"
            ],
            [
             0.2222222222222222,
             "#7201a8"
            ],
            [
             0.3333333333333333,
             "#9c179e"
            ],
            [
             0.4444444444444444,
             "#bd3786"
            ],
            [
             0.5555555555555556,
             "#d8576b"
            ],
            [
             0.6666666666666666,
             "#ed7953"
            ],
            [
             0.7777777777777778,
             "#fb9f3a"
            ],
            [
             0.8888888888888888,
             "#fdca26"
            ],
            [
             1,
             "#f0f921"
            ]
           ],
           "sequentialminus": [
            [
             0,
             "#0d0887"
            ],
            [
             0.1111111111111111,
             "#46039f"
            ],
            [
             0.2222222222222222,
             "#7201a8"
            ],
            [
             0.3333333333333333,
             "#9c179e"
            ],
            [
             0.4444444444444444,
             "#bd3786"
            ],
            [
             0.5555555555555556,
             "#d8576b"
            ],
            [
             0.6666666666666666,
             "#ed7953"
            ],
            [
             0.7777777777777778,
             "#fb9f3a"
            ],
            [
             0.8888888888888888,
             "#fdca26"
            ],
            [
             1,
             "#f0f921"
            ]
           ]
          },
          "colorway": [
           "#636efa",
           "#EF553B",
           "#00cc96",
           "#ab63fa",
           "#FFA15A",
           "#19d3f3",
           "#FF6692",
           "#B6E880",
           "#FF97FF",
           "#FECB52"
          ],
          "font": {
           "color": "#2a3f5f"
          },
          "geo": {
           "bgcolor": "white",
           "lakecolor": "white",
           "landcolor": "#E5ECF6",
           "showlakes": true,
           "showland": true,
           "subunitcolor": "white"
          },
          "hoverlabel": {
           "align": "left"
          },
          "hovermode": "closest",
          "mapbox": {
           "style": "light"
          },
          "paper_bgcolor": "white",
          "plot_bgcolor": "#E5ECF6",
          "polar": {
           "angularaxis": {
            "gridcolor": "white",
            "linecolor": "white",
            "ticks": ""
           },
           "bgcolor": "#E5ECF6",
           "radialaxis": {
            "gridcolor": "white",
            "linecolor": "white",
            "ticks": ""
           }
          },
          "scene": {
           "xaxis": {
            "backgroundcolor": "#E5ECF6",
            "gridcolor": "white",
            "gridwidth": 2,
            "linecolor": "white",
            "showbackground": true,
            "ticks": "",
            "zerolinecolor": "white"
           },
           "yaxis": {
            "backgroundcolor": "#E5ECF6",
            "gridcolor": "white",
            "gridwidth": 2,
            "linecolor": "white",
            "showbackground": true,
            "ticks": "",
            "zerolinecolor": "white"
           },
           "zaxis": {
            "backgroundcolor": "#E5ECF6",
            "gridcolor": "white",
            "gridwidth": 2,
            "linecolor": "white",
            "showbackground": true,
            "ticks": "",
            "zerolinecolor": "white"
           }
          },
          "shapedefaults": {
           "line": {
            "color": "#2a3f5f"
           }
          },
          "ternary": {
           "aaxis": {
            "gridcolor": "white",
            "linecolor": "white",
            "ticks": ""
           },
           "baxis": {
            "gridcolor": "white",
            "linecolor": "white",
            "ticks": ""
           },
           "bgcolor": "#E5ECF6",
           "caxis": {
            "gridcolor": "white",
            "linecolor": "white",
            "ticks": ""
           }
          },
          "title": {
           "x": 0.05
          },
          "xaxis": {
           "automargin": true,
           "gridcolor": "white",
           "linecolor": "white",
           "ticks": "",
           "title": {
            "standoff": 15
           },
           "zerolinecolor": "white",
           "zerolinewidth": 2
          },
          "yaxis": {
           "automargin": true,
           "gridcolor": "white",
           "linecolor": "white",
           "ticks": "",
           "title": {
            "standoff": 15
           },
           "zerolinecolor": "white",
           "zerolinewidth": 2
          }
         }
        },
        "title": {
         "text": "Number of Hotels"
        },
        "width": 1100
       }
      }
     },
     "metadata": {},
     "output_type": "display_data"
    }
   ],
   "source": [
    "choropleth_data2 = hotels.groupby('hotel_country_code')['reviewer_score'].mean()\n",
    "fig = px.choropleth(\n",
    "    data_frame=choropleth_data2,\n",
    "    locations=choropleth_data2.index,\n",
    "    locationmode = 'ISO-3',\n",
    "    color='reviewer_score',\n",
    "    range_color=[8.3, 8.6], \n",
    "    title='Number of Hotels', \n",
    "    width=1100, \n",
    "    height=700, \n",
    "    color_continuous_scale=[[0, 'rgb(255,0,0)'], [1, 'rgb(0,255,0)']]\n",
    ")\n",
    "\n",
    "fig.show()"
   ]
  },
  {
   "cell_type": "code",
   "execution_count": 520,
   "metadata": {},
   "outputs": [],
   "source": [
    "hotels = hotels.drop('hotel_address', axis=1)"
   ]
  },
  {
   "cell_type": "code",
   "execution_count": 521,
   "metadata": {},
   "outputs": [
    {
     "data": {
      "text/plain": [
       "<AxesSubplot: xlabel='review_date', ylabel='reviewer_score'>"
      ]
     },
     "execution_count": 521,
     "metadata": {},
     "output_type": "execute_result"
    },
    {
     "data": {
      "image/png": "[encoded data removed]",
      "text/plain": [
       "<Figure size 1600x500 with 1 Axes>"
      ]
     },
     "metadata": {},
     "output_type": "display_data"
    }
   ],
   "source": [
    "import matplotlib.pyplot as plt\n",
    "import seaborn as sns\n",
    "\n",
    "date = hotels.groupby('review_date')['reviewer_score'].count()\n",
    "fig = plt.figure(figsize=(16, 5))\n",
    "sns.lineplot(data=date)"
   ]
  },
  {
   "attachments": {},
   "cell_type": "markdown",
   "metadata": {},
   "source": [
    "Dates"
   ]
  },
  {
   "cell_type": "code",
   "execution_count": 522,
   "metadata": {},
   "outputs": [
    {
     "data": {
      "text/plain": [
       "<AxesSubplot: xlabel='review_date', ylabel='reviewer_score'>"
      ]
     },
     "execution_count": 522,
     "metadata": {},
     "output_type": "execute_result"
    },
    {
     "data": {
      "image/png": "[encoded data removed]",
      "text/plain": [
       "<Figure size 1600x500 with 1 Axes>"
      ]
     },
     "metadata": {},
     "output_type": "display_data"
    }
   ],
   "source": [
    "date2 = hotels.groupby('review_date')['reviewer_score'].mean()\n",
    "fig = plt.figure(figsize=(16, 5))\n",
    "sns.lineplot(data=date2)"
   ]
  },
  {
   "attachments": {},
   "cell_type": "markdown",
   "metadata": {},
   "source": [
    "Dates2"
   ]
  },
  {
   "cell_type": "code",
   "execution_count": 523,
   "metadata": {},
   "outputs": [
    {
     "data": {
      "text/plain": [
       "<AxesSubplot: xlabel='reviewer_score', ylabel='Count'>"
      ]
     },
     "execution_count": 523,
     "metadata": {},
     "output_type": "execute_result"
    },
    {
     "data": {
      "image/png": "[encoded data removed]",
      "text/plain": [
       "<Figure size 1500x500 with 1 Axes>"
      ]
     },
     "metadata": {},
     "output_type": "display_data"
    }
   ],
   "source": [
    "fig = plt.figure(figsize=(15,5))\n",
    "sns.histplot(data=hotels,x='reviewer_score', bins=19)"
   ]
  },
  {
   "cell_type": "markdown",
   "metadata": {},
   "source": []
  },
  {
   "cell_type": "code",
   "execution_count": 524,
   "metadata": {},
   "outputs": [],
   "source": [
    "country = pd.read_csv('data/country-codes.csv')"
   ]
  },
  {
   "cell_type": "code",
   "execution_count": 525,
   "metadata": {},
   "outputs": [
    {
     "data": {
      "text/html": [
       "<div>\n",
       "<style scoped>\n",
       "    .dataframe tbody tr th:only-of-type {\n",
       "        vertical-align: middle;\n",
       "    }\n",
       "\n",
       "    .dataframe tbody tr th {\n",
       "        vertical-align: top;\n",
       "    }\n",
       "\n",
       "    .dataframe thead th {\n",
       "        text-align: right;\n",
       "    }\n",
       "</style>\n",
       "<table border=\"1\" class=\"dataframe\">\n",
       "  <thead>\n",
       "    <tr style=\"text-align: right;\">\n",
       "      <th></th>\n",
       "      <th>ISO3166-1-Alpha-3</th>\n",
       "      <th>ISO3166-1-numeric</th>\n",
       "    </tr>\n",
       "  </thead>\n",
       "  <tbody>\n",
       "    <tr>\n",
       "      <th>0</th>\n",
       "      <td>TWN</td>\n",
       "      <td>158.0</td>\n",
       "    </tr>\n",
       "    <tr>\n",
       "      <th>1</th>\n",
       "      <td>AFG</td>\n",
       "      <td>4.0</td>\n",
       "    </tr>\n",
       "    <tr>\n",
       "      <th>2</th>\n",
       "      <td>ALB</td>\n",
       "      <td>8.0</td>\n",
       "    </tr>\n",
       "    <tr>\n",
       "      <th>3</th>\n",
       "      <td>DZA</td>\n",
       "      <td>12.0</td>\n",
       "    </tr>\n",
       "    <tr>\n",
       "      <th>4</th>\n",
       "      <td>ASM</td>\n",
       "      <td>16.0</td>\n",
       "    </tr>\n",
       "  </tbody>\n",
       "</table>\n",
       "</div>"
      ],
      "text/plain": [
       "  ISO3166-1-Alpha-3  ISO3166-1-numeric\n",
       "0               TWN              158.0\n",
       "1               AFG                4.0\n",
       "2               ALB                8.0\n",
       "3               DZA               12.0\n",
       "4               ASM               16.0"
      ]
     },
     "execution_count": 525,
     "metadata": {},
     "output_type": "execute_result"
    }
   ],
   "source": [
    "country = country.drop(columns=country.iloc[:, 6:]) \n",
    "country = country.drop(columns=country.iloc[:, 3:5])\n",
    "country = country.drop(columns=country.iloc[:, 0:2]) \n",
    "country.head()"
   ]
  },
  {
   "cell_type": "code",
   "execution_count": 526,
   "metadata": {},
   "outputs": [
    {
     "name": "stdout",
     "output_type": "stream",
     "text": [
      "<class 'pandas.core.frame.DataFrame'>\n",
      "Int64Index: 386492 entries, 0 to 386491\n",
      "Data columns (total 20 columns):\n",
      " #   Column                                      Non-Null Count   Dtype         \n",
      "---  ------                                      --------------   -----         \n",
      " 0   additional_number_of_scoring                386492 non-null  int64         \n",
      " 1   review_date                                 386492 non-null  datetime64[ns]\n",
      " 2   average_score                               386492 non-null  float64       \n",
      " 3   hotel_name                                  386492 non-null  object        \n",
      " 4   negative_review                             386492 non-null  object        \n",
      " 5   review_total_negative_word_counts           386492 non-null  int64         \n",
      " 6   total_number_of_reviews                     386492 non-null  int64         \n",
      " 7   positive_review                             386492 non-null  object        \n",
      " 8   review_total_positive_word_counts           386492 non-null  int64         \n",
      " 9   total_number_of_reviews_reviewer_has_given  386492 non-null  int64         \n",
      " 10  reviewer_score                              386492 non-null  float64       \n",
      " 11  tags                                        386492 non-null  object        \n",
      " 12  days_since_review                           386492 non-null  object        \n",
      " 13  lat                                         384044 non-null  float64       \n",
      " 14  lng                                         384044 non-null  float64       \n",
      " 15  country_code                                386492 non-null  object        \n",
      " 16  hotel_country                               386492 non-null  int32         \n",
      " 17  hotel_country_code                          386492 non-null  object        \n",
      " 18  ISO3166-1-Alpha-3                           386492 non-null  object        \n",
      " 19  ISO3166-1-numeric                           386492 non-null  float64       \n",
      "dtypes: datetime64[ns](1), float64(5), int32(1), int64(5), object(8)\n",
      "memory usage: 60.4+ MB\n"
     ]
    }
   ],
   "source": [
    "hotels = hotels.merge(country, left_on='country_code', right_on='ISO3166-1-Alpha-3', how='left')"
   ]
  },
  {
   "cell_type": "code",
   "execution_count": 528,
   "metadata": {},
   "outputs": [
    {
     "data": {
      "text/plain": [
       "826    184347\n",
       "840     26494\n",
       "36      16216\n",
       "372     11119\n",
       "784      7612\n",
       "        ...  \n",
       "184         1\n",
       "535         1\n",
       "728         1\n",
       "798         1\n",
       "308         1\n",
       "Name: ISO3166-1-numeric, Length: 217, dtype: int64"
      ]
     },
     "execution_count": 528,
     "metadata": {},
     "output_type": "execute_result"
    }
   ],
   "source": [
    "hotels['ISO3166-1-numeric'] = hotels['ISO3166-1-numeric'].astype(int)"
   ]
  },
  {
   "cell_type": "code",
   "execution_count": 529,
   "metadata": {},
   "outputs": [],
   "source": [
    "hotels = hotels.rename(columns={'ISO3166-1-Alpha-3': 'reviewer_country_code', 'ISO3166-1-numeric': 'reviewer_country_numeric_code'})"
   ]
  },
  {
   "cell_type": "code",
   "execution_count": 530,
   "metadata": {},
   "outputs": [],
   "source": [
    "hotels['review_date'] = pd.to_datetime(hotels['review_date'], format='%Y%m%d').dt.strftime('%Y%m%d')"
   ]
  },
  {
   "cell_type": "code",
   "execution_count": 531,
   "metadata": {},
   "outputs": [],
   "source": [
    "hotels['review_date'] = hotels['review_date'].astype(int)"
   ]
  },
  {
   "cell_type": "code",
   "execution_count": 532,
   "metadata": {},
   "outputs": [
    {
     "name": "stdout",
     "output_type": "stream",
     "text": [
      "<class 'pandas.core.frame.DataFrame'>\n",
      "Int64Index: 386492 entries, 0 to 386491\n",
      "Data columns (total 20 columns):\n",
      " #   Column                                      Non-Null Count   Dtype  \n",
      "---  ------                                      --------------   -----  \n",
      " 0   additional_number_of_scoring                386492 non-null  int64  \n",
      " 1   review_date                                 386492 non-null  int32  \n",
      " 2   average_score                               386492 non-null  float64\n",
      " 3   hotel_name                                  386492 non-null  object \n",
      " 4   negative_review                             386492 non-null  object \n",
      " 5   review_total_negative_word_counts           386492 non-null  int64  \n",
      " 6   total_number_of_reviews                     386492 non-null  int64  \n",
      " 7   positive_review                             386492 non-null  object \n",
      " 8   review_total_positive_word_counts           386492 non-null  int64  \n",
      " 9   total_number_of_reviews_reviewer_has_given  386492 non-null  int64  \n",
      " 10  reviewer_score                              386492 non-null  float64\n",
      " 11  tags                                        386492 non-null  object \n",
      " 12  days_since_review                           386492 non-null  object \n",
      " 13  lat                                         384044 non-null  float64\n",
      " 14  lng                                         384044 non-null  float64\n",
      " 15  country_code                                386492 non-null  object \n",
      " 16  hotel_country                               386492 non-null  int32  \n",
      " 17  hotel_country_code                          386492 non-null  object \n",
      " 18  reviewer_country_code                       386492 non-null  object \n",
      " 19  reviewer_country_numeric_code               386492 non-null  int32  \n",
      "dtypes: float64(4), int32(3), int64(5), object(8)\n",
      "memory usage: 57.5+ MB\n"
     ]
    }
   ],
   "source": [
    "hotels.info()"
   ]
  },
  {
   "cell_type": "code",
   "execution_count": null,
   "metadata": {},
   "outputs": [],
   "source": [
    "# # убираем признаки которые еще не успели обработать, \n",
    "# # модель на признаках с dtypes \"object\" обучаться не будет, просто выберим их и удалим\n",
    "object_columns = [s for s in hotels.columns if hotels[s].dtypes == 'object']\n",
    "hotels.drop(object_columns, axis = 1, inplace=True)\n",
    "\n",
    "# заполняем пропуски самым простым способом\n",
    "hotels = hotels.fillna(0)"
   ]
  },
  {
   "cell_type": "code",
   "execution_count": null,
   "metadata": {},
   "outputs": [],
   "source": [
    "# Разбиваем датафрейм на части, необходимые для обучения и тестирования модели  \n",
    "# Х — данные с информацией об отелях, у — целевая переменная (рейтинги отелей)  \n",
    "X = hotels.drop(['reviewer_score'], axis = 1)  \n",
    "y = hotels['reviewer_score']  "
   ]
  },
  {
   "cell_type": "code",
   "execution_count": null,
   "metadata": {},
   "outputs": [],
   "source": [
    "# Загружаем специальный инструмент для разбивки:  \n",
    "from sklearn.model_selection import train_test_split  "
   ]
  },
  {
   "cell_type": "code",
   "execution_count": null,
   "metadata": {},
   "outputs": [],
   "source": [
    "# Наборы данных с меткой \"train\" будут использоваться для обучения модели, \"test\" — для тестирования.  \n",
    "# Для тестирования мы будем использовать 25 % от исходного датасета.  \n",
    "X_train, X_test, y_train, y_test = train_test_split(X, y, test_size=0.25, random_state=42)"
   ]
  },
  {
   "cell_type": "code",
   "execution_count": null,
   "metadata": {},
   "outputs": [],
   "source": [
    "# Импортируем необходимые библиотеки:  \n",
    "from sklearn.ensemble import RandomForestRegressor # инструмент для создания и обучения модели  \n",
    "from sklearn import metrics # инструменты для оценки точности модели"
   ]
  },
  {
   "cell_type": "code",
   "execution_count": null,
   "metadata": {},
   "outputs": [],
   "source": [
    "# Создаём модель  \n",
    "regr = RandomForestRegressor(n_estimators=100)"
   ]
  },
  {
   "cell_type": "code",
   "execution_count": null,
   "metadata": {},
   "outputs": [],
   "source": [
    "# Обучаем модель на тестовом наборе данных  \n",
    "regr.fit(X_train, y_train) \n",
    "# Используем обученную модель для предсказания рейтинга отелей в тестовой выборке.  \n",
    "# Предсказанные значения записываем в переменную y_pred  \n",
    "y_pred = regr.predict(X_test)"
   ]
  },
  {
   "cell_type": "code",
   "execution_count": null,
   "metadata": {},
   "outputs": [
    {
     "name": "stdout",
     "output_type": "stream",
     "text": [
      "MAPE: 0.135890471944152\n"
     ]
    }
   ],
   "source": [
    "# Сравниваем предсказанные значения (y_pred) с реальными (y_test) и смотрим, насколько они отличаются  \n",
    "# Метрика называется Mean Absolute Percentage Error (MAPE) и показывает среднюю абсолютную процентную ошибку предсказанных значений в отношении фактических.  \n",
    "print('MAPE:', metrics.mean_absolute_percentage_error(y_test, y_pred))"
   ]
  }
 ],
 "metadata": {
  "kernelspec": {
   "display_name": "Python 3",
   "language": "python",
   "name": "python3"
  },
  "language_info": {
   "codemirror_mode": {
    "name": "ipython",
    "version": 3
   },
   "file_extension": ".py",
   "mimetype": "text/x-python",
   "name": "python",
   "nbconvert_exporter": "python",
   "pygments_lexer": "ipython3",
   "version": "3.10.5"
  },
  "orig_nbformat": 4,
  "vscode": {
   "interpreter": {
    "hash": "e9d51b002e47cd8f8b04d9faed033f591ac84a07f04044c78e9bcf9186acbbf0"
   }
  }
 },
 "nbformat": 4,
 "nbformat_minor": 2
}
