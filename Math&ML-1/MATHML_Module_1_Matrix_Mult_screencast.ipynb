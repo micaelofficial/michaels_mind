{
 "cells": [
  {
   "cell_type": "code",
   "execution_count": 28,
   "metadata": {
    "collapsed": true
   },
   "outputs": [],
   "source": [
    "import numpy as np"
   ]
  },
  {
   "cell_type": "code",
   "execution_count": 29,
   "metadata": {
    "collapsed": true
   },
   "outputs": [],
   "source": [
    "# произведение матриц\n",
    "A=np.random.randint(5, 12, (3,3))\n",
    "B=np.random.randint(-2, 4, (3,3))"
   ]
  },
  {
   "cell_type": "code",
   "execution_count": 30,
   "metadata": {
    "collapsed": false
   },
   "outputs": [
    {
     "data": {
      "text/plain": [
       "array([[ 5,  5, 11],\n",
       "       [ 6, 10,  7],\n",
       "       [11, 11,  8]])"
      ]
     },
     "execution_count": 30,
     "metadata": {},
     "output_type": "execute_result"
    }
   ],
   "source": [
    "A"
   ]
  },
  {
   "cell_type": "code",
   "execution_count": 31,
   "metadata": {
    "collapsed": false
   },
   "outputs": [
    {
     "data": {
      "text/plain": [
       "array([[-1, -1, -2],\n",
       "       [ 3, -1, -2],\n",
       "       [-2,  1, -1]])"
      ]
     },
     "execution_count": 31,
     "metadata": {},
     "output_type": "execute_result"
    }
   ],
   "source": [
    "B"
   ]
  },
  {
   "cell_type": "code",
   "execution_count": 32,
   "metadata": {
    "collapsed": false
   },
   "outputs": [
    {
     "data": {
      "text/plain": [
       "array([[ -5,  -5, -22],\n",
       "       [ 18, -10, -14],\n",
       "       [-22,  11,  -8]])"
      ]
     },
     "execution_count": 32,
     "metadata": {},
     "output_type": "execute_result"
    }
   ],
   "source": [
    "# Поэлементное умножение\n",
    "A*B"
   ]
  },
  {
   "cell_type": "code",
   "execution_count": 33,
   "metadata": {
    "collapsed": false
   },
   "outputs": [
    {
     "name": "stdout",
     "output_type": "stream",
     "text": [
      "[[-12   1 -31]\n",
      " [ 10  -9 -39]\n",
      " [  6 -14 -52]]\n"
     ]
    }
   ],
   "source": [
    "# тип np.matrix\n",
    "A_m=np.matrix(A)\n",
    "B_m=np.matrix(B)\n",
    "print(A_m*B_m)"
   ]
  },
  {
   "cell_type": "code",
   "execution_count": 34,
   "metadata": {
    "collapsed": false
   },
   "outputs": [
    {
     "data": {
      "text/plain": [
       "array([[-12,   1, -31],\n",
       "       [ 10,  -9, -39],\n",
       "       [  6, -14, -52]])"
      ]
     },
     "execution_count": 34,
     "metadata": {},
     "output_type": "execute_result"
    }
   ],
   "source": [
    "# Матричное умножение\n",
    "np.dot(A,B)"
   ]
  },
  {
   "cell_type": "code",
   "execution_count": 35,
   "metadata": {
    "collapsed": false
   },
   "outputs": [
    {
     "data": {
      "text/plain": [
       "array([[-12,   1, -31],\n",
       "       [ 10,  -9, -39],\n",
       "       [  6, -14, -52]])"
      ]
     },
     "execution_count": 35,
     "metadata": {},
     "output_type": "execute_result"
    }
   ],
   "source": [
    "# Матричное умножение\n",
    "A@B"
   ]
  },
  {
   "cell_type": "code",
   "execution_count": 36,
   "metadata": {
    "collapsed": false
   },
   "outputs": [
    {
     "data": {
      "text/plain": [
       "array([[-33, -37, -34],\n",
       "       [-13, -17,  10],\n",
       "       [-15, -11, -23]])"
      ]
     },
     "execution_count": 36,
     "metadata": {},
     "output_type": "execute_result"
    }
   ],
   "source": [
    "# Порядок умножения AB != BA\n",
    "B@A"
   ]
  },
  {
   "cell_type": "code",
   "execution_count": 37,
   "metadata": {
    "collapsed": false
   },
   "outputs": [
    {
     "name": "stdout",
     "output_type": "stream",
     "text": [
      "A:\n",
      " [[ 7  8  9  9  7]\n",
      " [ 8 10  6  9 10]\n",
      " [ 7  6 11  5  7]]\n",
      "B:\n",
      " [[ 0  3]\n",
      " [ 1  3]\n",
      " [ 0  2]\n",
      " [-2  3]\n",
      " [ 3 -2]]\n"
     ]
    }
   ],
   "source": [
    "# Умножение прямоугольных матриц возможно не в любом порядке\n",
    "A=np.random.randint(5, 12, (3,5))\n",
    "B=np.random.randint(-2, 4, (5,2))\n",
    "print('A:\\n',A)\n",
    "print('B:\\n',B)"
   ]
  },
  {
   "cell_type": "code",
   "execution_count": 38,
   "metadata": {
    "collapsed": false
   },
   "outputs": [
    {
     "data": {
      "text/plain": [
       "array([[11, 76],\n",
       "       [22, 73],\n",
       "       [17, 62]])"
      ]
     },
     "execution_count": 38,
     "metadata": {},
     "output_type": "execute_result"
    }
   ],
   "source": [
    "# Умножение прямоугольных матриц возможно не в любом порядке\n",
    "A@B"
   ]
  },
  {
   "cell_type": "code",
   "execution_count": 39,
   "metadata": {
    "collapsed": false
   },
   "outputs": [
    {
     "ename": "ValueError",
     "evalue": "matmul: Input operand 1 has a mismatch in its core dimension 0, with gufunc signature (n?,k),(k,m?)->(n?,m?) (size 3 is different from 2)",
     "output_type": "error",
     "traceback": [
      "\u001b[1;31m---------------------------------------------------------------------------\u001b[0m",
      "\u001b[1;31mValueError\u001b[0m                                Traceback (most recent call last)",
      "Cell \u001b[1;32mIn[39], line 2\u001b[0m\n\u001b[0;32m      1\u001b[0m \u001b[38;5;66;03m# Умножение прямоугольных матриц возможно не в любом порядке\u001b[39;00m\n\u001b[1;32m----> 2\u001b[0m \u001b[43mB\u001b[49m\u001b[38;5;129;43m@A\u001b[39;49m\n",
      "\u001b[1;31mValueError\u001b[0m: matmul: Input operand 1 has a mismatch in its core dimension 0, with gufunc signature (n?,k),(k,m?)->(n?,m?) (size 3 is different from 2)"
     ]
    }
   ],
   "source": [
    "# Умножение прямоугольных матриц возможно не в любом порядке\n",
    "B@A"
   ]
  },
  {
   "cell_type": "code",
   "execution_count": null,
   "metadata": {
    "collapsed": false
   },
   "outputs": [],
   "source": [
    "# размер произведения матриц\n",
    "print('shape of A:', np.shape(A))\n",
    "print('shape of B:', np.shape(B))\n",
    "print('shape of AB:', np.shape(A@B))"
   ]
  },
  {
   "cell_type": "code",
   "execution_count": null,
   "metadata": {
    "collapsed": false
   },
   "outputs": [],
   "source": [
    "# умножение на специальные матрицы\n",
    "A=np.random.randint(-4, 4, (4,4))\n",
    "D=np.diag([1,2,0,-1])\n",
    "print('A:\\n',A)\n",
    "print('D:\\n',D)\n",
    "print('AD:\\n',A@D)\n",
    "print('DA:\\n',D@A)"
   ]
  },
  {
   "cell_type": "code",
   "execution_count": null,
   "metadata": {
    "collapsed": false
   },
   "outputs": [],
   "source": [
    "# умножение на одномерный массив numpy\n",
    "A=np.array([[1,0,1],[1,1,1]])\n",
    "b=np.array([-3,4,5])\n",
    "A@b"
   ]
  },
  {
   "cell_type": "code",
   "execution_count": null,
   "metadata": {
    "collapsed": false
   },
   "outputs": [],
   "source": [
    "b@A"
   ]
  },
  {
   "cell_type": "code",
   "execution_count": null,
   "metadata": {
    "collapsed": false
   },
   "outputs": [],
   "source": [
    "# матрица Грама ортогональной системы векторов\n",
    "x=np.array([1,1,1])\n",
    "y=np.array([1,0,-1])\n",
    "z=np.array([-1,2,-1])\n",
    "A=np.array([x,y,z])\n",
    "print (A, type(A))"
   ]
  },
  {
   "cell_type": "code",
   "execution_count": null,
   "metadata": {
    "collapsed": false
   },
   "outputs": [],
   "source": [
    "# матрица Грама ортогональной системы векторов\n",
    "A@A.T"
   ]
  },
  {
   "cell_type": "code",
   "execution_count": null,
   "metadata": {
    "collapsed": false
   },
   "outputs": [],
   "source": [
    "# матрица Грама ортонормированной системы векторов\n",
    "x_norm=x/np.linalg.norm(x)\n",
    "y_norm=y/np.linalg.norm(y)\n",
    "z_norm=z/np.linalg.norm(z)\n",
    "A_norm=np.array([x_norm,y_norm,z_norm])\n",
    "print (A_norm, type(A_norm))"
   ]
  },
  {
   "cell_type": "code",
   "execution_count": null,
   "metadata": {
    "collapsed": false
   },
   "outputs": [],
   "source": [
    "# матрица Грама ортонормированной системы векторов\n",
    "A_norm@A_norm.T"
   ]
  },
  {
   "cell_type": "code",
   "execution_count": null,
   "metadata": {
    "collapsed": false
   },
   "outputs": [],
   "source": [
    "# ортонормированные системы рулят! :)\n",
    "np.round(A_norm@A_norm.T,1)"
   ]
  },
  {
   "cell_type": "code",
   "execution_count": null,
   "metadata": {},
   "outputs": [
    {
     "name": "stdout",
     "output_type": "stream",
     "text": [
      "26,30\n"
     ]
    }
   ],
   "source": [
    "import numpy as np\n",
    "\n",
    "# Заданные матрица A и вектор x\n",
    "A = np.array([[5, -1, 3, 1, 2],\n",
    "              [-2, 8, 5, -1, 1]])\n",
    "x = np.array([1, 2, 3, 4, 5])\n",
    "\n",
    "# Умножение матрицы A на вектор x\n",
    "result_vector = np.dot(A, x)\n",
    "\n",
    "# Вывод результата в виде координат через запятую\n",
    "print(','.join(map(str, result_vector)))\n"
   ]
  },
  {
   "cell_type": "code",
   "execution_count": null,
   "metadata": {},
   "outputs": [
    {
     "name": "stdout",
     "output_type": "stream",
     "text": [
      "14\n"
     ]
    }
   ],
   "source": [
    "import numpy as np\n",
    "\n",
    "# Заданные матрицы A и B\n",
    "A = np.array([[1, 9, 8, 5],\n",
    "              [3, 6, 3, 2],\n",
    "              [3, 3, 3, 3],\n",
    "              [0, 2, 5, 9],\n",
    "              [4, 4, 1, 2]])\n",
    "\n",
    "B = np.array([[1, -1, 0, 1, 1],\n",
    "              [-2, 0, 2, -1, 1]])\n",
    "\n",
    "# Умножение матрицы B на матрицу A\n",
    "result_matrix = np.dot(B, A)\n",
    "\n",
    "# Извлечение элемента в четвертом столбце первой строки результата\n",
    "element_14 = result_matrix[0, 3]\n",
    "\n",
    "# Вывод результата (элемента в четвертом столбце первой строки)\n",
    "print(int(element_14))  # Преобразуем к целому числу и выводим\n",
    "\n"
   ]
  },
  {
   "cell_type": "code",
   "execution_count": null,
   "metadata": {},
   "outputs": [
    {
     "name": "stdout",
     "output_type": "stream",
     "text": [
      "Матрица A:\n",
      "[[ 1  2  1  0  4]\n",
      " [ 2  1 -1  1  0]\n",
      " [-1  1 -1  0  0]]\n"
     ]
    }
   ],
   "source": [
    "import numpy as np\n",
    "\n",
    "# Заданные векторы\n",
    "x = np.array([1, 2, 1, 0, 4])\n",
    "y = np.array([2, 1, -1, 1, 0])\n",
    "z = np.array([-1, 1, -1, 0, 0])\n",
    "\n",
    "# Составляем матрицу A, где каждый вектор - строка матрицы\n",
    "A = np.array([x, y, z])\n",
    "\n",
    "print(\"Матрица A:\")\n",
    "print(A)\n"
   ]
  },
  {
   "cell_type": "code",
   "execution_count": null,
   "metadata": {},
   "outputs": [
    {
     "name": "stdout",
     "output_type": "stream",
     "text": [
      "Матрица Грама G:\n",
      "[[ 6  3  0  2  4]\n",
      " [ 3  6  0  1  8]\n",
      " [ 0  0  3 -1  4]\n",
      " [ 2  1 -1  1  0]\n",
      " [ 4  8  4  0 16]]\n"
     ]
    }
   ],
   "source": [
    "# Находим матрицу Грама G (скалярные произведения столбцов матрицы A)\n",
    "G = np.dot(A.T, A)\n",
    "\n",
    "print(\"Матрица Грама G:\")\n",
    "print(G)\n"
   ]
  },
  {
   "cell_type": "code",
   "execution_count": null,
   "metadata": {},
   "outputs": [
    {
     "name": "stdout",
     "output_type": "stream",
     "text": [
      "Вектор дохода салона по стилистам:\n",
      "Аня      11.30\n",
      "Борис    15.22\n",
      "Вика     11.90\n",
      "Галя     20.60\n",
      "Дима     41.90\n",
      "Егор     21.20\n",
      "Женя     11.49\n",
      "Юра      38.25\n",
      "dtype: float64\n"
     ]
    }
   ],
   "source": [
    "import pandas as pd\n",
    "import numpy as np\n",
    "\n",
    "# Заданные данные в виде DataFrame\n",
    "Count_DF = pd.DataFrame({\n",
    "    'Женские стрижки': [10, 2, 12, 4, 6, 10, 22, 7], \n",
    "    'Мужские стрижки': [5, 21, 12, 8, 25, 3, 1, 0], \n",
    "    'Окрашивания': [12, 3, 0, 18, 27, 2, 4, 31],\n",
    "    'Укладка': [15, 25, 30, 14, 25, 17, 25, 31],\n",
    "    'Уход': [10, 6, 4, 5, 18, 12, 20, 28]\n",
    "}, index=['Аня', 'Борис', 'Вика', 'Галя', 'Дима', 'Егор', 'Женя', 'Юра'])\n",
    "\n",
    "Price_DF = pd.DataFrame({\n",
    "    'Женские стрижки': [2, 1.8, 2, 1.8, 2.5, 5, 1.1, 4.5], \n",
    "    'Мужские стрижки': [1.5, 2.5, 2, 1.2, 3.5, 5, 1, 4], \n",
    "    'Окрашивания': [1, 1, 0, 2.8, 2, 3, 1.5, 2.5],\n",
    "    'Укладка': [0.8, 1, 0.5, 0.8, 1, 2, 0.5, 1],\n",
    "    'Уход': [1, 1, 2, 2, 1.5, 2.5, 1.7, 2] \n",
    "}, index=['Аня', 'Борис', 'Вика', 'Галя', 'Дима', 'Егор', 'Женя', 'Юра'])\n",
    "\n",
    "# Вектор комиссий\n",
    "com = np.array([0.2, 0.2, 0.3, 0.1, 0.1])\n",
    "\n",
    "# Вычисление дохода салона для каждого стилиста с учетом комиссий\n",
    "# Умножаем стоимость услуги на количество услуг и  комиссию\n",
    "revenue = (Price_DF * Count_DF * com).sum(axis=1)\n",
    "\n",
    "# Вывод вектора дохода салона\n",
    "print(\"Вектор дохода салона по стилистам:\")\n",
    "print(revenue)\n"
   ]
  },
  {
   "cell_type": "code",
   "execution_count": null,
   "metadata": {},
   "outputs": [
    {
     "name": "stdout",
     "output_type": "stream",
     "text": [
      "Вектор дохода стилистов с учетом комиссий:\n",
      "Аня       50.20\n",
      "Борис     74.88\n",
      "Вика      59.10\n",
      "Галя      67.80\n",
      "Дима     166.60\n",
      "Егор     113.80\n",
      "Женя      66.21\n",
      "Юра      157.75\n",
      "dtype: float64\n"
     ]
    }
   ],
   "source": [
    "# Вычисление дохода для каждого стилиста с учетом комиссий\n",
    "# Умножаем стоимость услуги на количество услуг и (1 - комиссия)\n",
    "revenue = (Price_DF * Count_DF * (1 - com)).sum(axis=1)\n",
    "\n",
    "# Вывод вектора дохода стилиста\n",
    "print(\"Вектор дохода стилистов с учетом комиссий:\")\n",
    "print(revenue)"
   ]
  }
 ],
 "metadata": {
  "kernelspec": {
   "display_name": "Python 3",
   "language": "python",
   "name": "python3"
  },
  "language_info": {
   "codemirror_mode": {
    "name": "ipython",
    "version": 3
   },
   "file_extension": ".py",
   "mimetype": "text/x-python",
   "name": "python",
   "nbconvert_exporter": "python",
   "pygments_lexer": "ipython3",
   "version": "3.11.9"
  }
 },
 "nbformat": 4,
 "nbformat_minor": 2
}
