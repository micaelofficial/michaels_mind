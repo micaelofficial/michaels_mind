{
 "cells": [
  {
   "cell_type": "code",
   "execution_count": null,
   "metadata": {},
   "outputs": [],
   "source": [
    "import pandas as pd\n",
    "ufo = "
   ]
  }
 ],
 "metadata": {
  "kernelspec": {
   "display_name": "Python 3.10.5 64-bit",
   "language": "python",
   "name": "python3"
  },
  "language_info": {
   "name": "python",
   "version": "3.10.5"
  },
  "orig_nbformat": 4,
  "vscode": {
   "interpreter": {
    "hash": "e9d51b002e47cd8f8b04d9faed033f591ac84a07f04044c78e9bcf9186acbbf0"
   }
  }
 },
 "nbformat": 4,
 "nbformat_minor": 2
}
